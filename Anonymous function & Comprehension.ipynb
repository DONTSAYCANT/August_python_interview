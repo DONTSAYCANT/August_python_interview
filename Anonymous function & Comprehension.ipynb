{
 "cells": [
  {
   "cell_type": "markdown",
   "metadata": {},
   "source": [
    "## Lambda"
   ]
  },
  {
   "cell_type": "code",
   "execution_count": null,
   "metadata": {},
   "outputs": [],
   "source": [
    "https://www.programiz.com/python-programming/anonymous-function\n",
    "https://www.geeksforgeeks.org/python-lambda-anonymous-functions-filter-map-reduce/"
   ]
  },
  {
   "cell_type": "code",
   "execution_count": 1,
   "metadata": {},
   "outputs": [
    {
     "name": "stdout",
     "output_type": "stream",
     "text": [
      "1000\n"
     ]
    }
   ],
   "source": [
    "def cube(val):\n",
    "    return val ** 3\n",
    "\n",
    "print(cube(10))"
   ]
  },
  {
   "cell_type": "code",
   "execution_count": 2,
   "metadata": {},
   "outputs": [
    {
     "name": "stdout",
     "output_type": "stream",
     "text": [
      "1000\n"
     ]
    }
   ],
   "source": [
    "cube = lambda g: g**3\n",
    "print(cube(10))\n",
    "\n",
    "#lambda ==> key word for creating anonymous function"
   ]
  },
  {
   "cell_type": "code",
   "execution_count": 3,
   "metadata": {},
   "outputs": [
    {
     "name": "stdout",
     "output_type": "stream",
     "text": [
      "<function <lambda> at 0x0000028924B51708>\n"
     ]
    }
   ],
   "source": [
    "print(lambda g: g**3)"
   ]
  },
  {
   "cell_type": "code",
   "execution_count": 4,
   "metadata": {},
   "outputs": [
    {
     "name": "stdout",
     "output_type": "stream",
     "text": [
      "rvgkl\n"
     ]
    }
   ],
   "source": [
    "string_add = lambda g,f:g[::2]+f[::2]\n",
    "print(string_add(\"ravi\",\"gokul\"))"
   ]
  },
  {
   "cell_type": "markdown",
   "metadata": {},
   "source": [
    "## Filter / Map"
   ]
  },
  {
   "cell_type": "code",
   "execution_count": 9,
   "metadata": {},
   "outputs": [
    {
     "name": "stdout",
     "output_type": "stream",
     "text": [
      "[100, 121, 144, 169, 196, 225]\n"
     ]
    }
   ],
   "source": [
    "List1 = [10,11,12,13,14,15]\n",
    "sq = []\n",
    "\n",
    "for i in List1:\n",
    "    sq.append(i**2)\n",
    "print(sq)"
   ]
  },
  {
   "cell_type": "code",
   "execution_count": 10,
   "metadata": {},
   "outputs": [
    {
     "name": "stdout",
     "output_type": "stream",
     "text": [
      "[10, 11, 12, 13, 14, 15, 16, 17, 18, 19]\n"
     ]
    }
   ],
   "source": [
    "print(list(range(10,20)))"
   ]
  },
  {
   "cell_type": "code",
   "execution_count": 12,
   "metadata": {},
   "outputs": [
    {
     "name": "stdout",
     "output_type": "stream",
     "text": [
      "[100, 121, 144, 169, 196, 225, 256, 289, 324, 361, 400]\n"
     ]
    }
   ],
   "source": [
    "List1 = [10,11,12,13,14,15]\n",
    "\n",
    "value = list(map(lambda x:x**2 , range(10,21)))\n",
    "\n",
    "print(value)\n",
    "\n",
    "#map(functionality, Data strucuture)"
   ]
  },
  {
   "cell_type": "code",
   "execution_count": 8,
   "metadata": {},
   "outputs": [
    {
     "name": "stdout",
     "output_type": "stream",
     "text": [
      "[1000, 1331, 1728, 2197, 2744, 3375]\n"
     ]
    }
   ],
   "source": [
    "def cube(val):\n",
    "    return val**3\n",
    "\n",
    "List1 = [10,11,12,13,14,15]\n",
    "\n",
    "value = list(map(cube , List1))\n",
    "\n",
    "print(value)"
   ]
  },
  {
   "cell_type": "code",
   "execution_count": 6,
   "metadata": {},
   "outputs": [
    {
     "name": "stdout",
     "output_type": "stream",
     "text": [
      "[10, 12, 14]\n"
     ]
    }
   ],
   "source": [
    "List1 = [10,11,12,13,14,15]\n",
    "\n",
    "value = list(filter(lambda x:x%2==0 , List1))\n",
    "\n",
    "print(value)"
   ]
  },
  {
   "cell_type": "code",
   "execution_count": 13,
   "metadata": {},
   "outputs": [
    {
     "name": "stdout",
     "output_type": "stream",
     "text": [
      "[10, 12, 14]\n"
     ]
    }
   ],
   "source": [
    "def even_check(val):\n",
    "    return val%2==0\n",
    "\n",
    "List1 = [10,11,12,13,14,15]\n",
    "\n",
    "value = list(filter(even_check , List1))\n",
    "\n",
    "print(value)"
   ]
  },
  {
   "cell_type": "code",
   "execution_count": 15,
   "metadata": {},
   "outputs": [
    {
     "name": "stdout",
     "output_type": "stream",
     "text": [
      "2520\n"
     ]
    }
   ],
   "source": [
    "from functools import reduce\n",
    "\n",
    "\n",
    "Li = [3,4,5,6,7]\n",
    "\n",
    "val = reduce(lambda x,y:x*y, Li)\n",
    "print(val)"
   ]
  },
  {
   "cell_type": "code",
   "execution_count": 23,
   "metadata": {},
   "outputs": [
    {
     "name": "stdout",
     "output_type": "stream",
     "text": [
      "[10, 12, 8, 4, 2]\n"
     ]
    }
   ],
   "source": [
    "#List Comprehension:\n",
    "\n",
    "\n",
    "Li1 = [10,11,12,5,7,9,8,4,2]\n",
    "\n",
    "Li2 = [i for i in Li1 if i % 2 ==0]\n",
    "print(Li2)"
   ]
  },
  {
   "cell_type": "code",
   "execution_count": 21,
   "metadata": {},
   "outputs": [
    {
     "name": "stdout",
     "output_type": "stream",
     "text": [
      "[10, 12, 8, 4, 2]\n"
     ]
    }
   ],
   "source": [
    "Li1 = [10,11,12,5,7,9,8,4,2]\n",
    "Li2 = [] \n",
    "\n",
    "for i in Li1:\n",
    "    if i %2 ==0:\n",
    "        Li2.append(i)\n",
    "print(Li2)"
   ]
  },
  {
   "cell_type": "code",
   "execution_count": 24,
   "metadata": {},
   "outputs": [
    {
     "name": "stdout",
     "output_type": "stream",
     "text": [
      "[1, 8, 27, 64, 125]\n"
     ]
    }
   ],
   "source": [
    "Li1 = [1,2,3,4,5]\n",
    "\n",
    "Li2 = [i**3 for i in Li1]\n",
    "print(Li2)"
   ]
  },
  {
   "cell_type": "code",
   "execution_count": 25,
   "metadata": {},
   "outputs": [
    {
     "name": "stdout",
     "output_type": "stream",
     "text": [
      "[1, 8, 27, 64, 125]\n"
     ]
    }
   ],
   "source": [
    "Li1 = [1,2,3,4,5]\n",
    "Li2 = []\n",
    "\n",
    "for i in Li1:\n",
    "    Li2.append(i**3)\n",
    "    \n",
    "print(Li2)"
   ]
  },
  {
   "cell_type": "code",
   "execution_count": 26,
   "metadata": {},
   "outputs": [
    {
     "name": "stdout",
     "output_type": "stream",
     "text": [
      "['even', 'odd ', 'even', 'odd ', 'odd ', 'odd ', 'even', 'even', 'even']\n"
     ]
    }
   ],
   "source": [
    "\n",
    "Li1 = [10,11,12,5,7,9,8,4,2]\n",
    "\n",
    "Li2 = [\"even\" if i % 2 ==0 else \"odd \"for i in Li1]\n",
    "print(Li2)"
   ]
  },
  {
   "cell_type": "code",
   "execution_count": 29,
   "metadata": {},
   "outputs": [
    {
     "name": "stdout",
     "output_type": "stream",
     "text": [
      "{'even', 'odd '}\n"
     ]
    }
   ],
   "source": [
    "#set comprehension\n",
    "\n",
    "Li1 = {10,11,12,5,7,9,8,4,2}\n",
    "\n",
    "Li2 = {\"even\" if i % 2 ==0 else \"odd \"for i in Li1}\n",
    "print(Li2)"
   ]
  },
  {
   "cell_type": "code",
   "execution_count": 30,
   "metadata": {},
   "outputs": [
    {
     "name": "stdout",
     "output_type": "stream",
     "text": [
      "{64, 1, 8, 27, 125}\n"
     ]
    }
   ],
   "source": [
    "Li1 = {1,2,3,4,5}\n",
    "\n",
    "Li2 = {i**3 for i in Li1}\n",
    "print(Li2)"
   ]
  },
  {
   "cell_type": "code",
   "execution_count": 31,
   "metadata": {},
   "outputs": [
    {
     "name": "stdout",
     "output_type": "stream",
     "text": [
      "{1: 1, 2: 8, 3: 27, 4: 64, 5: 125}\n"
     ]
    }
   ],
   "source": [
    "#dictionary comprehension\n",
    "\n",
    "Li1 = {1,2,3,4,5}\n",
    "\n",
    "Li2 = {i:i**3 for i in Li1}\n",
    "print(Li2)"
   ]
  },
  {
   "cell_type": "code",
   "execution_count": 33,
   "metadata": {},
   "outputs": [
    {
     "name": "stdout",
     "output_type": "stream",
     "text": [
      "1\n",
      "4\n",
      "9\n",
      "16\n",
      "25\n",
      "<generator object <genexpr> at 0x0000028924AF2F48>\n"
     ]
    }
   ],
   "source": [
    "#tuple comprehension\n",
    "Li1 = (1,2,3,4,5)\n",
    "\n",
    "Li2 = (i**2 for i in Li1)\n",
    "\n",
    "for i in Li2:\n",
    "    print(i)\n",
    "print(Li2)"
   ]
  },
  {
   "cell_type": "code",
   "execution_count": null,
   "metadata": {},
   "outputs": [],
   "source": []
  }
 ],
 "metadata": {
  "kernelspec": {
   "display_name": "Python 3",
   "language": "python",
   "name": "python3"
  },
  "language_info": {
   "codemirror_mode": {
    "name": "ipython",
    "version": 3
   },
   "file_extension": ".py",
   "mimetype": "text/x-python",
   "name": "python",
   "nbconvert_exporter": "python",
   "pygments_lexer": "ipython3",
   "version": "3.7.6"
  }
 },
 "nbformat": 4,
 "nbformat_minor": 4
}
