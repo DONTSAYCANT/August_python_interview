{
 "cells": [
  {
   "cell_type": "code",
   "execution_count": null,
   "metadata": {},
   "outputs": [],
   "source": [
    "#https://www.w3schools.com/python/python_conditions.asp\n",
    "#https://www.w3schools.com/python/gloss_python_else.asp"
   ]
  },
  {
   "cell_type": "code",
   "execution_count": null,
   "metadata": {},
   "outputs": [],
   "source": [
    "#indentation\n",
    "#boolean type\n",
    "#Assignment operator\n"
   ]
  },
  {
   "cell_type": "code",
   "execution_count": null,
   "metadata": {},
   "outputs": [],
   "source": [
    "#control or conditional  ==> Boolean or available value\n",
    "#\n",
    "\n",
    "#if elif else"
   ]
  },
  {
   "cell_type": "code",
   "execution_count": 2,
   "metadata": {},
   "outputs": [
    {
     "name": "stdout",
     "output_type": "stream",
     "text": [
      "False\n",
      "True\n",
      "True\n",
      "True\n",
      "False\n"
     ]
    }
   ],
   "source": [
    "a = 10 #assignment operator\n",
    "\n",
    "print(a < 10)\n",
    "print(a >= 10)\n",
    "print(a == 10) #comparision operator\n",
    "print(a <= 10)\n",
    "print(a != 10)\n",
    "\n",
    "#== =\n",
    "\n"
   ]
  },
  {
   "cell_type": "code",
   "execution_count": null,
   "metadata": {},
   "outputs": [],
   "source": [
    "#Indentation\n",
    "\n",
    "function fun_name{\n",
    "    int a = 10;\n",
    "    a = a + 10;\n",
    "    printf(a, %d);\n",
    "}\n",
    "\n",
    "\n"
   ]
  },
  {
   "cell_type": "code",
   "execution_count": 8,
   "metadata": {},
   "outputs": [
    {
     "name": "stdout",
     "output_type": "stream",
     "text": [
      "True\n",
      "Successful\n",
      "Inside if condition\n",
      "Indentation end\n",
      "Main program\n"
     ]
    }
   ],
   "source": [
    "a = 10\n",
    "\n",
    "print(a == 10)\n",
    "\n",
    "if a > 5:\n",
    "    print(\"Successful\")\n",
    "    print(\"Inside if condition\")\n",
    "    print(\"Indentation end\")\n",
    "print(\"Main program\")"
   ]
  },
  {
   "cell_type": "code",
   "execution_count": 13,
   "metadata": {},
   "outputs": [
    {
     "name": "stdout",
     "output_type": "stream",
     "text": [
      "True\n",
      "Main program\n"
     ]
    }
   ],
   "source": [
    "a = 10\n",
    "\n",
    "print(a == 10)\n",
    "\n",
    "if a < 5:\n",
    "    print(\"Successful\")\n",
    "    print(\"Inside if condition\")\n",
    "    print(\"Indentation end\")\n",
    "print(\"Main program\")"
   ]
  },
  {
   "cell_type": "code",
   "execution_count": 15,
   "metadata": {},
   "outputs": [
    {
     "name": "stdout",
     "output_type": "stream",
     "text": [
      "please enter a number11\n",
      "postive number\n"
     ]
    }
   ],
   "source": [
    "a = int(input('please enter a number'))\n",
    "\n",
    "if a > 0:\n",
    "    print(\"postive number\")\n",
    "else:\n",
    "    print(\"Negative\")"
   ]
  },
  {
   "cell_type": "code",
   "execution_count": null,
   "metadata": {},
   "outputs": [],
   "source": [
    "if\n",
    "if else\n",
    "if elif else\n",
    "if elif elif elif ...n elif \n",
    "if elif elif elif ...n elif else\n",
    "\n"
   ]
  },
  {
   "cell_type": "code",
   "execution_count": 1,
   "metadata": {},
   "outputs": [
    {
     "name": "stdout",
     "output_type": "stream",
     "text": [
      "please enter a age12\n"
     ]
    }
   ],
   "source": [
    "#voter check his eligibilty\n",
    "\n",
    "age = int(input(\"please enter a age\"))\n",
    "\n",
    "if age > 18:\n",
    "    print(\"you are eligible\")"
   ]
  },
  {
   "cell_type": "code",
   "execution_count": 5,
   "metadata": {},
   "outputs": [
    {
     "name": "stdout",
     "output_type": "stream",
     "text": [
      "please enter a age100000\n",
      "eligible\n"
     ]
    }
   ],
   "source": [
    "age = int(input(\"please enter a age\"))\n",
    "\n",
    "\n",
    "if age > 18:\n",
    "    print(\"eligible\")\n",
    "else:\n",
    "    print(\"not eligible\")"
   ]
  },
  {
   "cell_type": "code",
   "execution_count": 8,
   "metadata": {},
   "outputs": [
    {
     "ename": "SyntaxError",
     "evalue": "invalid syntax (<ipython-input-8-656476dddb97>, line 7)",
     "output_type": "error",
     "traceback": [
      "\u001b[1;36m  File \u001b[1;32m\"<ipython-input-8-656476dddb97>\"\u001b[1;36m, line \u001b[1;32m7\u001b[0m\n\u001b[1;33m    elif age <18 and age > 0:\u001b[0m\n\u001b[1;37m       ^\u001b[0m\n\u001b[1;31mSyntaxError\u001b[0m\u001b[1;31m:\u001b[0m invalid syntax\n"
     ]
    }
   ],
   "source": [
    "age = int(input(\"please enter a age\"))\n",
    "\n",
    "\n",
    "if age > 18 and age < 100:\n",
    "    print(\"eligible\")\n",
    "elif age <18 and age > 0:\n",
    "    print(\"not eligible\")\n",
    "elif age == 18:\n",
    "    print(\"Please apply for voter ID\")\n",
    "else:\n",
    "    print(\"enter a valid age\")"
   ]
  },
  {
   "cell_type": "code",
   "execution_count": null,
   "metadata": {},
   "outputs": [],
   "source": [
    "\n",
    "#https://www.guru99.com/if-loop-python-conditional-structures.html\n",
    "#https://realpython.com/python-conditional-statements/\n",
    "#https://www.w3schools.com/python/python_conditions.asp"
   ]
  },
  {
   "cell_type": "code",
   "execution_count": 9,
   "metadata": {},
   "outputs": [
    {
     "name": "stdout",
     "output_type": "stream",
     "text": [
      "104\n"
     ]
    }
   ],
   "source": [
    "val = \"h\"\n",
    "\n",
    "print(ord(val))"
   ]
  },
  {
   "cell_type": "code",
   "execution_count": null,
   "metadata": {},
   "outputs": [],
   "source": [
    "#Get one mark from student\n",
    "#mark 0 to 100 otherwise invalid mark\n",
    "\n",
    "#50 + PASS otherwise FAIL\n",
    "#90 to 100 ===> A  ==> Even + Odd -\n",
    "#80 to 89 ===> B\n",
    "#70 to 79 ===> C\n",
    "#60 to 69 ===> D\n",
    "#50 to 59 ===> E\n",
    "\n",
    "#0 to 49 ===> FAIL\n",
    "\n",
    "\n",
    "#93 ===> A-\n",
    "#99 ===> A-\n",
    "#88 ====> B+\n",
    "\n",
    "#78\n",
    "\n",
    "#VALID MARK\n",
    "#PASS MARK\n",
    "#B+"
   ]
  },
  {
   "cell_type": "code",
   "execution_count": null,
   "metadata": {},
   "outputs": [],
   "source": [
    "#Input: one number integer\n",
    "\n",
    "#Output:\n",
    "\n",
    "i) valid or invalid\n",
    "ii) pass or fail\n",
    "iii)"
   ]
  },
  {
   "cell_type": "code",
   "execution_count": 6,
   "metadata": {},
   "outputs": [
    {
     "name": "stdout",
     "output_type": "stream",
     "text": [
      "please enter your mark: 70\n",
      "Valid mark\n",
      "Pass mark\n",
      "Grade D+\n"
     ]
    }
   ],
   "source": [
    "mark = int(input(\"please enter your mark: \"))\n",
    "\n",
    "if mark > 0 and mark < 100:\n",
    "    print(\"Valid mark\")\n",
    "    if mark < 100 and mark > 50:\n",
    "        print(\"Pass mark\")\n",
    "        if mark > 90 and mark <= 100 and mark%2 == 0:\n",
    "            print(\"Grade A+\")\n",
    "        elif mark > 90 and mark <= 100 and mark%2 != 0:\n",
    "            print(\"Grade A-\")\n",
    "        elif mark > 80 and mark <= 90 and mark%2 == 0:\n",
    "            print(\"Grade B+\")\n",
    "        elif mark > 80 and mark <= 90 and mark%2 != 0:\n",
    "            print(\"Grade B-\")\n",
    "        elif mark > 70 and mark <= 80 and mark%2 == 0:\n",
    "            print(\"Grade C+\")\n",
    "        elif mark > 70 and mark <= 80 and mark%2 != 0:\n",
    "            print(\"Grade C-\")\n",
    "        elif mark > 60 and mark <= 70 and mark%2 == 0:\n",
    "            print(\"Grade D+\")\n",
    "        elif mark > 60 and mark <= 70 and mark%2 != 0:\n",
    "            print(\"Grade D-\")\n",
    "        elif mark > 50 and mark <= 60 and mark%2 == 0:\n",
    "            print(\"Grade E+\")\n",
    "        elif mark > 50 and mark <= 60 and mark%2 != 0:\n",
    "            print(\"Grade E-\")\n",
    "    else:\n",
    "        print(\"Fail Mark\")\n",
    "else:\n",
    "    print(\"Invalid mark\")"
   ]
  },
  {
   "cell_type": "code",
   "execution_count": null,
   "metadata": {},
   "outputs": [],
   "source": []
  },
  {
   "cell_type": "code",
   "execution_count": null,
   "metadata": {},
   "outputs": [],
   "source": []
  },
  {
   "cell_type": "code",
   "execution_count": null,
   "metadata": {},
   "outputs": [],
   "source": []
  },
  {
   "cell_type": "code",
   "execution_count": null,
   "metadata": {},
   "outputs": [],
   "source": []
  }
 ],
 "metadata": {
  "kernelspec": {
   "display_name": "Python 3",
   "language": "python",
   "name": "python3"
  },
  "language_info": {
   "codemirror_mode": {
    "name": "ipython",
    "version": 3
   },
   "file_extension": ".py",
   "mimetype": "text/x-python",
   "name": "python",
   "nbconvert_exporter": "python",
   "pygments_lexer": "ipython3",
   "version": "3.7.6"
  }
 },
 "nbformat": 4,
 "nbformat_minor": 4
}
