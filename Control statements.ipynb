{
 "cells": [
  {
   "cell_type": "code",
   "execution_count": null,
   "metadata": {},
   "outputs": [],
   "source": [
    "#https://www.w3schools.com/python/python_conditions.asp\n",
    "#https://www.w3schools.com/python/gloss_python_else.asp"
   ]
  },
  {
   "cell_type": "code",
   "execution_count": null,
   "metadata": {},
   "outputs": [],
   "source": [
    "#indentation\n",
    "#boolean type\n",
    "#Assignment operator\n"
   ]
  },
  {
   "cell_type": "code",
   "execution_count": null,
   "metadata": {},
   "outputs": [],
   "source": [
    "#control or conditional  ==> Boolean or available value\n",
    "#\n",
    "\n",
    "#if elif else"
   ]
  },
  {
   "cell_type": "code",
   "execution_count": 2,
   "metadata": {},
   "outputs": [
    {
     "name": "stdout",
     "output_type": "stream",
     "text": [
      "False\n",
      "True\n",
      "True\n",
      "True\n",
      "False\n"
     ]
    }
   ],
   "source": [
    "a = 10 #assignment operator\n",
    "\n",
    "print(a < 10)\n",
    "print(a >= 10)\n",
    "print(a == 10) #comparision operator\n",
    "print(a <= 10)\n",
    "print(a != 10)\n",
    "\n",
    "#== =\n",
    "\n"
   ]
  },
  {
   "cell_type": "code",
   "execution_count": null,
   "metadata": {},
   "outputs": [],
   "source": [
    "#Indentation\n",
    "\n",
    "function fun_name{\n",
    "    int a = 10;\n",
    "    a = a + 10;\n",
    "    printf(a, %d);\n",
    "}\n",
    "\n",
    "\n"
   ]
  },
  {
   "cell_type": "code",
   "execution_count": 8,
   "metadata": {},
   "outputs": [
    {
     "name": "stdout",
     "output_type": "stream",
     "text": [
      "True\n",
      "Successful\n",
      "Inside if condition\n",
      "Indentation end\n",
      "Main program\n"
     ]
    }
   ],
   "source": [
    "a = 10\n",
    "\n",
    "print(a == 10)\n",
    "\n",
    "if a > 5:\n",
    "    print(\"Successful\")\n",
    "    print(\"Inside if condition\")\n",
    "    print(\"Indentation end\")\n",
    "print(\"Main program\")"
   ]
  },
  {
   "cell_type": "code",
   "execution_count": 13,
   "metadata": {},
   "outputs": [
    {
     "name": "stdout",
     "output_type": "stream",
     "text": [
      "True\n",
      "Main program\n"
     ]
    }
   ],
   "source": [
    "a = 10\n",
    "\n",
    "print(a == 10)\n",
    "\n",
    "if a < 5:\n",
    "    print(\"Successful\")\n",
    "    print(\"Inside if condition\")\n",
    "    print(\"Indentation end\")\n",
    "print(\"Main program\")"
   ]
  },
  {
   "cell_type": "code",
   "execution_count": 15,
   "metadata": {},
   "outputs": [
    {
     "name": "stdout",
     "output_type": "stream",
     "text": [
      "please enter a number11\n",
      "postive number\n"
     ]
    }
   ],
   "source": [
    "a = int(input('please enter a number'))\n",
    "\n",
    "if a > 0:\n",
    "    print(\"postive number\")\n",
    "else:\n",
    "    print(\"Negative\")"
   ]
  },
  {
   "cell_type": "code",
   "execution_count": null,
   "metadata": {},
   "outputs": [],
   "source": []
  }
 ],
 "metadata": {
  "kernelspec": {
   "display_name": "Python 3",
   "language": "python",
   "name": "python3"
  },
  "language_info": {
   "codemirror_mode": {
    "name": "ipython",
    "version": 3
   },
   "file_extension": ".py",
   "mimetype": "text/x-python",
   "name": "python",
   "nbconvert_exporter": "python",
   "pygments_lexer": "ipython3",
   "version": "3.7.6"
  }
 },
 "nbformat": 4,
 "nbformat_minor": 4
}
