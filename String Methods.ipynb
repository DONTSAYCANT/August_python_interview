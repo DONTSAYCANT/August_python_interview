{
 "cells": [
  {
   "cell_type": "code",
   "execution_count": 1,
   "metadata": {},
   "outputs": [
    {
     "name": "stdout",
     "output_type": "stream",
     "text": [
      "pythonjava\n"
     ]
    }
   ],
   "source": [
    "#Concatenation\n",
    "\n",
    "a = \"python\"\n",
    "\n",
    "b = \"java\"\n",
    "\n",
    "\n",
    "print(a+b)\n"
   ]
  },
  {
   "cell_type": "code",
   "execution_count": 3,
   "metadata": {},
   "outputs": [
    {
     "name": "stdout",
     "output_type": "stream",
     "text": [
      "pythona\n"
     ]
    }
   ],
   "source": [
    "a = \"python\"\n",
    "\n",
    "b = \"java\"\n",
    "\n",
    "print(a + \"a\") #pythonpython\n",
    "\n",
    "#\"\" or '' ==> string\n",
    "#without any quotes string ==> variable (except boolean)"
   ]
  },
  {
   "cell_type": "code",
   "execution_count": 2,
   "metadata": {},
   "outputs": [
    {
     "name": "stdout",
     "output_type": "stream",
     "text": [
      "python\n"
     ]
    }
   ],
   "source": [
    "a = \"python\"\n",
    "print(a)"
   ]
  },
  {
   "cell_type": "code",
   "execution_count": 6,
   "metadata": {},
   "outputs": [
    {
     "name": "stdout",
     "output_type": "stream",
     "text": [
      "ab\n",
      "4\n"
     ]
    }
   ],
   "source": [
    "print(\"a\" + \"b\") #ab\n",
    "#print(\"a\" + 1) #Error\n",
    "#print(1 + \"a\" ) #Error\n",
    "print(1 + 3) #4\n",
    "\n"
   ]
  },
  {
   "cell_type": "code",
   "execution_count": 11,
   "metadata": {},
   "outputs": [
    {
     "name": "stdout",
     "output_type": "stream",
     "text": [
      "pnrja\n",
      "pmja\n"
     ]
    }
   ],
   "source": [
    "a = \"pythonprogram\"\n",
    "b = \"java\"\n",
    "\n",
    "#output ==> pnja #pmja\n",
    "\n",
    "\n",
    "#print(a[::5] + b[::3])\n",
    "\n",
    "#Indexing  ===> \n",
    "#Slicing  ===> :\n",
    "\n",
    "print(a[0] + a[-1] + b[0] + b[-1])\n"
   ]
  },
  {
   "cell_type": "code",
   "execution_count": 12,
   "metadata": {},
   "outputs": [
    {
     "name": "stdout",
     "output_type": "stream",
     "text": [
      "groovygroovygroovygroovygroovygroovy\n"
     ]
    }
   ],
   "source": [
    "#Multiplication\n",
    "\n",
    "a = \"groovy\"\n",
    "\n",
    "print(a * 6)"
   ]
  },
  {
   "cell_type": "code",
   "execution_count": 15,
   "metadata": {},
   "outputs": [
    {
     "name": "stdout",
     "output_type": "stream",
     "text": [
      "11\n"
     ]
    }
   ],
   "source": [
    "#len\n",
    "\n",
    "val1 = \"hello gokul\"\n",
    "\n",
    "print(len(val1))\n"
   ]
  },
  {
   "cell_type": "code",
   "execution_count": 14,
   "metadata": {},
   "outputs": [
    {
     "name": "stdout",
     "output_type": "stream",
     "text": [
      "2\n"
     ]
    }
   ],
   "source": [
    "#https://www.w3schools.com/python/python_ref_string.asp"
   ]
  },
  {
   "cell_type": "code",
   "execution_count": 10,
   "metadata": {},
   "outputs": [
    {
     "name": "stdout",
     "output_type": "stream",
     "text": [
      "please enter a string: hello world obgibsgbbgbgbbkbg\n",
      "29\n",
      "g\n"
     ]
    }
   ],
   "source": [
    "#1) Get one string from the user\n",
    "#   Identify the middle character of the string\n",
    "\n",
    "var2 = input(\"please enter a string: \")\n",
    "\n",
    "print(len(var2))\n",
    "\n",
    "index = int(len(var2) / 2)\n",
    "\n",
    "print(var2[index])\n",
    "\n",
    "#python\n",
    "#computer\n",
    "#cpp\n",
    "#gokul\n",
    "\n",
    "#8 ==> 4\n",
    "#7  ===> 3.5\n",
    "#3 ===> 1.5\n",
    "\n"
   ]
  },
  {
   "cell_type": "code",
   "execution_count": 13,
   "metadata": {},
   "outputs": [
    {
     "name": "stdout",
     "output_type": "stream",
     "text": [
      "please enter a string: computerscience\n",
      "r\n"
     ]
    }
   ],
   "source": [
    "var2 = input(\"please enter a string: \")\n",
    "\n",
    "index = len(var2) // 2\n",
    "\n",
    "print(var2[index])"
   ]
  },
  {
   "cell_type": "code",
   "execution_count": 15,
   "metadata": {},
   "outputs": [
    {
     "name": "stdout",
     "output_type": "stream",
     "text": [
      "please enter a string: python\n",
      "h\n"
     ]
    }
   ],
   "source": [
    "a = input(\"please enter a string: \")\n",
    "\n",
    "print(a[len(a)//2])"
   ]
  },
  {
   "cell_type": "code",
   "execution_count": null,
   "metadata": {},
   "outputs": [],
   "source": [
    "Get two strings from user  example: \"java\" \"groovy\"\n",
    "   java6groovy4\n",
    "   \n",
    "   \"pi\" \"mathematics\"  ===> pi15mahematics2"
   ]
  },
  {
   "cell_type": "code",
   "execution_count": 16,
   "metadata": {},
   "outputs": [
    {
     "name": "stdout",
     "output_type": "stream",
     "text": [
      "enter string1 gokul\n",
      "enter string2 ravi\n",
      "gokul4ravi5\n"
     ]
    }
   ],
   "source": [
    "a = input(\"enter string1 \")\n",
    "b = input(\"enter string2 \")\n",
    "\n",
    "print(a + str(len(b)) + b + str(len(a)))\n",
    "\n"
   ]
  },
  {
   "cell_type": "code",
   "execution_count": 18,
   "metadata": {},
   "outputs": [
    {
     "name": "stdout",
     "output_type": "stream",
     "text": [
      "False\n",
      "True\n",
      "True\n"
     ]
    }
   ],
   "source": [
    "#startswith\n",
    "\n",
    "a = \"python\"\n",
    "\n",
    "print(a.startswith(\"c\"))\n",
    "print(a.startswith(\"p\"))\n",
    "\n",
    "print(a.startswith(\"pyt\"))"
   ]
  },
  {
   "cell_type": "code",
   "execution_count": 19,
   "metadata": {},
   "outputs": [
    {
     "name": "stdout",
     "output_type": "stream",
     "text": [
      "True\n",
      "False\n"
     ]
    }
   ],
   "source": [
    "#endswith\n",
    "\n",
    "a = \"python\"\n",
    "\n",
    "print(a.endswith(\"n\"))\n",
    "print(a.endswith(\"z\"))\n",
    "\n"
   ]
  },
  {
   "cell_type": "code",
   "execution_count": 21,
   "metadata": {},
   "outputs": [
    {
     "name": "stdout",
     "output_type": "stream",
     "text": [
      "PYTHON\n",
      "python\n"
     ]
    }
   ],
   "source": [
    "#upper\n",
    "\n",
    "a = \"python\"\n",
    "b = a.upper()\n",
    "print(b)\n",
    "\n",
    "a = \"PYTHON\"\n",
    "b = a.lower()\n",
    "print(b)"
   ]
  },
  {
   "cell_type": "code",
   "execution_count": 22,
   "metadata": {},
   "outputs": [
    {
     "name": "stdout",
     "output_type": "stream",
     "text": [
      "Python\n"
     ]
    }
   ],
   "source": [
    "a = \"python\"\n",
    "\n",
    "b = a.capitalize()\n",
    "\n",
    "print(b)"
   ]
  },
  {
   "cell_type": "code",
   "execution_count": 23,
   "metadata": {},
   "outputs": [
    {
     "name": "stdout",
     "output_type": "stream",
     "text": [
      "6\n"
     ]
    }
   ],
   "source": [
    "a = \"python\"\n",
    "\n",
    "print(len(a))"
   ]
  },
  {
   "cell_type": "code",
   "execution_count": 24,
   "metadata": {},
   "outputs": [
    {
     "name": "stdout",
     "output_type": "stream",
     "text": [
      "1\n",
      "1\n",
      "0\n"
     ]
    }
   ],
   "source": [
    "#count\n",
    "a = \"python\"\n",
    "\n",
    "print(a.count(\"t\"))\n",
    "print(a.count(\"on\"))\n",
    "print(a.count(\"z\"))"
   ]
  },
  {
   "cell_type": "code",
   "execution_count": 26,
   "metadata": {},
   "outputs": [
    {
     "name": "stdout",
     "output_type": "stream",
     "text": [
      "2\n",
      "4\n",
      "-1\n",
      "5\n"
     ]
    }
   ],
   "source": [
    "#find\n",
    "\n",
    "a = \"pythonn\"\n",
    "\n",
    "print(a.find(\"t\"))\n",
    "print(a.find(\"on\"))\n",
    "print(a.find(\"z\")) #For unavaillable chars ==> -1\n",
    "print(a.find(\"n\"))"
   ]
  },
  {
   "cell_type": "code",
   "execution_count": 28,
   "metadata": {},
   "outputs": [
    {
     "name": "stdout",
     "output_type": "stream",
     "text": [
      "0\n",
      "9\n"
     ]
    }
   ],
   "source": [
    "#index\n",
    "\n",
    "a = \"calculator\"\n",
    "\n",
    "print(a.index(\"c\"))\n",
    "print(a.index(\"r\"))\n"
   ]
  },
  {
   "cell_type": "code",
   "execution_count": 5,
   "metadata": {},
   "outputs": [
    {
     "name": "stdout",
     "output_type": "stream",
     "text": [
      "give your stringpython\n",
      "give your integer10\n",
      "pythonpythonpythonpythonpythonpythonpythonpythonpythonpython101010101010\n"
     ]
    }
   ],
   "source": [
    "a = input(\"give your string\")\n",
    "b = int(input(\"give your integer\"))\n",
    "\n",
    "var1 = a * b\n",
    "var2 = str(b) * len(a)\n",
    "\n",
    "print(var1 + var2)\n"
   ]
  },
  {
   "cell_type": "code",
   "execution_count": null,
   "metadata": {},
   "outputs": [],
   "source": [
    "#7) Get one string from user:\n",
    "\n",
    "#python   ===> PythoN  (convert first and last char to captial)\n",
    "\n"
   ]
  },
  {
   "cell_type": "code",
   "execution_count": 6,
   "metadata": {},
   "outputs": [
    {
     "name": "stdout",
     "output_type": "stream",
     "text": [
      "ComputeR\n"
     ]
    }
   ],
   "source": [
    "a = \"computer\"\n",
    "\n",
    "var1 = a[0].upper()\n",
    "var2 = a[1:-1]\n",
    "var3 = a[-1].upper()\n",
    "\n",
    "final = var1 + var2 + var3\n",
    "\n",
    "print(final)"
   ]
  },
  {
   "cell_type": "code",
   "execution_count": null,
   "metadata": {},
   "outputs": [],
   "source": []
  }
 ],
 "metadata": {
  "kernelspec": {
   "display_name": "Python 3",
   "language": "python",
   "name": "python3"
  },
  "language_info": {
   "codemirror_mode": {
    "name": "ipython",
    "version": 3
   },
   "file_extension": ".py",
   "mimetype": "text/x-python",
   "name": "python",
   "nbconvert_exporter": "python",
   "pygments_lexer": "ipython3",
   "version": "3.7.6"
  }
 },
 "nbformat": 4,
 "nbformat_minor": 4
}
