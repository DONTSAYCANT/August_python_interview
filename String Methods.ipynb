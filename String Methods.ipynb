{
 "cells": [
  {
   "cell_type": "code",
   "execution_count": 1,
   "metadata": {},
   "outputs": [
    {
     "name": "stdout",
     "output_type": "stream",
     "text": [
      "pythonjava\n"
     ]
    }
   ],
   "source": [
    "#Concatenation\n",
    "\n",
    "a = \"python\"\n",
    "\n",
    "b = \"java\"\n",
    "\n",
    "\n",
    "print(a+b)\n"
   ]
  },
  {
   "cell_type": "code",
   "execution_count": 3,
   "metadata": {},
   "outputs": [
    {
     "name": "stdout",
     "output_type": "stream",
     "text": [
      "pythona\n"
     ]
    }
   ],
   "source": [
    "a = \"python\"\n",
    "\n",
    "b = \"java\"\n",
    "\n",
    "print(a + \"a\") #pythonpython\n",
    "\n",
    "#\"\" or '' ==> string\n",
    "#without any quotes string ==> variable (except boolean)"
   ]
  },
  {
   "cell_type": "code",
   "execution_count": 2,
   "metadata": {},
   "outputs": [
    {
     "name": "stdout",
     "output_type": "stream",
     "text": [
      "python\n"
     ]
    }
   ],
   "source": [
    "a = \"python\"\n",
    "print(a)"
   ]
  },
  {
   "cell_type": "code",
   "execution_count": 6,
   "metadata": {},
   "outputs": [
    {
     "name": "stdout",
     "output_type": "stream",
     "text": [
      "ab\n",
      "4\n"
     ]
    }
   ],
   "source": [
    "print(\"a\" + \"b\") #ab\n",
    "#print(\"a\" + 1) #Error\n",
    "#print(1 + \"a\" ) #Error\n",
    "print(1 + 3) #4\n",
    "\n"
   ]
  },
  {
   "cell_type": "code",
   "execution_count": 11,
   "metadata": {},
   "outputs": [
    {
     "name": "stdout",
     "output_type": "stream",
     "text": [
      "pnrja\n",
      "pmja\n"
     ]
    }
   ],
   "source": [
    "a = \"pythonprogram\"\n",
    "b = \"java\"\n",
    "\n",
    "#output ==> pnja #pmja\n",
    "\n",
    "\n",
    "#print(a[::5] + b[::3])\n",
    "\n",
    "#Indexing  ===> \n",
    "#Slicing  ===> :\n",
    "\n",
    "print(a[0] + a[-1] + b[0] + b[-1])\n"
   ]
  },
  {
   "cell_type": "code",
   "execution_count": 12,
   "metadata": {},
   "outputs": [
    {
     "name": "stdout",
     "output_type": "stream",
     "text": [
      "groovygroovygroovygroovygroovygroovy\n"
     ]
    }
   ],
   "source": [
    "#Multiplication\n",
    "\n",
    "a = \"groovy\"\n",
    "\n",
    "print(a * 6)"
   ]
  },
  {
   "cell_type": "code",
   "execution_count": 15,
   "metadata": {},
   "outputs": [
    {
     "name": "stdout",
     "output_type": "stream",
     "text": [
      "11\n"
     ]
    }
   ],
   "source": [
    "#len\n",
    "\n",
    "val1 = \"hello gokul\"\n",
    "\n",
    "print(len(val1))\n"
   ]
  },
  {
   "cell_type": "code",
   "execution_count": 14,
   "metadata": {},
   "outputs": [
    {
     "name": "stdout",
     "output_type": "stream",
     "text": [
      "2\n"
     ]
    }
   ],
   "source": [
    "#https://www.w3schools.com/python/python_ref_string.asp"
   ]
  },
  {
   "cell_type": "code",
   "execution_count": null,
   "metadata": {},
   "outputs": [],
   "source": []
  },
  {
   "cell_type": "code",
   "execution_count": null,
   "metadata": {},
   "outputs": [],
   "source": []
  }
 ],
 "metadata": {
  "kernelspec": {
   "display_name": "Python 3",
   "language": "python",
   "name": "python3"
  },
  "language_info": {
   "codemirror_mode": {
    "name": "ipython",
    "version": 3
   },
   "file_extension": ".py",
   "mimetype": "text/x-python",
   "name": "python",
   "nbconvert_exporter": "python",
   "pygments_lexer": "ipython3",
   "version": "3.7.6"
  }
 },
 "nbformat": 4,
 "nbformat_minor": 4
}
