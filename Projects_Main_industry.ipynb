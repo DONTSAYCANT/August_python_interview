{
 "cells": [
  {
   "cell_type": "code",
   "execution_count": null,
   "metadata": {},
   "outputs": [],
   "source": [
    "#http://inventwithpython.com/bigbookpython/\n",
    "\n",
    "#project 1,2 : in the class discussion project\n",
    "\n",
    "#project3: company project\n",
    "\n",
    "#project4: class projects\n",
    "\n",
    "#project last: abap\n"
   ]
  },
  {
   "cell_type": "code",
   "execution_count": null,
   "metadata": {},
   "outputs": [],
   "source": [
    "#Project1: Daily/Nightly, Weekly, Smoke Regression Tools (Tool dev /Testing)\n",
    "\n",
    "Regression dashboard & Bug tracking tools : Auto nightly/smoke scripts\n",
    "execution based on image/feature availabilty, log\n",
    "analysis and display results in regression dashboard with\n",
    "the auto bug marking mechanism (frequent bugs)\n",
    "\n",
    "#Regression Testing / Nightly (12 hours: python) / Smoke Testing (1 hour small test) /Weekly \n",
    "\n",
    "#JIRA: bug tracking tool\n",
    "\n",
    "#Ericsson : Router\n"
   ]
  },
  {
   "cell_type": "code",
   "execution_count": null,
   "metadata": {},
   "outputs": [],
   "source": [
    "#project 2: Feature Ranking Tool (FRT) \n",
    "\n",
    "Feature Ranking Tool and Automation Ranking\n",
    "for modules based on factors like bug fix time, Code/feature delivery speed, static code\n",
    "analyzer(coverity, syntax mistake, full coverage) and quality metrics for improvement\n",
    "and auto report creation.\n",
    "\n",
    "#Future improvement\n",
    "\n"
   ]
  },
  {
   "cell_type": "code",
   "execution_count": null,
   "metadata": {},
   "outputs": [],
   "source": [
    "\n",
    "\n",
    "\n"
   ]
  },
  {
   "cell_type": "code",
   "execution_count": null,
   "metadata": {},
   "outputs": [],
   "source": []
  }
 ],
 "metadata": {
  "kernelspec": {
   "display_name": "Python 3",
   "language": "python",
   "name": "python3"
  },
  "language_info": {
   "codemirror_mode": {
    "name": "ipython",
    "version": 3
   },
   "file_extension": ".py",
   "mimetype": "text/x-python",
   "name": "python",
   "nbconvert_exporter": "python",
   "pygments_lexer": "ipython3",
   "version": "3.7.6"
  }
 },
 "nbformat": 4,
 "nbformat_minor": 4
}
