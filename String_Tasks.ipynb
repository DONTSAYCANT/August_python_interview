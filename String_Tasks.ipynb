{
 "cells": [
  {
   "cell_type": "code",
   "execution_count": null,
   "metadata": {},
   "outputs": [],
   "source": [
    "#String Tasks:\n",
    "\n",
    "September 8\n",
    "   \n",
    "1) Get two characters from user \"java\" \"gokul\"\n",
    "   j2ag3l\n",
    "   \n",
    "   \"science\" \"social\"\n",
    "   s5es4l\n",
    "   \n",
    " 2) Get three strings from user\n",
    " \n",
    " maths  science  tamil  ===> mtsseetml ==> Concatenation of first letter,middle letter and last letter from all the three strings\n",
    " \n",
    " 3) https://www.w3schools.com/python/python_ref_string.asp\n",
    "\n",
    "4) Get two values (input) ===> number, string\n",
    "\n",
    "#7 , \"python\" ===> pythonpythonpythonpythonpythonpythonpython777777\n",
    "\n",
    "#3 , \"perl\"   ===> perlperlperl3333\n",
    "\n",
    "5) \n",
    "\n",
    "#get two strings from user  computer science  ==> input \n",
    "\n",
    "#step 1 ==> comPuter  sciEnce\n",
    "\n",
    "#step 2 ===> concatenate both ==> comPutersciEnce\n",
    "\n",
    "#step 3 ===> comPuteRsciEnce\n",
    "\n",
    "6)\n",
    "\n",
    "#Get one string (Captial) ==> PYTHON\n",
    "#Convert middle letter of the string in to small\n",
    "\n",
    "PYThON\n",
    "\n",
    "7) Get one string from user:\n",
    "\n",
    "python   ===> PythoN  (convert first and last char to captial)"
   ]
  },
  {
   "cell_type": "code",
   "execution_count": null,
   "metadata": {},
   "outputs": [],
   "source": [
    "#1) Get two characters from user \"java\" \"gokul\"\n",
    "#   j2ag3l\n",
    "#   \n",
    "#   \"science\" \"social\"\n",
    "#   s5es4l\n",
    "\n",
    "\n"
   ]
  },
  {
   "cell_type": "code",
   "execution_count": 2,
   "metadata": {},
   "outputs": [
    {
     "name": "stdout",
     "output_type": "stream",
     "text": [
      "j11ph9n\n"
     ]
    }
   ],
   "source": [
    "#Logic1\n",
    "\n",
    "a = \"javagroovycpp\"\n",
    "b = \"hellopython\"\n",
    "\n",
    "var3 = a[0] + str(len(a)-2) + a[-1] + b[0] + str(len(b)-2) + b[-1]\n",
    "\n",
    "print(var3)\n"
   ]
  },
  {
   "cell_type": "code",
   "execution_count": 3,
   "metadata": {},
   "outputs": [
    {
     "name": "stdout",
     "output_type": "stream",
     "text": [
      "j11ph9n\n"
     ]
    }
   ],
   "source": [
    "#Logic2\n",
    "\n",
    "a = \"javagroovycpp\"\n",
    "b = \"hellopython\"\n",
    "\n",
    "var3 = a[0] + str(len(a[1:-1])) + a[-1] + b[0] + str(len(b[1:-1])) + b[-1]\n",
    "\n",
    "print(var3)"
   ]
  },
  {
   "cell_type": "code",
   "execution_count": null,
   "metadata": {},
   "outputs": [],
   "source": [
    "a = \"computer\"\n",
    "b = \"encyclopedia\"\n",
    "\n"
   ]
  },
  {
   "cell_type": "code",
   "execution_count": 9,
   "metadata": {},
   "outputs": [
    {
     "name": "stdout",
     "output_type": "stream",
     "text": [
      "comp\n",
      "thon\n",
      "uterpy\n",
      "pmocuterpynoht\n"
     ]
    }
   ],
   "source": [
    "a = \"computerpython\"\n",
    "b = 4\n",
    "\n",
    "#output: mocputerpytnoh\n",
    "\n",
    "#step1:\n",
    "\n",
    "c = a[0:b]\n",
    "\n",
    "print(c)\n",
    "\n",
    "d = a[(-1 * b):]\n",
    "\n",
    "print(d)\n",
    "\n",
    "e = a[b : (-1*b)]\n",
    "\n",
    "print(e)\n",
    "\n",
    "#step2:\n",
    "\n",
    "c = c[::-1]\n",
    "d = d[::-1]\n",
    "\n",
    "\n",
    "#step3:\n",
    "\n",
    "print(c + e + d)\n",
    "\n",
    "\n",
    "\n"
   ]
  },
  {
   "cell_type": "code",
   "execution_count": null,
   "metadata": {},
   "outputs": [],
   "source": []
  }
 ],
 "metadata": {
  "kernelspec": {
   "display_name": "Python 3",
   "language": "python",
   "name": "python3"
  },
  "language_info": {
   "codemirror_mode": {
    "name": "ipython",
    "version": 3
   },
   "file_extension": ".py",
   "mimetype": "text/x-python",
   "name": "python",
   "nbconvert_exporter": "python",
   "pygments_lexer": "ipython3",
   "version": "3.7.6"
  }
 },
 "nbformat": 4,
 "nbformat_minor": 4
}
