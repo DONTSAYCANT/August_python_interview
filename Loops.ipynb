{
 "cells": [
  {
   "cell_type": "code",
   "execution_count": null,
   "metadata": {},
   "outputs": [],
   "source": [
    "https://www.w3schools.com/python/python_for_loops.asp\n",
    "https://www.w3schools.com/python/python_while_loops.asp\n",
    "https://github.com/DONTSAYCANT/python_may_june_batch/blob/main/Loops%20.ipynb"
   ]
  },
  {
   "cell_type": "markdown",
   "metadata": {},
   "source": [
    "# For loop"
   ]
  },
  {
   "cell_type": "code",
   "execution_count": null,
   "metadata": {},
   "outputs": [],
   "source": [
    "#Why loop ?\n",
    "#range function\n",
    "#when for loop"
   ]
  },
  {
   "cell_type": "code",
   "execution_count": null,
   "metadata": {},
   "outputs": [],
   "source": [
    "#Run same code repeatedly for while"
   ]
  },
  {
   "cell_type": "code",
   "execution_count": 1,
   "metadata": {},
   "outputs": [
    {
     "name": "stdout",
     "output_type": "stream",
     "text": [
      "30\n"
     ]
    }
   ],
   "source": [
    "#need for loop  No\n",
    "\n",
    "a = 10\n",
    "b = 20\n",
    "\n",
    "print(a+b)\n"
   ]
  },
  {
   "cell_type": "code",
   "execution_count": 2,
   "metadata": {},
   "outputs": [
    {
     "name": "stdout",
     "output_type": "stream",
     "text": [
      "[1, 2, 3, 4, 5, 9, 8, 7, 6, 5]\n"
     ]
    }
   ],
   "source": [
    "#Loop ? \n",
    "\n",
    "a = [1,2,3,4,5]\n",
    "b = [9,8,7,6,5]\n",
    "\n",
    "print(a+b)"
   ]
  },
  {
   "cell_type": "code",
   "execution_count": 9,
   "metadata": {
    "scrolled": true
   },
   "outputs": [
    {
     "name": "stdout",
     "output_type": "stream",
     "text": [
      "10\n",
      "9\n",
      "7\n",
      "6\n",
      "4\n",
      "3\n",
      "1\n",
      "3\n",
      "4\n",
      "5\n",
      "6\n",
      "3\n",
      "4\n",
      "5\n",
      "6\n",
      "10\n"
     ]
    }
   ],
   "source": [
    "a = [10,9,7,6,4,3,1]\n",
    "\n",
    "for temp in a: #for keyword #i temp variable iterating variable #a collection or data strucuture\n",
    "    print(temp)\n",
    "    \n",
    "tup = (3,4,5,6)\n",
    "\n",
    "for i in tup:\n",
    "    print(i)\n",
    "    \n",
    "set1 = {10,4,5,6,3}\n",
    "\n",
    "for i in set1:\n",
    "    print(i)\n",
    "    "
   ]
  },
  {
   "cell_type": "code",
   "execution_count": 13,
   "metadata": {},
   "outputs": [
    {
     "name": "stdout",
     "output_type": "stream",
     "text": [
      "1\n",
      "2\n",
      "3\n",
      "4\n",
      "1\n",
      "2\n",
      "3\n",
      "4\n",
      "gokul\n",
      "python\n",
      "mani\n",
      "ravi\n",
      "gokul\n",
      "python\n",
      "mani\n",
      "ravi\n"
     ]
    }
   ],
   "source": [
    "dict1 = {1:\"gokul\", 2:\"python\",3:\"mani\",4:\"ravi\"}\n",
    "\n",
    "for i in dict1:\n",
    "    print(i)\n",
    "    \n",
    "for i in dict1.keys():\n",
    "    print(i)\n",
    "    \n",
    "for i in dict1.values():\n",
    "    print(i)\n",
    "    \n",
    "for i in dict1:\n",
    "    print(dict1[i])"
   ]
  },
  {
   "cell_type": "code",
   "execution_count": 14,
   "metadata": {},
   "outputs": [
    {
     "name": "stdout",
     "output_type": "stream",
     "text": [
      "ravi\n"
     ]
    }
   ],
   "source": [
    "dict1 = {1:\"gokul\", 2:\"python\",3:\"mani\",4:\"ravi\"}\n",
    "\n",
    "print(dict1[4])"
   ]
  },
  {
   "cell_type": "code",
   "execution_count": 23,
   "metadata": {},
   "outputs": [
    {
     "name": "stdout",
     "output_type": "stream",
     "text": [
      "[0, 1, 2, 3, 4]\n",
      "[1, 2, 3, 4]\n",
      "[5, 6, 7, 8, 9, 10, 11, 12, 13, 14, 15, 16, 17, 18, 19]\n",
      "[-5, -4, -3, -2, -1, 0, 1, 2, 3, 4]\n",
      "[10, 20, 30, 40, 50, 60, 70, 80, 90]\n",
      "[10, 9, 8, 7, 6, 5, 4, 3, 2, 1]\n",
      "[-5, -2, 1, 4]\n",
      "[10, 15, 20, 25, 30, 35, 40, 45, 50, 55, 60, 65, 70, 75, 80, 85, 90, 95]\n",
      "[10, 8, 6, 4, 2]\n"
     ]
    }
   ],
   "source": [
    "#range:\n",
    ":5\n",
    "\n",
    "print(list(range(5)))\n",
    "print(list(range(1,5)))\n",
    "print(list(range(5,20)))\n",
    "print(list(range(-5,5)))\n",
    "print(list(range(10,100,10)))\n",
    "print(list(range(10,0,-1)))\n",
    "print(list(range(-5,5,3)))\n",
    "print(list(range(10,100,5)))\n",
    "print(list(range(10,0,-2)))\n"
   ]
  },
  {
   "cell_type": "markdown",
   "metadata": {},
   "source": [
    "# While loop"
   ]
  },
  {
   "cell_type": "code",
   "execution_count": null,
   "metadata": {},
   "outputs": [],
   "source": []
  },
  {
   "cell_type": "code",
   "execution_count": null,
   "metadata": {},
   "outputs": [],
   "source": []
  },
  {
   "cell_type": "code",
   "execution_count": null,
   "metadata": {},
   "outputs": [],
   "source": []
  },
  {
   "cell_type": "code",
   "execution_count": null,
   "metadata": {},
   "outputs": [],
   "source": []
  },
  {
   "cell_type": "code",
   "execution_count": null,
   "metadata": {},
   "outputs": [],
   "source": []
  }
 ],
 "metadata": {
  "kernelspec": {
   "display_name": "Python 3",
   "language": "python",
   "name": "python3"
  },
  "language_info": {
   "codemirror_mode": {
    "name": "ipython",
    "version": 3
   },
   "file_extension": ".py",
   "mimetype": "text/x-python",
   "name": "python",
   "nbconvert_exporter": "python",
   "pygments_lexer": "ipython3",
   "version": "3.7.6"
  }
 },
 "nbformat": 4,
 "nbformat_minor": 4
}
