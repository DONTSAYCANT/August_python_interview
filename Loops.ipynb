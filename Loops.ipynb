{
 "cells": [
  {
   "cell_type": "code",
   "execution_count": null,
   "metadata": {},
   "outputs": [],
   "source": [
    "https://www.w3schools.com/python/python_for_loops.asp\n",
    "https://www.w3schools.com/python/python_while_loops.asp\n",
    "https://github.com/DONTSAYCANT/python_may_june_batch/blob/main/Loops%20.ipynb"
   ]
  },
  {
   "cell_type": "markdown",
   "metadata": {},
   "source": [
    "# For loop"
   ]
  },
  {
   "cell_type": "code",
   "execution_count": null,
   "metadata": {},
   "outputs": [],
   "source": [
    "#Why loop ?\n",
    "#range function\n",
    "#when for loop"
   ]
  },
  {
   "cell_type": "code",
   "execution_count": null,
   "metadata": {},
   "outputs": [],
   "source": [
    "#Run same code repeatedly for while"
   ]
  },
  {
   "cell_type": "code",
   "execution_count": 1,
   "metadata": {},
   "outputs": [
    {
     "name": "stdout",
     "output_type": "stream",
     "text": [
      "30\n"
     ]
    }
   ],
   "source": [
    "#need for loop  No\n",
    "\n",
    "a = 10\n",
    "b = 20\n",
    "\n",
    "print(a+b)\n"
   ]
  },
  {
   "cell_type": "code",
   "execution_count": 2,
   "metadata": {},
   "outputs": [
    {
     "name": "stdout",
     "output_type": "stream",
     "text": [
      "[1, 2, 3, 4, 5, 9, 8, 7, 6, 5]\n"
     ]
    }
   ],
   "source": [
    "#Loop ? \n",
    "\n",
    "a = [1,2,3,4,5]\n",
    "b = [9,8,7,6,5]\n",
    "\n",
    "print(a+b)"
   ]
  },
  {
   "cell_type": "code",
   "execution_count": 4,
   "metadata": {},
   "outputs": [
    {
     "name": "stdout",
     "output_type": "stream",
     "text": [
      "hello \n",
      "hello \n",
      "hello \n",
      "hello \n",
      "hello \n",
      "hello \n"
     ]
    }
   ],
   "source": [
    "for i in range(6):\n",
    "    print(\"hello \")"
   ]
  },
  {
   "cell_type": "code",
   "execution_count": 1,
   "metadata": {},
   "outputs": [
    {
     "name": "stdout",
     "output_type": "stream",
     "text": [
      "hello \n",
      "hello \n",
      "hello \n",
      "hello \n",
      "hello \n"
     ]
    }
   ],
   "source": [
    "print(\"hello \")\n",
    "print(\"hello \")\n",
    "print(\"hello \")\n",
    "print(\"hello \")\n",
    "print(\"hello \")"
   ]
  },
  {
   "cell_type": "code",
   "execution_count": null,
   "metadata": {},
   "outputs": [],
   "source": []
  },
  {
   "cell_type": "code",
   "execution_count": 9,
   "metadata": {
    "scrolled": true
   },
   "outputs": [
    {
     "name": "stdout",
     "output_type": "stream",
     "text": [
      "10\n",
      "9\n",
      "7\n",
      "6\n",
      "4\n",
      "3\n",
      "1\n",
      "3\n",
      "4\n",
      "5\n",
      "6\n",
      "3\n",
      "4\n",
      "5\n",
      "6\n",
      "10\n"
     ]
    }
   ],
   "source": [
    "a = [10,9,7,6,4,3,1]\n",
    "\n",
    "for temp in a: #for keyword #i temp variable iterating variable #a collection or data strucuture\n",
    "    print(temp)\n",
    "    \n",
    "tup = (3,4,5,6)\n",
    "\n",
    "for i in tup:\n",
    "    print(i)\n",
    "    \n",
    "set1 = {10,4,5,6,3}\n",
    "\n",
    "for i in set1:\n",
    "    print(i)\n",
    "    \n",
    "for <temp variable> in <data strucutre>:\n",
    "    print(temp variable)\n",
    "    "
   ]
  },
  {
   "cell_type": "code",
   "execution_count": null,
   "metadata": {},
   "outputs": [],
   "source": [
    "{1:10,2:20,3:30,4:50}\n",
    "1. add all keys\n",
    "2. add all values\n",
    "3. multiple key and value and add it (1*10) + (2*20) + (3*30) + (4*50)"
   ]
  },
  {
   "cell_type": "code",
   "execution_count": 8,
   "metadata": {},
   "outputs": [
    {
     "name": "stdout",
     "output_type": "stream",
     "text": [
      "22\n"
     ]
    }
   ],
   "source": [
    "temp = 0\n",
    "\n",
    "List1 = [1,2,4,5,10]\n",
    "\n",
    "for val in List1:\n",
    "    temp = temp + val\n",
    "print(temp)"
   ]
  },
  {
   "cell_type": "code",
   "execution_count": 9,
   "metadata": {},
   "outputs": [
    {
     "name": "stdout",
     "output_type": "stream",
     "text": [
      "10\n"
     ]
    }
   ],
   "source": [
    "temp = 0\n",
    "\n",
    "Dict1 = {1:10,2:20,3:30,4:50}\n",
    "\n",
    "for val in Dict1:\n",
    "    temp = temp + val\n",
    "print(temp)"
   ]
  },
  {
   "cell_type": "code",
   "execution_count": 10,
   "metadata": {},
   "outputs": [
    {
     "name": "stdout",
     "output_type": "stream",
     "text": [
      "110\n"
     ]
    }
   ],
   "source": [
    "temp = 0\n",
    "\n",
    "Dict1 = {1:10,2:20,3:30,4:50}\n",
    "\n",
    "for val in Dict1.values():\n",
    "    temp = temp + val\n",
    "print(temp)"
   ]
  },
  {
   "cell_type": "code",
   "execution_count": 11,
   "metadata": {},
   "outputs": [
    {
     "name": "stdout",
     "output_type": "stream",
     "text": [
      "110\n"
     ]
    }
   ],
   "source": [
    "temp = 0\n",
    "\n",
    "Dict1 = {1:10,2:20,3:30,4:50}\n",
    "\n",
    "for val in Dict1:\n",
    "    temp = temp + Dict1[val]\n",
    "print(temp)"
   ]
  },
  {
   "cell_type": "code",
   "execution_count": 18,
   "metadata": {},
   "outputs": [
    {
     "name": "stdout",
     "output_type": "stream",
     "text": [
      "1\n",
      "10\n",
      "10\n",
      "End\n",
      "2\n",
      "20\n",
      "50\n",
      "End\n",
      "3\n",
      "30\n",
      "140\n",
      "End\n",
      "4\n",
      "50\n",
      "340\n",
      "End\n",
      "340\n"
     ]
    }
   ],
   "source": [
    "temp = 0\n",
    "\n",
    "Dict1 = {1:10,2:20,3:30,4:50}\n",
    "\n",
    "for val in Dict1:\n",
    "    print(val)\n",
    "    print(Dict1[val])\n",
    "    temp = temp + (val * Dict1[val])\n",
    "    print(temp)\n",
    "    print(\"End\")\n",
    "print(temp)"
   ]
  },
  {
   "cell_type": "code",
   "execution_count": null,
   "metadata": {},
   "outputs": [],
   "source": []
  },
  {
   "cell_type": "code",
   "execution_count": null,
   "metadata": {},
   "outputs": [],
   "source": []
  },
  {
   "cell_type": "code",
   "execution_count": 13,
   "metadata": {},
   "outputs": [
    {
     "name": "stdout",
     "output_type": "stream",
     "text": [
      "1\n",
      "2\n",
      "3\n",
      "4\n",
      "1\n",
      "2\n",
      "3\n",
      "4\n",
      "gokul\n",
      "python\n",
      "mani\n",
      "ravi\n",
      "gokul\n",
      "python\n",
      "mani\n",
      "ravi\n"
     ]
    }
   ],
   "source": [
    "dict1 = {1:\"gokul\", 2:\"python\",3:\"mani\",4:\"ravi\"}\n",
    "\n",
    "for i in dict1:\n",
    "    print(i)\n",
    "    \n",
    "for i in dict1.keys():\n",
    "    print(i)\n",
    "    \n",
    "for i in dict1.values():\n",
    "    print(i)\n",
    "    \n",
    "for i in dict1:\n",
    "    print(dict1[i])"
   ]
  },
  {
   "cell_type": "code",
   "execution_count": null,
   "metadata": {},
   "outputs": [],
   "source": [
    "[1,2,4,5,10]\n",
    "\n",
    "4. for loop use add elements ===> 22"
   ]
  },
  {
   "cell_type": "code",
   "execution_count": 14,
   "metadata": {},
   "outputs": [
    {
     "name": "stdout",
     "output_type": "stream",
     "text": [
      "ravi\n"
     ]
    }
   ],
   "source": [
    "dict1 = {1:\"gokul\", 2:\"python\",3:\"mani\",4:\"ravi\"}\n",
    "\n",
    "print(dict1[4])"
   ]
  },
  {
   "cell_type": "code",
   "execution_count": 23,
   "metadata": {},
   "outputs": [
    {
     "name": "stdout",
     "output_type": "stream",
     "text": [
      "[0, 1, 2, 3, 4]\n",
      "[1, 2, 3, 4]\n",
      "[5, 6, 7, 8, 9, 10, 11, 12, 13, 14, 15, 16, 17, 18, 19]\n",
      "[-5, -4, -3, -2, -1, 0, 1, 2, 3, 4]\n",
      "[10, 20, 30, 40, 50, 60, 70, 80, 90]\n",
      "[10, 9, 8, 7, 6, 5, 4, 3, 2, 1]\n",
      "[-5, -2, 1, 4]\n",
      "[10, 15, 20, 25, 30, 35, 40, 45, 50, 55, 60, 65, 70, 75, 80, 85, 90, 95]\n",
      "[10, 8, 6, 4, 2]\n"
     ]
    }
   ],
   "source": [
    "#range:\n",
    ":5\n",
    "\n",
    "print(list(range(5)))\n",
    "print(list(range(1,5)))\n",
    "print(list(range(5,20)))\n",
    "print(list(range(-5,5)))\n",
    "print(list(range(10,100,10)))\n",
    "print(list(range(10,0,-1)))\n",
    "print(list(range(-5,5,3)))\n",
    "print(list(range(10,100,5)))\n",
    "print(list(range(10,0,-2)))\n",
    "\n",
    "#Using Range function  print multiples of 5 from 0 to 75\n",
    "#Using Range function  print multiples of 8 from 0 to 72\n",
    "\n",
    "#Using Range function  print multiples of 5 from 75 to 0\n",
    "#Using Range function  print multiples of 8 from 96 to 72\n",
    "\n"
   ]
  },
  {
   "cell_type": "code",
   "execution_count": null,
   "metadata": {},
   "outputs": [],
   "source": [
    "1) get a string from user\n",
    "2) print \"hello\" n times where n is length of the string"
   ]
  },
  {
   "cell_type": "code",
   "execution_count": 23,
   "metadata": {},
   "outputs": [
    {
     "name": "stdout",
     "output_type": "stream",
     "text": [
      "[0, 5, 10, 15, 20, 25, 30, 35, 40, 45, 50, 55, 60, 65, 70]\n",
      "[10, 18, 26, 34, 42, 50, 58, 66, 74]\n"
     ]
    }
   ],
   "source": [
    "\n",
    "#Using Range function  print multiples of 5 from 0 to 75\n",
    "\n",
    "#10 to 75 multiples of 8\n",
    "\n",
    "print(list(range(0,75,5)))\n",
    "print(list(range(10,75,8)))"
   ]
  },
  {
   "cell_type": "code",
   "execution_count": null,
   "metadata": {},
   "outputs": [],
   "source": []
  },
  {
   "cell_type": "code",
   "execution_count": 5,
   "metadata": {},
   "outputs": [
    {
     "name": "stdout",
     "output_type": "stream",
     "text": [
      "154\n"
     ]
    }
   ],
   "source": [
    "List1 = [2,5,6,8,12,13]\n",
    "temp = 0\n",
    "\n",
    "for i in range(len(List1)):\n",
    "    temp = temp + (i * List1[i])\n",
    "print(temp)"
   ]
  },
  {
   "cell_type": "code",
   "execution_count": 12,
   "metadata": {},
   "outputs": [
    {
     "name": "stdout",
     "output_type": "stream",
     "text": [
      "[12, 4, 6, 8, 10, 34]\n",
      "[11, 3, 5, 7]\n"
     ]
    }
   ],
   "source": [
    "Li1 = [11,12,3,4,5,6,7,8,10,34]\n",
    "\n",
    "even = []\n",
    "odd = []\n",
    "\n",
    "for i in Li1:\n",
    "    if i % 2 == 0:\n",
    "        even.append(i)\n",
    "    else:\n",
    "        odd.append(i)\n",
    "print(odd)\n",
    "print(even)\n",
    "\n"
   ]
  },
  {
   "cell_type": "code",
   "execution_count": null,
   "metadata": {},
   "outputs": [],
   "source": [
    "#Both are same\n",
    "\n",
    "for i in Li1:\n",
    "    print(i)\n",
    "\n",
    "for i in range(len(Li1)):\n",
    "    print(Li1[i])\n"
   ]
  },
  {
   "cell_type": "markdown",
   "metadata": {},
   "source": [
    "# While loop"
   ]
  },
  {
   "cell_type": "code",
   "execution_count": 14,
   "metadata": {},
   "outputs": [
    {
     "name": "stdout",
     "output_type": "stream",
     "text": [
      "[11, 12, 13, 14, 15, 16, 17, 18, 19, 20]\n"
     ]
    }
   ],
   "source": [
    "a = 10\n",
    "Li1 = []\n",
    "\n",
    "while a < 20:\n",
    "    a = a + 1\n",
    "    Li1.append(a)\n",
    "print(Li1)"
   ]
  },
  {
   "cell_type": "code",
   "execution_count": null,
   "metadata": {},
   "outputs": [],
   "source": []
  },
  {
   "cell_type": "code",
   "execution_count": null,
   "metadata": {},
   "outputs": [],
   "source": []
  },
  {
   "cell_type": "code",
   "execution_count": null,
   "metadata": {},
   "outputs": [],
   "source": []
  },
  {
   "cell_type": "code",
   "execution_count": null,
   "metadata": {},
   "outputs": [],
   "source": []
  }
 ],
 "metadata": {
  "kernelspec": {
   "display_name": "Python 3",
   "language": "python",
   "name": "python3"
  },
  "language_info": {
   "codemirror_mode": {
    "name": "ipython",
    "version": 3
   },
   "file_extension": ".py",
   "mimetype": "text/x-python",
   "name": "python",
   "nbconvert_exporter": "python",
   "pygments_lexer": "ipython3",
   "version": "3.7.6"
  }
 },
 "nbformat": 4,
 "nbformat_minor": 4
}
