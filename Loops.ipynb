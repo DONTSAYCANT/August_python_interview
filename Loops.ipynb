{
 "cells": [
  {
   "cell_type": "code",
   "execution_count": null,
   "metadata": {},
   "outputs": [],
   "source": [
    "https://www.w3schools.com/python/python_for_loops.asp\n",
    "https://www.w3schools.com/python/python_while_loops.asp\n",
    "https://github.com/DONTSAYCANT/python_may_june_batch/blob/main/Loops%20.ipynb"
   ]
  },
  {
   "cell_type": "markdown",
   "metadata": {},
   "source": [
    "# For loop"
   ]
  },
  {
   "cell_type": "code",
   "execution_count": null,
   "metadata": {},
   "outputs": [],
   "source": [
    "#Why loop ?\n",
    "#range function\n",
    "#when for loop"
   ]
  },
  {
   "cell_type": "code",
   "execution_count": null,
   "metadata": {},
   "outputs": [],
   "source": [
    "#Run same code repeatedly for while"
   ]
  },
  {
   "cell_type": "code",
   "execution_count": 1,
   "metadata": {},
   "outputs": [
    {
     "name": "stdout",
     "output_type": "stream",
     "text": [
      "30\n"
     ]
    }
   ],
   "source": [
    "#need for loop  No\n",
    "\n",
    "a = 10\n",
    "b = 20\n",
    "\n",
    "print(a+b)\n"
   ]
  },
  {
   "cell_type": "code",
   "execution_count": 2,
   "metadata": {},
   "outputs": [
    {
     "name": "stdout",
     "output_type": "stream",
     "text": [
      "[1, 2, 3, 4, 5, 9, 8, 7, 6, 5]\n"
     ]
    }
   ],
   "source": [
    "#Loop ? \n",
    "\n",
    "a = [1,2,3,4,5]\n",
    "b = [9,8,7,6,5]\n",
    "\n",
    "print(a+b)"
   ]
  },
  {
   "cell_type": "code",
   "execution_count": 4,
   "metadata": {},
   "outputs": [
    {
     "name": "stdout",
     "output_type": "stream",
     "text": [
      "hello \n",
      "hello \n",
      "hello \n",
      "hello \n",
      "hello \n",
      "hello \n"
     ]
    }
   ],
   "source": [
    "for i in range(6):\n",
    "    print(\"hello \")"
   ]
  },
  {
   "cell_type": "code",
   "execution_count": 1,
   "metadata": {},
   "outputs": [
    {
     "name": "stdout",
     "output_type": "stream",
     "text": [
      "hello \n",
      "hello \n",
      "hello \n",
      "hello \n",
      "hello \n"
     ]
    }
   ],
   "source": [
    "print(\"hello \")\n",
    "print(\"hello \")\n",
    "print(\"hello \")\n",
    "print(\"hello \")\n",
    "print(\"hello \")"
   ]
  },
  {
   "cell_type": "code",
   "execution_count": null,
   "metadata": {},
   "outputs": [],
   "source": []
  },
  {
   "cell_type": "code",
   "execution_count": 9,
   "metadata": {
    "scrolled": true
   },
   "outputs": [
    {
     "name": "stdout",
     "output_type": "stream",
     "text": [
      "10\n",
      "9\n",
      "7\n",
      "6\n",
      "4\n",
      "3\n",
      "1\n",
      "3\n",
      "4\n",
      "5\n",
      "6\n",
      "3\n",
      "4\n",
      "5\n",
      "6\n",
      "10\n"
     ]
    }
   ],
   "source": [
    "a = [10,9,7,6,4,3,1]\n",
    "\n",
    "for temp in a: #for keyword #i temp variable iterating variable #a collection or data strucuture\n",
    "    print(temp)\n",
    "    \n",
    "tup = (3,4,5,6)\n",
    "\n",
    "for i in tup:\n",
    "    print(i)\n",
    "    \n",
    "set1 = {10,4,5,6,3}\n",
    "\n",
    "for i in set1:\n",
    "    print(i)\n",
    "    \n",
    "for <temp variable> in <data strucutre>:\n",
    "    print(temp variable)\n",
    "    "
   ]
  },
  {
   "cell_type": "code",
   "execution_count": null,
   "metadata": {},
   "outputs": [],
   "source": [
    "{1:10,2:20,3:30,4:50}\n",
    "1. add all keys\n",
    "2. add all values\n",
    "3. multiple key and value and add it (1*10) + (2*20) + (3*30) + (4*50)"
   ]
  },
  {
   "cell_type": "code",
   "execution_count": 8,
   "metadata": {},
   "outputs": [
    {
     "name": "stdout",
     "output_type": "stream",
     "text": [
      "22\n"
     ]
    }
   ],
   "source": [
    "temp = 0\n",
    "\n",
    "List1 = [1,2,4,5,10]\n",
    "\n",
    "for val in List1:\n",
    "    temp = temp + val\n",
    "print(temp)"
   ]
  },
  {
   "cell_type": "code",
   "execution_count": 9,
   "metadata": {},
   "outputs": [
    {
     "name": "stdout",
     "output_type": "stream",
     "text": [
      "10\n"
     ]
    }
   ],
   "source": [
    "temp = 0\n",
    "\n",
    "Dict1 = {1:10,2:20,3:30,4:50}\n",
    "\n",
    "for val in Dict1:\n",
    "    temp = temp + val\n",
    "print(temp)"
   ]
  },
  {
   "cell_type": "code",
   "execution_count": 10,
   "metadata": {},
   "outputs": [
    {
     "name": "stdout",
     "output_type": "stream",
     "text": [
      "110\n"
     ]
    }
   ],
   "source": [
    "temp = 0\n",
    "\n",
    "Dict1 = {1:10,2:20,3:30,4:50}\n",
    "\n",
    "for val in Dict1.values():\n",
    "    temp = temp + val\n",
    "print(temp)"
   ]
  },
  {
   "cell_type": "code",
   "execution_count": 11,
   "metadata": {},
   "outputs": [
    {
     "name": "stdout",
     "output_type": "stream",
     "text": [
      "110\n"
     ]
    }
   ],
   "source": [
    "temp = 0\n",
    "\n",
    "Dict1 = {1:10,2:20,3:30,4:50}\n",
    "\n",
    "for val in Dict1:\n",
    "    temp = temp + Dict1[val]\n",
    "print(temp)"
   ]
  },
  {
   "cell_type": "code",
   "execution_count": 18,
   "metadata": {},
   "outputs": [
    {
     "name": "stdout",
     "output_type": "stream",
     "text": [
      "1\n",
      "10\n",
      "10\n",
      "End\n",
      "2\n",
      "20\n",
      "50\n",
      "End\n",
      "3\n",
      "30\n",
      "140\n",
      "End\n",
      "4\n",
      "50\n",
      "340\n",
      "End\n",
      "340\n"
     ]
    }
   ],
   "source": [
    "temp = 0\n",
    "\n",
    "Dict1 = {1:10,2:20,3:30,4:50}\n",
    "\n",
    "for val in Dict1:\n",
    "    print(val)\n",
    "    print(Dict1[val])\n",
    "    temp = temp + (val * Dict1[val])\n",
    "    print(temp)\n",
    "    print(\"End\")\n",
    "print(temp)"
   ]
  },
  {
   "cell_type": "code",
   "execution_count": null,
   "metadata": {},
   "outputs": [],
   "source": []
  },
  {
   "cell_type": "code",
   "execution_count": null,
   "metadata": {},
   "outputs": [],
   "source": []
  },
  {
   "cell_type": "code",
   "execution_count": 13,
   "metadata": {},
   "outputs": [
    {
     "name": "stdout",
     "output_type": "stream",
     "text": [
      "1\n",
      "2\n",
      "3\n",
      "4\n",
      "1\n",
      "2\n",
      "3\n",
      "4\n",
      "gokul\n",
      "python\n",
      "mani\n",
      "ravi\n",
      "gokul\n",
      "python\n",
      "mani\n",
      "ravi\n"
     ]
    }
   ],
   "source": [
    "dict1 = {1:\"gokul\", 2:\"python\",3:\"mani\",4:\"ravi\"}\n",
    "\n",
    "for i in dict1:\n",
    "    print(i)\n",
    "    \n",
    "for i in dict1.keys():\n",
    "    print(i)\n",
    "    \n",
    "for i in dict1.values():\n",
    "    print(i)\n",
    "    \n",
    "for i in dict1:\n",
    "    print(dict1[i])"
   ]
  },
  {
   "cell_type": "code",
   "execution_count": null,
   "metadata": {},
   "outputs": [],
   "source": [
    "[1,2,4,5,10]\n",
    "\n",
    "4. for loop use add elements ===> 22"
   ]
  },
  {
   "cell_type": "code",
   "execution_count": 14,
   "metadata": {},
   "outputs": [
    {
     "name": "stdout",
     "output_type": "stream",
     "text": [
      "ravi\n"
     ]
    }
   ],
   "source": [
    "dict1 = {1:\"gokul\", 2:\"python\",3:\"mani\",4:\"ravi\"}\n",
    "\n",
    "print(dict1[4])"
   ]
  },
  {
   "cell_type": "code",
   "execution_count": 23,
   "metadata": {},
   "outputs": [
    {
     "name": "stdout",
     "output_type": "stream",
     "text": [
      "[0, 1, 2, 3, 4]\n",
      "[1, 2, 3, 4]\n",
      "[5, 6, 7, 8, 9, 10, 11, 12, 13, 14, 15, 16, 17, 18, 19]\n",
      "[-5, -4, -3, -2, -1, 0, 1, 2, 3, 4]\n",
      "[10, 20, 30, 40, 50, 60, 70, 80, 90]\n",
      "[10, 9, 8, 7, 6, 5, 4, 3, 2, 1]\n",
      "[-5, -2, 1, 4]\n",
      "[10, 15, 20, 25, 30, 35, 40, 45, 50, 55, 60, 65, 70, 75, 80, 85, 90, 95]\n",
      "[10, 8, 6, 4, 2]\n"
     ]
    }
   ],
   "source": [
    "#range:\n",
    ":5\n",
    "\n",
    "print(list(range(5)))\n",
    "print(list(range(1,5)))\n",
    "print(list(range(5,20)))\n",
    "print(list(range(-5,5)))\n",
    "print(list(range(10,100,10)))\n",
    "print(list(range(10,0,-1)))\n",
    "print(list(range(-5,5,3)))\n",
    "print(list(range(10,100,5)))\n",
    "print(list(range(10,0,-2)))\n",
    "\n",
    "#Using Range function  print multiples of 5 from 0 to 75\n",
    "#Using Range function  print multiples of 8 from 0 to 72\n",
    "\n",
    "#Using Range function  print multiples of 5 from 75 to 0\n",
    "#Using Range function  print multiples of 8 from 96 to 72\n",
    "\n"
   ]
  },
  {
   "cell_type": "code",
   "execution_count": null,
   "metadata": {},
   "outputs": [],
   "source": [
    "1) get a string from user\n",
    "2) print \"hello\" n times where n is length of the string"
   ]
  },
  {
   "cell_type": "code",
   "execution_count": 23,
   "metadata": {},
   "outputs": [
    {
     "name": "stdout",
     "output_type": "stream",
     "text": [
      "[0, 5, 10, 15, 20, 25, 30, 35, 40, 45, 50, 55, 60, 65, 70]\n",
      "[10, 18, 26, 34, 42, 50, 58, 66, 74]\n"
     ]
    }
   ],
   "source": [
    "\n",
    "#Using Range function  print multiples of 5 from 0 to 75\n",
    "\n",
    "#10 to 75 multiples of 8\n",
    "\n",
    "print(list(range(0,75,5)))\n",
    "print(list(range(10,75,8)))"
   ]
  },
  {
   "cell_type": "code",
   "execution_count": null,
   "metadata": {},
   "outputs": [],
   "source": []
  },
  {
   "cell_type": "code",
   "execution_count": 5,
   "metadata": {},
   "outputs": [
    {
     "name": "stdout",
     "output_type": "stream",
     "text": [
      "154\n"
     ]
    }
   ],
   "source": [
    "List1 = [2,5,6,8,12,13]\n",
    "temp = 0\n",
    "\n",
    "for i in range(len(List1)):\n",
    "    temp = temp + (i * List1[i])\n",
    "print(temp)"
   ]
  },
  {
   "cell_type": "code",
   "execution_count": 12,
   "metadata": {},
   "outputs": [
    {
     "name": "stdout",
     "output_type": "stream",
     "text": [
      "[12, 4, 6, 8, 10, 34]\n",
      "[11, 3, 5, 7]\n"
     ]
    }
   ],
   "source": [
    "Li1 = [11,12,3,4,5,6,7,8,10,34]\n",
    "\n",
    "even = []\n",
    "odd = []\n",
    "\n",
    "for i in Li1:\n",
    "    if i % 2 == 0:\n",
    "        even.append(i)\n",
    "    else:\n",
    "        odd.append(i)\n",
    "print(odd)\n",
    "print(even)\n",
    "\n"
   ]
  },
  {
   "cell_type": "code",
   "execution_count": null,
   "metadata": {},
   "outputs": [],
   "source": [
    "#Both are same\n",
    "\n",
    "for i in Li1:\n",
    "    print(i)\n",
    "\n",
    "for i in range(len(Li1)):\n",
    "    print(Li1[i])\n"
   ]
  },
  {
   "cell_type": "markdown",
   "metadata": {},
   "source": [
    "# While loop"
   ]
  },
  {
   "cell_type": "code",
   "execution_count": 14,
   "metadata": {},
   "outputs": [
    {
     "name": "stdout",
     "output_type": "stream",
     "text": [
      "[11, 12, 13, 14, 15, 16, 17, 18, 19, 20]\n"
     ]
    }
   ],
   "source": [
    "a = 10\n",
    "Li1 = []\n",
    "\n",
    "while a < 20:\n",
    "    a = a + 1\n",
    "    Li1.append(a)\n",
    "print(Li1)"
   ]
  },
  {
   "cell_type": "code",
   "execution_count": null,
   "metadata": {},
   "outputs": [],
   "source": [
    "Multiples of 10 between 12 to 100 using while loop\n",
    "Multiples of 8 between 120 to 20 using while loop\n",
    "Multiples of 5 between 9 to 40 using while loop\n",
    "Multiples of 8 between 300 to 200 using while loop\n"
   ]
  },
  {
   "cell_type": "code",
   "execution_count": 25,
   "metadata": {},
   "outputs": [
    {
     "name": "stdout",
     "output_type": "stream",
     "text": [
      "please enter starting value: 10\n",
      "please enter ending value100\n",
      "[10, 20, 30, 40, 50, 60, 70, 80, 90]\n"
     ]
    }
   ],
   "source": [
    "#Multiples of 10 between 10 to 100 using while loop\n",
    "\n",
    "a = int(input(\"please enter starting value: \"))\n",
    "b = int(input(\"please enter ending value\"))\n",
    "\n",
    "Li1 = []\n",
    "\n",
    "while a < b: #10<25 #11<25 #12<25 #13<25\n",
    "    if a % 10 == 0:\n",
    "        Li1.append(a)\n",
    "    a = a + 1\n",
    "print(Li1)\n",
    "    "
   ]
  },
  {
   "cell_type": "code",
   "execution_count": 16,
   "metadata": {},
   "outputs": [
    {
     "name": "stdout",
     "output_type": "stream",
     "text": [
      "please enter starting value: 10\n",
      "please enter ending value25\n",
      "10\n",
      "11\n",
      "12\n",
      "13\n",
      "14\n",
      "15\n",
      "16\n",
      "17\n",
      "18\n",
      "19\n",
      "20\n",
      "21\n",
      "22\n",
      "23\n",
      "24\n"
     ]
    }
   ],
   "source": [
    "a = int(input(\"please enter starting value: \"))\n",
    "b = int(input(\"please enter ending value\"))\n",
    "\n",
    "Li1 = []\n",
    "\n",
    "for i in range(a,b):\n",
    "    print(i)"
   ]
  },
  {
   "cell_type": "code",
   "execution_count": 26,
   "metadata": {},
   "outputs": [
    {
     "name": "stdout",
     "output_type": "stream",
     "text": [
      "10\n",
      "20\n",
      "30\n",
      "40\n",
      "50\n"
     ]
    }
   ],
   "source": [
    "Li1 = [10,20,30,40,50]\n",
    "\n",
    "#print elements in the list using while loop\n",
    "\n",
    "for i in Li1:\n",
    "    print(i)"
   ]
  },
  {
   "cell_type": "code",
   "execution_count": null,
   "metadata": {},
   "outputs": [],
   "source": [
    "#for while loop:\n",
    "\n",
    "1. List/tuple/dict/set ==> for loop\n",
    "2. range function for \n",
    "3. condition based ==> mandatory while loop"
   ]
  },
  {
   "cell_type": "code",
   "execution_count": 28,
   "metadata": {},
   "outputs": [
    {
     "name": "stdout",
     "output_type": "stream",
     "text": [
      "10\n",
      "end of iteration\n",
      "11\n",
      "end of iteration\n",
      "Multiple of 3:  12\n",
      "13\n",
      "end of iteration\n",
      "14\n",
      "end of iteration\n",
      "Multiple of 3:  15\n",
      "16\n",
      "end of iteration\n",
      "17\n",
      "end of iteration\n",
      "Multiple of 3:  18\n",
      "19\n",
      "end of iteration\n",
      "20\n",
      "end of iteration\n",
      "Multiple of 3:  21\n",
      "22\n",
      "end of iteration\n",
      "23\n",
      "end of iteration\n",
      "Multiple of 3:  24\n",
      "25\n",
      "end of iteration\n",
      "26\n",
      "end of iteration\n",
      "Multiple of 3:  27\n",
      "28\n",
      "end of iteration\n",
      "29\n",
      "end of iteration\n"
     ]
    }
   ],
   "source": [
    "#Pass continue break\n",
    "\n",
    "#continue  ===> skip the current iteration\n",
    "\n",
    "for i in range(10,30):\n",
    "    if i % 3 == 0:\n",
    "        print(\"Multiple of 3: \", i)\n",
    "        continue\n",
    "    print(i)\n",
    "    print(\"end of iteration\")"
   ]
  },
  {
   "cell_type": "code",
   "execution_count": 29,
   "metadata": {},
   "outputs": [
    {
     "name": "stdout",
     "output_type": "stream",
     "text": [
      "10\n",
      "end of iteration\n",
      "11\n",
      "end of iteration\n",
      "Multiple of 3:  12\n"
     ]
    }
   ],
   "source": [
    "#break\n",
    "\n",
    "for i in range(10,30):\n",
    "    if i % 3 == 0:\n",
    "        print(\"Multiple of 3: \", i)\n",
    "        break\n",
    "    print(i)\n",
    "    print(\"end of iteration\")"
   ]
  },
  {
   "cell_type": "code",
   "execution_count": 31,
   "metadata": {},
   "outputs": [
    {
     "name": "stdout",
     "output_type": "stream",
     "text": [
      "10\n",
      "end of iteration\n",
      "11\n",
      "end of iteration\n",
      "Multiple of 3:  12\n",
      "12\n",
      "end of iteration\n",
      "13\n",
      "end of iteration\n",
      "14\n",
      "end of iteration\n",
      "Multiple of 3:  15\n",
      "15\n",
      "end of iteration\n",
      "16\n",
      "end of iteration\n",
      "17\n",
      "end of iteration\n",
      "Multiple of 3:  18\n",
      "18\n",
      "end of iteration\n",
      "19\n",
      "end of iteration\n",
      "20\n",
      "end of iteration\n",
      "Multiple of 3:  21\n",
      "21\n",
      "end of iteration\n",
      "22\n",
      "end of iteration\n",
      "23\n",
      "end of iteration\n",
      "Multiple of 3:  24\n",
      "24\n",
      "end of iteration\n",
      "25\n",
      "end of iteration\n",
      "26\n",
      "end of iteration\n",
      "Multiple of 3:  27\n",
      "27\n",
      "end of iteration\n",
      "28\n",
      "end of iteration\n",
      "29\n",
      "end of iteration\n"
     ]
    }
   ],
   "source": [
    "#pass\n",
    "\n",
    "for i in range(10,30):\n",
    "    if i % 3 == 0:\n",
    "        print(\"Multiple of 3: \", i)\n",
    "    elif i % 5 == 0:\n",
    "        pass\n",
    "    print(i)\n",
    "    print(\"end of iteration\")\n",
    "#pass indentation filler"
   ]
  },
  {
   "cell_type": "code",
   "execution_count": 33,
   "metadata": {},
   "outputs": [
    {
     "name": "stdout",
     "output_type": "stream",
     "text": [
      "Non multiple of 3 11\n",
      "end of iteration\n",
      "Multiple of 3:  12\n",
      "Non multiple of 3 13\n",
      "end of iteration\n",
      "Non multiple of 3 14\n",
      "end of iteration\n",
      "Multiple of 3:  15\n",
      "Non multiple of 3 16\n",
      "end of iteration\n",
      "Non multiple of 3 17\n",
      "end of iteration\n",
      "Multiple of 3:  18\n",
      "Non multiple of 3 19\n",
      "end of iteration\n",
      "Non multiple of 3 20\n",
      "end of iteration\n"
     ]
    }
   ],
   "source": [
    "a = 10\n",
    "\n",
    "while a < 20:\n",
    "    a = a + 1\n",
    "    if a % 3 == 0:\n",
    "        print(\"Multiple of 3: \", a)\n",
    "        continue\n",
    "    print(\"Non multiple of 3\", a)\n",
    "    print(\"end of iteration\")"
   ]
  },
  {
   "cell_type": "code",
   "execution_count": 2,
   "metadata": {},
   "outputs": [
    {
     "name": "stdout",
     "output_type": "stream",
     "text": [
      "please enter number ele in list5\n",
      "please enter string number1: python\n",
      "please enter string number2: c\n",
      "please enter string number3: cpp\n",
      "please enter string number4: mad\n",
      "please enter string number5: groovy\n",
      "['python', 'c', 'cpp', 'mad', 'groovy']\n",
      "string with even lengths are ['python', 'groovy']\n",
      "string with odd lengths are ['c', 'cpp', 'mad']\n"
     ]
    }
   ],
   "source": [
    "len_val = int(input(\"please enter number ele in list\"))\n",
    "main = list()\n",
    "\n",
    "for i in range(len_val):\n",
    "    temp = input(\"please enter string number\" + str(i+1) + \": \")\n",
    "    main.append(temp)\n",
    "print(main)\n",
    "    \n",
    "\n",
    "even_str = list()\n",
    "odd_str = list()\n",
    "\n",
    "\n",
    "for i in main:\n",
    "    if len(i) % 2:\n",
    "        odd_str.append(i)\n",
    "    else:\n",
    "        even_str.append(i)\n",
    "\n",
    "print(\"string with even lengths are\", even_str)\n",
    "print(\"string with odd lengths are\", odd_str)\n",
    "\n",
    "\n"
   ]
  },
  {
   "cell_type": "code",
   "execution_count": null,
   "metadata": {},
   "outputs": [],
   "source": [
    "#for else\n",
    "#while else\n",
    "\n"
   ]
  },
  {
   "cell_type": "code",
   "execution_count": 3,
   "metadata": {},
   "outputs": [
    {
     "name": "stdout",
     "output_type": "stream",
     "text": [
      "for loop \n",
      "1\n",
      "for loop \n",
      "2\n",
      "for loop \n",
      "3\n",
      "for loop \n",
      "4\n",
      "for loop \n",
      "5\n",
      "for loop \n",
      "6\n",
      "else condition in for loop\n"
     ]
    }
   ],
   "source": [
    "#for else\n",
    "\n",
    "List1 = [1,2,3,4,5,6]\n",
    "\n",
    "for i in List1:\n",
    "    print(\"for loop \")\n",
    "    print(i)\n",
    "else:\n",
    "    print(\"else condition in for loop\")\n",
    "\n"
   ]
  },
  {
   "cell_type": "code",
   "execution_count": 4,
   "metadata": {},
   "outputs": [
    {
     "name": "stdout",
     "output_type": "stream",
     "text": [
      "for loop \n",
      "1\n",
      "for loop \n",
      "2\n",
      "for loop \n",
      "3\n",
      "for loop \n",
      "4\n",
      "for loop \n",
      "5\n",
      "for loop \n",
      "6\n",
      "else condition in for loop\n"
     ]
    }
   ],
   "source": [
    "List1 = [1,2,3,4,5,6]\n",
    "\n",
    "for i in List1:\n",
    "    print(\"for loop \")\n",
    "    print(i)\n",
    "    if i % 3 == 0:\n",
    "        continue\n",
    "else:\n",
    "    print(\"else condition in for loop\")\n"
   ]
  },
  {
   "cell_type": "code",
   "execution_count": 5,
   "metadata": {},
   "outputs": [
    {
     "name": "stdout",
     "output_type": "stream",
     "text": [
      "for loop \n",
      "1\n",
      "for loop \n",
      "2\n",
      "for loop \n",
      "3\n"
     ]
    }
   ],
   "source": [
    "List1 = [1,2,3,4,5,6]\n",
    "\n",
    "for i in List1:\n",
    "    print(\"for loop \")\n",
    "    print(i)\n",
    "    if i % 3 == 0:\n",
    "        break\n",
    "else:\n",
    "    print(\"else condition in for loop\")\n"
   ]
  },
  {
   "cell_type": "code",
   "execution_count": 7,
   "metadata": {},
   "outputs": [
    {
     "name": "stdout",
     "output_type": "stream",
     "text": [
      "while loop\n",
      "11\n",
      "while loop\n",
      "12\n",
      "while loop\n",
      "13\n",
      "while loop\n",
      "14\n",
      "while loop\n",
      "15\n",
      "while loop\n",
      "16\n",
      "while loop\n",
      "17\n",
      "while loop\n",
      "18\n",
      "while loop\n",
      "19\n",
      "while loop\n",
      "20\n",
      "while else condition\n"
     ]
    }
   ],
   "source": [
    "#while else\n",
    "\n",
    "\n",
    "a = 10\n",
    "\n",
    "while a < 20:\n",
    "    print(\"while loop\")\n",
    "    a = a + 1\n",
    "    if a % 22 == 0:\n",
    "        break\n",
    "    print(a)\n",
    "else:\n",
    "    print(\"while else condition\")"
   ]
  },
  {
   "cell_type": "code",
   "execution_count": 8,
   "metadata": {},
   "outputs": [
    {
     "name": "stdout",
     "output_type": "stream",
     "text": [
      "while loop\n",
      "11\n",
      "while loop\n",
      "12\n",
      "while loop\n",
      "13\n",
      "while loop\n",
      "14\n",
      "while loop\n",
      "while loop\n",
      "16\n",
      "while loop\n",
      "17\n",
      "while loop\n",
      "18\n",
      "while loop\n",
      "19\n",
      "while loop\n",
      "while else condition\n"
     ]
    }
   ],
   "source": [
    "a = 10\n",
    "\n",
    "while a < 20:\n",
    "    print(\"while loop\")\n",
    "    a = a + 1\n",
    "    if a % 5 == 0:\n",
    "        continue\n",
    "    print(a)\n",
    "else:\n",
    "    print(\"while else condition\")"
   ]
  },
  {
   "cell_type": "code",
   "execution_count": null,
   "metadata": {},
   "outputs": [],
   "source": [
    "#for loop\n",
    "\n",
    "iterator for list/string/tuple/set/dictionary\n",
    "iterate for number of times === range\n",
    "for else\n",
    "\n",
    "#while loop\n",
    "\n",
    "Condition based\n",
    "while else\n",
    "\n",
    "if/elif/else can be used in both loops\n",
    "break/continue/pass  ==> by passing loops\n"
   ]
  },
  {
   "cell_type": "code",
   "execution_count": 9,
   "metadata": {},
   "outputs": [
    {
     "name": "stdout",
     "output_type": "stream",
     "text": [
      "Inside while loop 10\n",
      "Inside while loop 11\n",
      "Inside while loop 12\n",
      "Inside while loop 13\n",
      "Inside while loop 14\n",
      "Inside while loop 15\n",
      "Inside while loop 16\n"
     ]
    }
   ],
   "source": [
    "#true while\n",
    "#variable while\n",
    "a = 10\n",
    "\n",
    "while True:\n",
    "    if a % 17 == 0:\n",
    "        break\n",
    "    else:\n",
    "        print(\"Inside while loop \" + str(a))\n",
    "    a = a + 1\n",
    "    "
   ]
  },
  {
   "cell_type": "code",
   "execution_count": null,
   "metadata": {},
   "outputs": [],
   "source": [
    "\n",
    "Li1 = [1,2,3,4,5]\n",
    "\n",
    "for i in Li1:\n",
    "    Li1.append(\"x\")"
   ]
  },
  {
   "cell_type": "code",
   "execution_count": 11,
   "metadata": {},
   "outputs": [
    {
     "name": "stdout",
     "output_type": "stream",
     "text": [
      "1\n"
     ]
    },
    {
     "ename": "IndexError",
     "evalue": "list index out of range",
     "output_type": "error",
     "traceback": [
      "\u001b[1;31m---------------------------------------------------------------------------\u001b[0m",
      "\u001b[1;31mIndexError\u001b[0m                                Traceback (most recent call last)",
      "\u001b[1;32m<ipython-input-11-c9a80f91d989>\u001b[0m in \u001b[0;36m<module>\u001b[1;34m\u001b[0m\n\u001b[0;32m      2\u001b[0m \u001b[1;33m\u001b[0m\u001b[0m\n\u001b[0;32m      3\u001b[0m \u001b[0mprint\u001b[0m\u001b[1;33m(\u001b[0m\u001b[0mLis1\u001b[0m\u001b[1;33m[\u001b[0m\u001b[1;36m0\u001b[0m\u001b[1;33m]\u001b[0m\u001b[1;33m)\u001b[0m\u001b[1;33m\u001b[0m\u001b[1;33m\u001b[0m\u001b[0m\n\u001b[1;32m----> 4\u001b[1;33m \u001b[0mprint\u001b[0m\u001b[1;33m(\u001b[0m\u001b[0mLis1\u001b[0m\u001b[1;33m[\u001b[0m\u001b[1;36m100\u001b[0m\u001b[1;33m]\u001b[0m\u001b[1;33m)\u001b[0m\u001b[1;33m\u001b[0m\u001b[1;33m\u001b[0m\u001b[0m\n\u001b[0m",
      "\u001b[1;31mIndexError\u001b[0m: list index out of range"
     ]
    }
   ],
   "source": [
    "Lis1 = [1,2,3,4,5]\n",
    "\n",
    "print(Lis1[0])\n",
    "print(Lis1[100])"
   ]
  },
  {
   "cell_type": "code",
   "execution_count": null,
   "metadata": {},
   "outputs": [],
   "source": []
  }
 ],
 "metadata": {
  "kernelspec": {
   "display_name": "Python 3",
   "language": "python",
   "name": "python3"
  },
  "language_info": {
   "codemirror_mode": {
    "name": "ipython",
    "version": 3
   },
   "file_extension": ".py",
   "mimetype": "text/x-python",
   "name": "python",
   "nbconvert_exporter": "python",
   "pygments_lexer": "ipython3",
   "version": "3.7.6"
  }
 },
 "nbformat": 4,
 "nbformat_minor": 4
}
