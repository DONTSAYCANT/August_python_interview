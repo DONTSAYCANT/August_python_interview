{
 "cells": [
  {
   "cell_type": "code",
   "execution_count": null,
   "metadata": {},
   "outputs": [],
   "source": [
    "Functions:\n",
    "    \n",
    "automating set of repeated codes \n",
    "\n",
    "Inbuilt function or built in function\n",
    "User defined function\n",
    "\n",
    "Function definition\n",
    "Funciton call\n"
   ]
  },
  {
   "cell_type": "code",
   "execution_count": 4,
   "metadata": {},
   "outputs": [
    {
     "name": "stdout",
     "output_type": "stream",
     "text": [
      "600\n",
      "1000\n",
      "1400\n"
     ]
    }
   ],
   "source": [
    "a = 10\n",
    "b = 20\n",
    "\n",
    "c = a + b\n",
    "d = c * 20\n",
    "print(d)\n",
    "\n",
    "e = 20\n",
    "f = 30\n",
    "\n",
    "g = e + f\n",
    "h = g * 20\n",
    "print(h)\n",
    "\n",
    "u = 40\n",
    "v = 30\n",
    "\n",
    "w = u + v\n",
    "x = w * 20\n",
    "print(x)"
   ]
  },
  {
   "cell_type": "code",
   "execution_count": 8,
   "metadata": {},
   "outputs": [
    {
     "name": "stdout",
     "output_type": "stream",
     "text": [
      "600\n",
      "1000\n",
      "1400\n"
     ]
    }
   ],
   "source": [
    "a = 10\n",
    "b = 20\n",
    "e = 20\n",
    "f = 30\n",
    "u = 40\n",
    "v = 30\n",
    "\n",
    "def calculate(m,n): #user defined function\n",
    "    return (m+n)*20\n",
    "\n",
    "print(calculate(a,b))\n",
    "print(calculate(e,f))\n",
    "print(calculate(u,v))"
   ]
  },
  {
   "cell_type": "code",
   "execution_count": 7,
   "metadata": {},
   "outputs": [
    {
     "name": "stdout",
     "output_type": "stream",
     "text": [
      "hello\n",
      "<class 'str'>\n",
      "140714130386416\n"
     ]
    }
   ],
   "source": [
    "print(\"hello\")\n",
    "print(type(\"hello\")) #inbuilt function\n",
    "a = 100\n",
    "print(id(a)) #function call"
   ]
  },
  {
   "cell_type": "code",
   "execution_count": 19,
   "metadata": {},
   "outputs": [
    {
     "name": "stdout",
     "output_type": "stream",
     "text": [
      "hello\n",
      "600\n",
      "hello\n",
      "2200\n"
     ]
    }
   ],
   "source": [
    "a = 10\n",
    "b = 20\n",
    "e = 20\n",
    "f = 30\n",
    "u = 40\n",
    "v = 30\n",
    "\n",
    "\n",
    "def calculate_value(m,n):\n",
    "    print(\"hello\")\n",
    "    return (m+n)*20\n",
    "\n",
    "\n",
    "\n",
    "def calculate_value2(m,n):\n",
    "    f = m + n\n",
    "    u = f * 20\n",
    "    return u\n",
    "\n",
    "\n",
    "print(calculate_value(a,b))\n",
    "print(calculate_value(100,10))\n",
    "\n",
    "\n",
    "#function definition should come first \n",
    "#return should be the last line of the function defininition\n",
    "#Number of arguement in function call and function definition should be same (Not for all)"
   ]
  },
  {
   "cell_type": "code",
   "execution_count": 23,
   "metadata": {},
   "outputs": [
    {
     "name": "stdout",
     "output_type": "stream",
     "text": [
      "(30, -10)\n",
      "15\n",
      "-5\n"
     ]
    }
   ],
   "source": [
    "a = 10\n",
    "b = 20\n",
    "e = 20\n",
    "f = 30\n",
    "u = 40\n",
    "v = 30\n",
    "\n",
    "\n",
    "def calculate_value(m,n):\n",
    "    return m+n,m-n\n",
    "\n",
    "value = calculate_value(20,10)\n",
    "print(value)\n",
    "\n",
    "value1,value2 = calculate_value(10,5)\n",
    "print(value1)\n",
    "print(value2)\n"
   ]
  },
  {
   "cell_type": "code",
   "execution_count": 26,
   "metadata": {},
   "outputs": [
    {
     "name": "stdout",
     "output_type": "stream",
     "text": [
      "palin\n",
      "not at all palin\n"
     ]
    }
   ],
   "source": [
    "#write program to check string palidrome or no\n",
    "\n",
    "a = \"malayalam\"\n",
    "\n",
    "if a == a[::-1]:\n",
    "    print(\"palin\")\n",
    "else:\n",
    "    print(\"not at all palin\")\n",
    "    \n",
    "b = \"dada\"\n",
    "\n",
    "if b == b[::-1]:\n",
    "    print(\"palin\")\n",
    "else:\n",
    "    print(\"not at all palin\")"
   ]
  },
  {
   "cell_type": "code",
   "execution_count": 29,
   "metadata": {},
   "outputs": [
    {
     "name": "stdout",
     "output_type": "stream",
     "text": [
      "not a palindrome\n",
      "palindrome\n",
      "not a palindrome\n"
     ]
    }
   ],
   "source": [
    "def palindrome_check(string1): #string local variable\n",
    "    if string1 == string1[::-1]:\n",
    "        return \"palindrome\"\n",
    "    else:\n",
    "        return \"not a palindrome\"\n",
    "    \n",
    "    \n",
    "print(palindrome_check(\"ma\"))\n",
    "print(palindrome_check(\"amma\"))\n",
    "print(palindrome_check(\"maaaaa\"))\n"
   ]
  },
  {
   "cell_type": "code",
   "execution_count": 34,
   "metadata": {},
   "outputs": [
    {
     "name": "stdout",
     "output_type": "stream",
     "text": [
      "palindrome\n",
      "False\n",
      "True\n",
      "False\n"
     ]
    }
   ],
   "source": [
    "def palindrome_check(string1): #string local variable\n",
    "    return string1 == string1[::-1]\n",
    "    \n",
    "if palindrome_check(\"amma\"):\n",
    "    print( \"palindrome\")\n",
    "else:\n",
    "    print(\"not a palindrome\")\n",
    "    \n",
    "    \n",
    "print(palindrome_check(\"ma\"))\n",
    "print(palindrome_check(\"amma\"))\n",
    "print(palindrome_check(\"maaaaa\"))"
   ]
  },
  {
   "cell_type": "code",
   "execution_count": null,
   "metadata": {},
   "outputs": [],
   "source": [
    "local"
   ]
  },
  {
   "cell_type": "code",
   "execution_count": null,
   "metadata": {},
   "outputs": [],
   "source": [
    "#input ==> ? number of arguments"
   ]
  },
  {
   "cell_type": "code",
   "execution_count": null,
   "metadata": {},
   "outputs": [],
   "source": [
    "#without args"
   ]
  },
  {
   "cell_type": "code",
   "execution_count": 27,
   "metadata": {},
   "outputs": [
    {
     "name": "stdout",
     "output_type": "stream",
     "text": [
      "10\n",
      "11\n",
      "12\n",
      "13\n",
      "14\n",
      "24\n"
     ]
    }
   ],
   "source": [
    "for i in range(10,15):\n",
    "    print(i)\n",
    "    \n",
    "print(i+10)  #wrong "
   ]
  },
  {
   "cell_type": "code",
   "execution_count": 1,
   "metadata": {},
   "outputs": [
    {
     "name": "stdout",
     "output_type": "stream",
     "text": [
      "enter the first string g\n",
      "enter the second stringggh\n"
     ]
    },
    {
     "data": {
      "text/plain": [
       "'gggh'"
      ]
     },
     "execution_count": 1,
     "metadata": {},
     "output_type": "execute_result"
    }
   ],
   "source": [
    "a = input(\"enter the first string \")\n",
    "b = input(\"enter the second string\")\n",
    "\n",
    "def anagram_check(value1, value2):\n",
    "    return value1+value2\n",
    "\n",
    "anagram_check(a,b)\n",
    "    \n",
    "    \n"
   ]
  },
  {
   "cell_type": "code",
   "execution_count": null,
   "metadata": {},
   "outputs": [],
   "source": []
  }
 ],
 "metadata": {
  "kernelspec": {
   "display_name": "Python 3",
   "language": "python",
   "name": "python3"
  },
  "language_info": {
   "codemirror_mode": {
    "name": "ipython",
    "version": 3
   },
   "file_extension": ".py",
   "mimetype": "text/x-python",
   "name": "python",
   "nbconvert_exporter": "python",
   "pygments_lexer": "ipython3",
   "version": "3.7.6"
  }
 },
 "nbformat": 4,
 "nbformat_minor": 4
}
