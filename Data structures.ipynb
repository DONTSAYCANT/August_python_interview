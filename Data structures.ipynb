{
 "cells": [
  {
   "cell_type": "code",
   "execution_count": null,
   "metadata": {},
   "outputs": [],
   "source": [
    "#https://www.w3schools.com/python/python_lists.asp\n",
    "#https://www.w3schools.com/python/python_tuples.asp\n",
    "#https://www.w3schools.com/python/python_sets.asp\n",
    "#https://www.w3schools.com/python/python_dictionaries.asp \n",
    "\n"
   ]
  },
  {
   "cell_type": "code",
   "execution_count": null,
   "metadata": {},
   "outputs": [],
   "source": [
    "#what is data structures:\n",
    "\n",
    "#structuring data\n",
    "#storage of elements \n",
    "#collection elements \n",
    "\n",
    "val = 10\n",
    "\n",
    "val2 = \"ram\"\n",
    "\n",
    "\n",
    "val3 = {\"name\": \"ram\", \"age\":\"30\", \"address\":\"bbbb,\"vellore\", \"from\":\"katpadi\", \"to\":\"bangalore\"}\n",
    "\n",
    "#data storage\n",
    "\n",
    "#Python Basic :\n",
    "\n",
    "1. List (***)\n",
    "2. tuple\n",
    "3. Set\n",
    "4. Dictionary (**)\n",
    "\n",
    "Braces ==> {} ==> formatting () ==> function call [] ==> indexing and slicing\n",
    "\n",
    "\n",
    "Difference between datastrutures \n",
    "\n",
    "1. [] ==> list  () ===> tuple  {}  ===> set  {:} ===> Dictionary (key-value pair)\n",
    "\n",
    "2. List ===> Indexing/Ordering  Tuple  ==> Indexing/Ordering Set/Dictionary ==> No indexing ordering\n",
    "\n",
    "3. List/set/Dictionary ==> Mutable  Tuple  ===> Immutable\n",
    "\n",
    "4. + operator (concatenation) ===> supported for List/Tuple  Not supported for ===> Set/Dictionary\n",
    "\n",
    "5.\n"
   ]
  },
  {
   "cell_type": "code",
   "execution_count": 2,
   "metadata": {},
   "outputs": [
    {
     "name": "stdout",
     "output_type": "stream",
     "text": [
      "[1, 2, 3, 4, 5, 6, 7]\n",
      "<class 'list'>\n",
      "['str', 1, 2.4, False, 'c', 'gap']\n"
     ]
    }
   ],
   "source": [
    "#List\n",
    "\n",
    "#[]\n",
    "#heterogenous datastructure\n",
    "#List supports indexing\n",
    "\n",
    "var1 = [1,2,3,4,5,6,7]\n",
    "\n",
    "print(var1)\n",
    "\n",
    "print(type(var1))\n",
    "\n",
    "var2 = [\"str\", 1, 2.4, False, \"c\", \"gap\"]\n",
    "\n",
    "print(var2)\n",
    "\n",
    "#https://www.w3schools.com/python/python_lists.asp\n",
    "#https://www.w3schools.com/python/python_lists_methods.asp\n",
    "\n",
    "\n"
   ]
  },
  {
   "cell_type": "code",
   "execution_count": 3,
   "metadata": {},
   "outputs": [
    {
     "name": "stdout",
     "output_type": "stream",
     "text": [
      "2.4\n",
      "r\n"
     ]
    }
   ],
   "source": [
    "#Indexing \n",
    "\n",
    "var2 = [\"str\", 1, 2.4, False, \"c\", \"gap\"]\n",
    "\n",
    "print(var2[-4])\n",
    "\n",
    "print(var2[0][-1])\n"
   ]
  },
  {
   "cell_type": "code",
   "execution_count": null,
   "metadata": {},
   "outputs": [],
   "source": [
    "#https://www.w3schools.com/python/python_lists.asp\n",
    "#https://www.w3schools.com/python/python_lists_methods.asp\n"
   ]
  },
  {
   "cell_type": "code",
   "execution_count": 15,
   "metadata": {},
   "outputs": [
    {
     "name": "stdout",
     "output_type": "stream",
     "text": [
      "[1, 2, 3, 4, ' ']\n",
      "<class 'list'>\n",
      "[1, 2, 3, 4, ' ', 20]\n",
      "[1, 2, 3, 4, ' ', 20, [1, 2, 3]]\n",
      "[1, 2, 3, 4, ' ', 20, [1, 2, 3], True]\n"
     ]
    }
   ],
   "source": [
    "#append\n",
    "\n",
    "Li1 = [1,2,3,4,\" \"]\n",
    "\n",
    "print(Li1)\n",
    "\n",
    "print(type(Li1))\n",
    "\n",
    "Li1.append(20)\n",
    "\n",
    "print(Li1)\n",
    "\n",
    "Li1.append([1,2,3])\n",
    "\n",
    "print(Li1)\n",
    "\n",
    "Li1.append(True)\n",
    "\n",
    "print(Li1)\n"
   ]
  },
  {
   "cell_type": "code",
   "execution_count": 23,
   "metadata": {},
   "outputs": [
    {
     "name": "stdout",
     "output_type": "stream",
     "text": [
      "['hi', 'hello', 100000, 10.999]\n",
      "['hi', 900000, 'hello', 100000, 10.999]\n"
     ]
    }
   ],
   "source": [
    "#insert\n",
    "\n",
    "Li2 = [\"hi\", \"hello\", 10.999]\n",
    "\n",
    "Li2.insert(2, 100000) #position,element\n",
    "\n",
    "print(Li2)\n",
    "\n",
    "Li2.insert(1, 900000)\n",
    "\n",
    "print(Li2)"
   ]
  },
  {
   "cell_type": "code",
   "execution_count": 24,
   "metadata": {},
   "outputs": [
    {
     "name": "stdout",
     "output_type": "stream",
     "text": [
      "[1, 2, 3, 4, 5, 10, 14, 12]\n"
     ]
    }
   ],
   "source": [
    "#Concatenation \n",
    "\n",
    "a = [1,2,3,4,5]\n",
    "\n",
    "print(a + [10,14,12])"
   ]
  },
  {
   "cell_type": "code",
   "execution_count": 25,
   "metadata": {},
   "outputs": [
    {
     "name": "stdout",
     "output_type": "stream",
     "text": [
      "[1, 2, 3, 4, 9, 8, 7, 6]\n"
     ]
    }
   ],
   "source": [
    "#extend\n",
    "\n",
    "a = [1,2,3,4]\n",
    "\n",
    "b = [9,8,7,6]\n",
    "\n",
    "a.extend(b)\n",
    "\n",
    "print(a)"
   ]
  },
  {
   "cell_type": "code",
   "execution_count": 26,
   "metadata": {},
   "outputs": [
    {
     "name": "stdout",
     "output_type": "stream",
     "text": [
      "[100, 102, 103, 'gokul']\n"
     ]
    }
   ],
   "source": [
    "#replace\n",
    "\n",
    "a = [100,102,103,104]\n",
    "\n",
    "a[3] = \"gokul\"\n",
    "\n",
    "print(a)"
   ]
  },
  {
   "cell_type": "code",
   "execution_count": 28,
   "metadata": {},
   "outputs": [
    {
     "name": "stdout",
     "output_type": "stream",
     "text": [
      "[1, 2, 3, 4, 5]\n",
      "[1, 2, 3, 5]\n"
     ]
    }
   ],
   "source": [
    "#pop\n",
    "\n",
    "\n",
    "a = [1,2,3,4,5,6]\n",
    "\n",
    "a.pop()\n",
    "\n",
    "print(a)\n",
    "\n",
    "a.pop(3)\n",
    "\n",
    "print(a)"
   ]
  },
  {
   "cell_type": "code",
   "execution_count": 30,
   "metadata": {},
   "outputs": [
    {
     "name": "stdout",
     "output_type": "stream",
     "text": [
      "[2, 4, 5, 6]\n"
     ]
    }
   ],
   "source": [
    "#remove\n",
    "\n",
    "a = [2,3,4,5,6]\n",
    "\n",
    "a.remove(3)\n",
    "\n",
    "print(a)"
   ]
  },
  {
   "cell_type": "code",
   "execution_count": 31,
   "metadata": {},
   "outputs": [
    {
     "name": "stdout",
     "output_type": "stream",
     "text": [
      "100\n",
      "1000\n",
      "1600\n"
     ]
    }
   ],
   "source": [
    "#max / min / sum\n",
    "\n",
    "a = [100,200,300,1000]\n",
    "\n",
    "print(min(a))\n",
    "print(max(a))\n",
    "print(sum(a))"
   ]
  },
  {
   "cell_type": "code",
   "execution_count": 41,
   "metadata": {},
   "outputs": [
    {
     "name": "stdout",
     "output_type": "stream",
     "text": [
      "['<', 'D', 'X', ']', 'a', 'm', 'o', 'r']\n",
      "[3, 9, 7, 6, 2, 4, 1]\n"
     ]
    }
   ],
   "source": [
    "#sort /reverse\n",
    "\n",
    "a = [\"a\", \"r\", \"X\", \"D\", \"m\", \"o\", \"<\", \"]\"]\n",
    "\n",
    "a.sort(reverse=False)  #reverse=True ==> descending order \n",
    "print(a)\n",
    "\n",
    "a = [1,4,2,6,7,9,3]\n",
    "\n",
    "a.reverse()\n",
    "\n",
    "print(a)"
   ]
  },
  {
   "cell_type": "code",
   "execution_count": 56,
   "metadata": {},
   "outputs": [
    {
     "name": "stdout",
     "output_type": "stream",
     "text": [
      "[1, 2, 3, 4, 5, 6]\n",
      "[1, 2, 3, 4, 5, 6]\n",
      "2035311331592\n",
      "2035311331592\n",
      "[1, 'python', 3, 4, 5, 6]\n",
      "[1, 'python', 3, 4, 5, 6]\n"
     ]
    }
   ],
   "source": [
    "#copy #Deep copy and shallow copy  ?\n",
    "\n",
    "\n",
    "\n",
    "a = [1,2,3,4,5,6]\n",
    "\n",
    "b = a \n",
    "\n",
    "print(a)\n",
    "\n",
    "print(b)\n",
    "\n",
    "print(id(a))\n",
    "\n",
    "print(id(b))\n",
    "\n",
    "a[1] = \"python\"\n",
    "\n",
    "print(a)\n",
    "\n",
    "print(b)\n",
    "\n",
    "#shallow copy\n"
   ]
  },
  {
   "cell_type": "code",
   "execution_count": 57,
   "metadata": {},
   "outputs": [
    {
     "name": "stdout",
     "output_type": "stream",
     "text": [
      "[1, 2, 3, 4, 5]\n",
      "[1, 2, 3, 4, 5]\n",
      "2035304407240\n",
      "2035314938632\n",
      "[1, 'python', 3, 4, 5]\n",
      "[1, 2, 3, 4, 5]\n"
     ]
    }
   ],
   "source": [
    "a = [1,2,3,4,5]\n",
    "\n",
    "b = a.copy()\n",
    "\n",
    "print(a)\n",
    "\n",
    "print(b)\n",
    "\n",
    "print(id(a))\n",
    "\n",
    "print(id(b))\n",
    "\n",
    "a[1] = \"python\"\n",
    "\n",
    "print(a)\n",
    "\n",
    "print(b)\n",
    "\n",
    "#deep copy"
   ]
  },
  {
   "cell_type": "code",
   "execution_count": 50,
   "metadata": {},
   "outputs": [
    {
     "name": "stdout",
     "output_type": "stream",
     "text": [
      "[]\n"
     ]
    }
   ],
   "source": [
    "#clear\n",
    "\n",
    "Li1 = [1,2,34,5,6]\n",
    "\n",
    "Li1.clear()\n",
    "\n",
    "print(Li1)\n"
   ]
  },
  {
   "cell_type": "code",
   "execution_count": 53,
   "metadata": {},
   "outputs": [
    {
     "ename": "NameError",
     "evalue": "name 'Li1' is not defined",
     "output_type": "error",
     "traceback": [
      "\u001b[1;31m---------------------------------------------------------------------------\u001b[0m",
      "\u001b[1;31mNameError\u001b[0m                                 Traceback (most recent call last)",
      "\u001b[1;32m<ipython-input-53-4b1444f3effb>\u001b[0m in \u001b[0;36m<module>\u001b[1;34m\u001b[0m\n\u001b[0;32m      5\u001b[0m \u001b[1;32mdel\u001b[0m\u001b[1;33m(\u001b[0m\u001b[0mLi1\u001b[0m\u001b[1;33m)\u001b[0m\u001b[1;33m\u001b[0m\u001b[1;33m\u001b[0m\u001b[0m\n\u001b[0;32m      6\u001b[0m \u001b[1;33m\u001b[0m\u001b[0m\n\u001b[1;32m----> 7\u001b[1;33m \u001b[0mprint\u001b[0m\u001b[1;33m(\u001b[0m\u001b[0mLi1\u001b[0m\u001b[1;33m)\u001b[0m\u001b[1;33m\u001b[0m\u001b[1;33m\u001b[0m\u001b[0m\n\u001b[0m\u001b[0;32m      8\u001b[0m \u001b[1;33m\u001b[0m\u001b[0m\n\u001b[0;32m      9\u001b[0m \u001b[0mLi2\u001b[0m \u001b[1;33m=\u001b[0m \u001b[1;33m[\u001b[0m\u001b[1;36m2\u001b[0m\u001b[1;33m,\u001b[0m\u001b[1;36m3\u001b[0m\u001b[1;33m,\u001b[0m\u001b[1;36m4\u001b[0m\u001b[1;33m,\u001b[0m\u001b[1;36m5\u001b[0m\u001b[1;33m,\u001b[0m\u001b[1;36m6\u001b[0m\u001b[1;33m]\u001b[0m\u001b[1;33m\u001b[0m\u001b[1;33m\u001b[0m\u001b[0m\n",
      "\u001b[1;31mNameError\u001b[0m: name 'Li1' is not defined"
     ]
    }
   ],
   "source": [
    "#del\n",
    "\n",
    "Li1 = [1,2,3,4,5]\n",
    "\n",
    "del(Li1)\n",
    "\n",
    "print(Li1)\n",
    "\n",
    "Li2 = [2,3,4,5,6]\n",
    "\n",
    "del(Li2[2:])\n",
    "\n",
    "print(Li2)"
   ]
  },
  {
   "cell_type": "code",
   "execution_count": 47,
   "metadata": {},
   "outputs": [
    {
     "name": "stdout",
     "output_type": "stream",
     "text": [
      "1\n"
     ]
    }
   ],
   "source": [
    "#index\n",
    "\n",
    "Li1 = [1,2,3,4,5]\n",
    "\n",
    "print(Li1.index(2))"
   ]
  },
  {
   "cell_type": "code",
   "execution_count": 43,
   "metadata": {},
   "outputs": [
    {
     "name": "stdout",
     "output_type": "stream",
     "text": [
      "3\n"
     ]
    }
   ],
   "source": [
    "#count\n",
    "\n",
    "\n",
    "Li1 = [0,9,0,0,3,4,5,5]\n",
    "print(Li1.count(0))"
   ]
  },
  {
   "cell_type": "code",
   "execution_count": null,
   "metadata": {},
   "outputs": [],
   "source": [
    "#Tuple\n",
    "\n",
    "#()\n",
    "#immutable (Once created its not avialble for change)\n",
    "#indexed\n",
    "\n",
    "\n",
    "\n"
   ]
  },
  {
   "cell_type": "code",
   "execution_count": 4,
   "metadata": {},
   "outputs": [
    {
     "ename": "AttributeError",
     "evalue": "'tuple' object has no attribute 'append'",
     "output_type": "error",
     "traceback": [
      "\u001b[1;31m---------------------------------------------------------------------------\u001b[0m",
      "\u001b[1;31mAttributeError\u001b[0m                            Traceback (most recent call last)",
      "\u001b[1;32m<ipython-input-4-3f105536e2b9>\u001b[0m in \u001b[0;36m<module>\u001b[1;34m\u001b[0m\n\u001b[0;32m      1\u001b[0m \u001b[0ma\u001b[0m \u001b[1;33m=\u001b[0m \u001b[1;33m(\u001b[0m\u001b[1;36m1\u001b[0m\u001b[1;33m,\u001b[0m\u001b[1;36m2\u001b[0m\u001b[1;33m,\u001b[0m\u001b[1;36m3\u001b[0m\u001b[1;33m,\u001b[0m\u001b[1;36m4\u001b[0m\u001b[1;33m)\u001b[0m\u001b[1;33m\u001b[0m\u001b[1;33m\u001b[0m\u001b[0m\n\u001b[0;32m      2\u001b[0m \u001b[1;33m\u001b[0m\u001b[0m\n\u001b[1;32m----> 3\u001b[1;33m \u001b[0ma\u001b[0m\u001b[1;33m.\u001b[0m\u001b[0mappend\u001b[0m\u001b[1;33m(\u001b[0m\u001b[1;36m3\u001b[0m\u001b[1;33m)\u001b[0m\u001b[1;33m\u001b[0m\u001b[1;33m\u001b[0m\u001b[0m\n\u001b[0m",
      "\u001b[1;31mAttributeError\u001b[0m: 'tuple' object has no attribute 'append'"
     ]
    }
   ],
   "source": [
    "a = (1,2,3,4)\n",
    "\n",
    "a.append(3)"
   ]
  },
  {
   "cell_type": "code",
   "execution_count": 3,
   "metadata": {},
   "outputs": [
    {
     "name": "stdout",
     "output_type": "stream",
     "text": [
      "(1, 2, 3, 4)\n",
      "<class 'tuple'>\n",
      "3\n"
     ]
    }
   ],
   "source": [
    "a = (1,2,3,4)\n",
    "\n",
    "print(a)\n",
    "print(type(a))\n",
    "\n",
    "\n",
    "print(a[2]) #indexing possible"
   ]
  },
  {
   "cell_type": "code",
   "execution_count": 5,
   "metadata": {},
   "outputs": [
    {
     "name": "stdout",
     "output_type": "stream",
     "text": [
      "(1, 2, 3, 3, 4, 5)\n"
     ]
    }
   ],
   "source": [
    "#concatenation\n",
    "\n",
    "a = (1,2,3)\n",
    "b = (3,4,5)\n",
    "\n",
    "print(a+b)"
   ]
  },
  {
   "cell_type": "code",
   "execution_count": 6,
   "metadata": {},
   "outputs": [
    {
     "name": "stdout",
     "output_type": "stream",
     "text": [
      "(1, 2, 3, 1, 2, 3, 1, 2, 3)\n"
     ]
    }
   ],
   "source": [
    "#*\n",
    "\n",
    "a = (1,2,3)\n",
    "\n",
    "print(a*3)"
   ]
  },
  {
   "cell_type": "code",
   "execution_count": 8,
   "metadata": {},
   "outputs": [
    {
     "name": "stdout",
     "output_type": "stream",
     "text": [
      "[1, 2, 'string', 4]\n"
     ]
    }
   ],
   "source": [
    "a = (1,2,3,4)\n",
    "\n",
    "a[2] = \"string\"\n",
    "\n",
    "print(a)"
   ]
  },
  {
   "cell_type": "code",
   "execution_count": 1,
   "metadata": {},
   "outputs": [
    {
     "name": "stdout",
     "output_type": "stream",
     "text": [
      "(1, 2, 3, 4)\n",
      "<class 'tuple'>\n"
     ]
    }
   ],
   "source": [
    "a = 1,2,3,4\n",
    "print(a)\n",
    "print(type(a))"
   ]
  },
  {
   "cell_type": "code",
   "execution_count": 11,
   "metadata": {},
   "outputs": [
    {
     "name": "stdout",
     "output_type": "stream",
     "text": [
      "0\n"
     ]
    },
    {
     "ename": "ValueError",
     "evalue": "tuple.index(x): x not in tuple",
     "output_type": "error",
     "traceback": [
      "\u001b[1;31m---------------------------------------------------------------------------\u001b[0m",
      "\u001b[1;31mValueError\u001b[0m                                Traceback (most recent call last)",
      "\u001b[1;32m<ipython-input-11-402e6aca4a86>\u001b[0m in \u001b[0;36m<module>\u001b[1;34m\u001b[0m\n\u001b[0;32m      3\u001b[0m \u001b[0mprint\u001b[0m\u001b[1;33m(\u001b[0m\u001b[0ma\u001b[0m\u001b[1;33m.\u001b[0m\u001b[0mindex\u001b[0m\u001b[1;33m(\u001b[0m\u001b[1;36m3\u001b[0m\u001b[1;33m)\u001b[0m\u001b[1;33m)\u001b[0m\u001b[1;33m\u001b[0m\u001b[1;33m\u001b[0m\u001b[0m\n\u001b[0;32m      4\u001b[0m \u001b[1;33m\u001b[0m\u001b[0m\n\u001b[1;32m----> 5\u001b[1;33m \u001b[0mprint\u001b[0m\u001b[1;33m(\u001b[0m\u001b[0ma\u001b[0m\u001b[1;33m.\u001b[0m\u001b[0mindex\u001b[0m\u001b[1;33m(\u001b[0m\u001b[1;36m1\u001b[0m\u001b[1;33m)\u001b[0m\u001b[1;33m)\u001b[0m\u001b[1;33m\u001b[0m\u001b[1;33m\u001b[0m\u001b[0m\n\u001b[0m",
      "\u001b[1;31mValueError\u001b[0m: tuple.index(x): x not in tuple"
     ]
    }
   ],
   "source": [
    "a = (3,4,5,6)\n",
    "\n",
    "print(a.index(3))\n",
    "\n",
    "print(a.index(1))"
   ]
  },
  {
   "cell_type": "code",
   "execution_count": 10,
   "metadata": {},
   "outputs": [
    {
     "name": "stdout",
     "output_type": "stream",
     "text": [
      "1\n"
     ]
    }
   ],
   "source": [
    "a = (3,4,5,6)\n",
    "\n",
    "print(a.count(3))"
   ]
  },
  {
   "cell_type": "code",
   "execution_count": 12,
   "metadata": {},
   "outputs": [
    {
     "name": "stdout",
     "output_type": "stream",
     "text": [
      "()\n",
      "<class 'tuple'>\n"
     ]
    }
   ],
   "source": [
    "a = list()\n",
    "\n",
    "a = []\n",
    "\n",
    "b = tuple()\n",
    "\n",
    "b = ()\n",
    "\n",
    "print(b)\n",
    "\n",
    "print(type(b))\n"
   ]
  },
  {
   "cell_type": "code",
   "execution_count": null,
   "metadata": {},
   "outputs": [],
   "source": []
  },
  {
   "cell_type": "code",
   "execution_count": 14,
   "metadata": {},
   "outputs": [
    {
     "name": "stdout",
     "output_type": "stream",
     "text": [
      "{1, 2, 3, 4, 5}\n",
      "<class 'set'>\n",
      "{1: 'hai', 2: 10, 3: 10.0, 4: 'python', 5: 'AWS'}\n",
      "<class 'dict'>\n"
     ]
    }
   ],
   "source": [
    "#set Methods\n",
    "\n",
    "\n",
    "#{} ==> without :\n",
    "\n",
    "a = {1,2,3,4,5}\n",
    "\n",
    "print(a)\n",
    "print(type(a))\n",
    "\n",
    "a = {1:\"hai\",2:10,3:10.0,4:\"python\",5:\"AWS\"}\n",
    "\n",
    "print(a)\n",
    "print(type(a))\n"
   ]
  },
  {
   "cell_type": "code",
   "execution_count": 17,
   "metadata": {},
   "outputs": [
    {
     "name": "stdout",
     "output_type": "stream",
     "text": [
      "{}\n",
      "<class 'dict'>\n",
      "set()\n",
      "<class 'set'>\n"
     ]
    }
   ],
   "source": [
    "a = {}\n",
    "\n",
    "a = dict()\n",
    "\n",
    "print(a)\n",
    "\n",
    "print(type(a))\n",
    "\n",
    "b = set()\n",
    "\n",
    "print(b)\n",
    "print(type(b))"
   ]
  },
  {
   "cell_type": "code",
   "execution_count": 18,
   "metadata": {},
   "outputs": [
    {
     "name": "stdout",
     "output_type": "stream",
     "text": [
      "{1, 2, 3, 4, 5, 6, 7, 8}\n",
      "<class 'set'>\n"
     ]
    }
   ],
   "source": [
    "a = {1,2,3,4,5,5,6,7,8,8,8,8}\n",
    "\n",
    "print(a)\n",
    "\n",
    "print(type(a))"
   ]
  },
  {
   "cell_type": "code",
   "execution_count": 20,
   "metadata": {},
   "outputs": [
    {
     "ename": "TypeError",
     "evalue": "'set' object is not subscriptable",
     "output_type": "error",
     "traceback": [
      "\u001b[1;31m---------------------------------------------------------------------------\u001b[0m",
      "\u001b[1;31mTypeError\u001b[0m                                 Traceback (most recent call last)",
      "\u001b[1;32m<ipython-input-20-a612fc7e3226>\u001b[0m in \u001b[0;36m<module>\u001b[1;34m\u001b[0m\n\u001b[0;32m      1\u001b[0m \u001b[0ma\u001b[0m \u001b[1;33m=\u001b[0m \u001b[1;33m{\u001b[0m\u001b[1;36m1\u001b[0m\u001b[1;33m,\u001b[0m\u001b[1;36m2\u001b[0m\u001b[1;33m,\u001b[0m\u001b[1;36m3\u001b[0m\u001b[1;33m,\u001b[0m\u001b[1;36m4\u001b[0m\u001b[1;33m,\u001b[0m\u001b[1;36m5\u001b[0m\u001b[1;33m,\u001b[0m\u001b[1;36m5\u001b[0m\u001b[1;33m,\u001b[0m\u001b[1;36m6\u001b[0m\u001b[1;33m,\u001b[0m\u001b[1;36m7\u001b[0m\u001b[1;33m,\u001b[0m\u001b[1;36m8\u001b[0m\u001b[1;33m,\u001b[0m\u001b[1;36m8\u001b[0m\u001b[1;33m,\u001b[0m\u001b[1;36m8\u001b[0m\u001b[1;33m,\u001b[0m\u001b[1;36m8\u001b[0m\u001b[1;33m}\u001b[0m\u001b[1;33m\u001b[0m\u001b[1;33m\u001b[0m\u001b[0m\n\u001b[0;32m      2\u001b[0m \u001b[1;33m\u001b[0m\u001b[0m\n\u001b[1;32m----> 3\u001b[1;33m \u001b[0mprint\u001b[0m\u001b[1;33m(\u001b[0m\u001b[0ma\u001b[0m\u001b[1;33m[\u001b[0m\u001b[1;36m0\u001b[0m\u001b[1;33m]\u001b[0m\u001b[1;33m)\u001b[0m\u001b[1;33m\u001b[0m\u001b[1;33m\u001b[0m\u001b[0m\n\u001b[0m",
      "\u001b[1;31mTypeError\u001b[0m: 'set' object is not subscriptable"
     ]
    }
   ],
   "source": [
    "a = {1,2,3,4,5,5,6,7,8,8,8,8}\n",
    "\n",
    "print(a[0])"
   ]
  },
  {
   "cell_type": "code",
   "execution_count": 21,
   "metadata": {},
   "outputs": [
    {
     "ename": "TypeError",
     "evalue": "unsupported operand type(s) for *: 'set' and 'int'",
     "output_type": "error",
     "traceback": [
      "\u001b[1;31m---------------------------------------------------------------------------\u001b[0m",
      "\u001b[1;31mTypeError\u001b[0m                                 Traceback (most recent call last)",
      "\u001b[1;32m<ipython-input-21-91197c84792f>\u001b[0m in \u001b[0;36m<module>\u001b[1;34m\u001b[0m\n\u001b[0;32m      1\u001b[0m \u001b[0ma\u001b[0m \u001b[1;33m=\u001b[0m \u001b[1;33m{\u001b[0m\u001b[1;36m1\u001b[0m\u001b[1;33m,\u001b[0m\u001b[1;36m2\u001b[0m\u001b[1;33m}\u001b[0m\u001b[1;33m\u001b[0m\u001b[1;33m\u001b[0m\u001b[0m\n\u001b[0;32m      2\u001b[0m \u001b[1;33m\u001b[0m\u001b[0m\n\u001b[1;32m----> 3\u001b[1;33m \u001b[0mprint\u001b[0m\u001b[1;33m(\u001b[0m\u001b[0ma\u001b[0m\u001b[1;33m*\u001b[0m\u001b[1;36m5\u001b[0m\u001b[1;33m)\u001b[0m\u001b[1;33m\u001b[0m\u001b[1;33m\u001b[0m\u001b[0m\n\u001b[0m",
      "\u001b[1;31mTypeError\u001b[0m: unsupported operand type(s) for *: 'set' and 'int'"
     ]
    }
   ],
   "source": [
    "a = {1,2}\n",
    "\n",
    "a = {1,2} + {1,2} + {1,2} + {1,2} + {1,2}\n",
    "\n",
    "print(a*5)"
   ]
  },
  {
   "cell_type": "code",
   "execution_count": 19,
   "metadata": {},
   "outputs": [
    {
     "ename": "TypeError",
     "evalue": "unsupported operand type(s) for +: 'set' and 'set'",
     "output_type": "error",
     "traceback": [
      "\u001b[1;31m---------------------------------------------------------------------------\u001b[0m",
      "\u001b[1;31mTypeError\u001b[0m                                 Traceback (most recent call last)",
      "\u001b[1;32m<ipython-input-19-440322fe2627>\u001b[0m in \u001b[0;36m<module>\u001b[1;34m\u001b[0m\n\u001b[0;32m      3\u001b[0m \u001b[0mb\u001b[0m \u001b[1;33m=\u001b[0m \u001b[1;33m{\u001b[0m\u001b[1;36m1\u001b[0m\u001b[1;33m,\u001b[0m\u001b[1;36m2\u001b[0m\u001b[1;33m,\u001b[0m\u001b[1;36m3\u001b[0m\u001b[1;33m,\u001b[0m\u001b[1;36m10\u001b[0m\u001b[1;33m}\u001b[0m\u001b[1;33m\u001b[0m\u001b[1;33m\u001b[0m\u001b[0m\n\u001b[0;32m      4\u001b[0m \u001b[1;33m\u001b[0m\u001b[0m\n\u001b[1;32m----> 5\u001b[1;33m \u001b[0mprint\u001b[0m\u001b[1;33m(\u001b[0m\u001b[0ma\u001b[0m\u001b[1;33m+\u001b[0m\u001b[0mb\u001b[0m\u001b[1;33m)\u001b[0m\u001b[1;33m\u001b[0m\u001b[1;33m\u001b[0m\u001b[0m\n\u001b[0m",
      "\u001b[1;31mTypeError\u001b[0m: unsupported operand type(s) for +: 'set' and 'set'"
     ]
    }
   ],
   "source": [
    "a = {1,2,3,4,5,5,6,7,8,8,8,8}\n",
    "\n",
    "b = {1,2,3,10}\n",
    "\n",
    "print(a+b)"
   ]
  },
  {
   "cell_type": "code",
   "execution_count": null,
   "metadata": {},
   "outputs": [],
   "source": [
    "a = {10,11,12}"
   ]
  },
  {
   "cell_type": "code",
   "execution_count": null,
   "metadata": {},
   "outputs": [],
   "source": [
    "#https://www.w3schools.com/python/python_ref_set.asp"
   ]
  },
  {
   "cell_type": "code",
   "execution_count": 2,
   "metadata": {},
   "outputs": [
    {
     "name": "stdout",
     "output_type": "stream",
     "text": [
      "False\n",
      "True\n"
     ]
    }
   ],
   "source": [
    "a = {1,2,3,4,5}\n",
    "b = {2,5}\n",
    "c = {1,6}\n",
    "\n",
    "print(a.issubset(b))\n",
    "print(b.issubset(a))\n"
   ]
  },
  {
   "cell_type": "code",
   "execution_count": null,
   "metadata": {},
   "outputs": [],
   "source": [
    "#Dictionary methods"
   ]
  },
  {
   "cell_type": "code",
   "execution_count": null,
   "metadata": {},
   "outputs": [],
   "source": [
    "# + operator doesn't work\n",
    "# mutable \n",
    "# indexing/ordering ==> no support  key ==> index\n",
    "# {key:value}\n"
   ]
  },
  {
   "cell_type": "code",
   "execution_count": 4,
   "metadata": {},
   "outputs": [
    {
     "name": "stdout",
     "output_type": "stream",
     "text": [
      "{}\n",
      "<class 'dict'>\n"
     ]
    }
   ],
   "source": [
    "a = {}\n",
    "a = dict()\n",
    "\n",
    "print(a)\n",
    "print(type(a))"
   ]
  },
  {
   "cell_type": "code",
   "execution_count": 11,
   "metadata": {},
   "outputs": [
    {
     "name": "stdout",
     "output_type": "stream",
     "text": [
      "{'name': 'gggg', 'age': 26, 'address': 'vnr'}\n",
      "{1: 1, 2: 2, 3: 44, 10: 20, 0: 20}\n",
      "{10.0: 22, 'hi': 'hellow'}\n",
      "20\n",
      "20\n",
      "hellow\n"
     ]
    },
    {
     "ename": "KeyError",
     "evalue": "0",
     "output_type": "error",
     "traceback": [
      "\u001b[1;31m---------------------------------------------------------------------------\u001b[0m",
      "\u001b[1;31mKeyError\u001b[0m                                  Traceback (most recent call last)",
      "\u001b[1;32m<ipython-input-11-00d35bf43da1>\u001b[0m in \u001b[0;36m<module>\u001b[1;34m\u001b[0m\n\u001b[0;32m     15\u001b[0m \u001b[0mprint\u001b[0m\u001b[1;33m(\u001b[0m\u001b[0mc\u001b[0m\u001b[1;33m[\u001b[0m\u001b[1;34m\"hi\"\u001b[0m\u001b[1;33m]\u001b[0m\u001b[1;33m)\u001b[0m\u001b[1;33m\u001b[0m\u001b[1;33m\u001b[0m\u001b[0m\n\u001b[0;32m     16\u001b[0m \u001b[1;33m\u001b[0m\u001b[0m\n\u001b[1;32m---> 17\u001b[1;33m \u001b[0mprint\u001b[0m\u001b[1;33m(\u001b[0m\u001b[0mc\u001b[0m\u001b[1;33m[\u001b[0m\u001b[1;36m0\u001b[0m\u001b[1;33m]\u001b[0m\u001b[1;33m)\u001b[0m\u001b[1;33m\u001b[0m\u001b[1;33m\u001b[0m\u001b[0m\n\u001b[0m\u001b[0;32m     18\u001b[0m \u001b[1;33m\u001b[0m\u001b[0m\n\u001b[0;32m     19\u001b[0m \u001b[1;33m\u001b[0m\u001b[0m\n",
      "\u001b[1;31mKeyError\u001b[0m: 0"
     ]
    }
   ],
   "source": [
    "a = {\"name\":\"gggg\", \"age\":26, \"address\":\"vnr\"}\n",
    "\n",
    "b = {1:1,2:2,3:44,10:20,0:20}\n",
    "\n",
    "c = {10.0:22, \"hi\":\"hellow\"}\n",
    "\n",
    "print(a)\n",
    "print(b)\n",
    "print(c)\n",
    "\n",
    "#print(a+b)\n",
    "\n",
    "print(b[0])\n",
    "print(b[10])\n",
    "print(c[\"hi\"])\n",
    "\n",
    "print(c[0])\n",
    "\n",
    "\n",
    "#No indexing\n",
    "\n",
    "#key ===> index"
   ]
  },
  {
   "cell_type": "code",
   "execution_count": 16,
   "metadata": {},
   "outputs": [
    {
     "name": "stdout",
     "output_type": "stream",
     "text": [
      "{1: 1, 2: 2, 3: 44, 10: 50, 0: 100000, 21: 1, 'hi': 22}\n"
     ]
    }
   ],
   "source": [
    "#Duplicate key not allowed\n",
    "#Duplicate value allowed\n",
    "\n",
    "b = {1:1,2:2,3:44,10:20,0:20,0:100,0:100000,21:1}\n",
    "\n",
    "b[10] = 50 #Replacement\n",
    "\n",
    "b[\"hi\"] = 22 #Addition\n",
    "\n",
    "print(b)"
   ]
  },
  {
   "cell_type": "code",
   "execution_count": 21,
   "metadata": {},
   "outputs": [
    {
     "name": "stdout",
     "output_type": "stream",
     "text": [
      "{'name': 'gggg', 'age': 26, 'address': 'vnr', 1: 1, 2: 2, 3: 44, 10: 20, 0: 20}\n",
      "dict_keys(['name', 'age', 'address', 1, 2, 3, 10, 0])\n",
      "dict_values(['gggg', 26, 'vnr', 1, 2, 44, 20, 20])\n",
      "dict_items([('name', 'gggg'), ('age', 26), ('address', 'vnr'), (1, 1), (2, 2), (3, 44), (10, 20), (0, 20)])\n"
     ]
    }
   ],
   "source": [
    "#Update\n",
    "\n",
    "a = {\"name\":\"gggg\", \"age\":26, \"address\":\"vnr\"}\n",
    "\n",
    "b = {1:1,2:2,3:44,10:20,0:20}\n",
    "\n",
    "a.update(b)\n",
    "\n",
    "print(a)\n",
    "\n",
    "print(a.keys())\n",
    "\n",
    "print(a.values())\n",
    "\n",
    "print(a.items())"
   ]
  },
  {
   "cell_type": "code",
   "execution_count": 24,
   "metadata": {},
   "outputs": [
    {
     "name": "stdout",
     "output_type": "stream",
     "text": [
      "{'name': 'gggg'}\n"
     ]
    }
   ],
   "source": [
    "a = {\"name\":\"gggg\", \"age\":26, \"address\":\"vnr\"}\n",
    "\n",
    "a.pop(\"age\") #specific key value pair removal\n",
    "\n",
    "a.popitem() #random key value pair removal\n",
    "\n",
    "print(a)"
   ]
  },
  {
   "cell_type": "code",
   "execution_count": 26,
   "metadata": {},
   "outputs": [
    {
     "name": "stdout",
     "output_type": "stream",
     "text": [
      "26\n",
      "26\n"
     ]
    }
   ],
   "source": [
    "a = {\"name\":\"gggg\", \"age\":26, \"address\":\"vnr\"}\n",
    "\n",
    "print(a[\"age\"])\n",
    "\n",
    "print(a.get(\"age\"))"
   ]
  },
  {
   "cell_type": "code",
   "execution_count": 30,
   "metadata": {},
   "outputs": [
    {
     "name": "stdout",
     "output_type": "stream",
     "text": [
      "{'name': 'gggg', 'age': 26}\n"
     ]
    }
   ],
   "source": [
    "a = {\"name\":\"gggg\", \"age\":26, \"address\":\"vnr\"}\n",
    "\n",
    "\n",
    "del(a[\"address\"])\n",
    "\n",
    "print(a)"
   ]
  },
  {
   "cell_type": "code",
   "execution_count": null,
   "metadata": {},
   "outputs": [],
   "source": [
    "#https://www.w3schools.com/python/python_ref_dictionary.asp"
   ]
  },
  {
   "cell_type": "code",
   "execution_count": null,
   "metadata": {},
   "outputs": [],
   "source": [
    "#Nested Datastructures"
   ]
  },
  {
   "cell_type": "code",
   "execution_count": null,
   "metadata": {},
   "outputs": [],
   "source": [
    "#https://www.w3schools.com/python/python_ref_dictionary.asp"
   ]
  },
  {
   "cell_type": "code",
   "execution_count": 34,
   "metadata": {},
   "outputs": [
    {
     "name": "stdout",
     "output_type": "stream",
     "text": [
      "{'name': 'gggg', 'age': 26, 'address': 'virudhunagar'}\n",
      "virudhunagar\n",
      "nagar\n"
     ]
    }
   ],
   "source": [
    "a = {\"name\":\"gggg\", \"age\":26, \"address\":\"virudhunagar\"}\n",
    "\n",
    "print(a)\n",
    "\n",
    "print(a[\"address\"])\n",
    "\n",
    "print(a[\"address\"][-5:])"
   ]
  },
  {
   "cell_type": "code",
   "execution_count": 38,
   "metadata": {},
   "outputs": [
    {
     "name": "stdout",
     "output_type": "stream",
     "text": [
      "th\n",
      "ll\n"
     ]
    }
   ],
   "source": [
    "Li1 = [2,3,\"python\",\"hello\",4,5,0]  \n",
    "\n",
    "#ll\n",
    "#on\n",
    "#th\n",
    "#pto\n",
    "\n",
    "print(Li1[2][2:4])\n",
    "\n",
    "\n",
    "print(Li1[3][2:4])"
   ]
  },
  {
   "cell_type": "code",
   "execution_count": 43,
   "metadata": {},
   "outputs": [
    {
     "name": "stdout",
     "output_type": "stream",
     "text": [
      "5\n",
      "[11, 22, 33, 44, 55, [111, 222, 333, 444], 6666, 7777]\n",
      "7777\n",
      "11\n",
      "[111, 222, 333, 444]\n"
     ]
    }
   ],
   "source": [
    "Li1 = [1,2,3,4,5,[11,22,33,44,55,[111,222,333,444],6666,7777],7777]\n",
    "\n",
    "\n",
    "print(Li1[4])\n",
    "\n",
    "print(Li1[5])\n",
    "\n",
    "print(Li1[6])\n",
    "\n",
    "print(Li1[5][0])\n",
    "\n",
    "print(Li1[5][5])\n",
    "\n",
    "#222\n",
    "\n",
    "\n"
   ]
  },
  {
   "cell_type": "code",
   "execution_count": 5,
   "metadata": {},
   "outputs": [
    {
     "name": "stdout",
     "output_type": "stream",
     "text": [
      "839.75\n"
     ]
    }
   ],
   "source": [
    "Li1 = [2,3,4,5,6,7,10,11,12,15,2,10000]\n",
    "\n",
    "Mean = sum(Li1)/len(Li1)\n",
    "\n",
    "print(Mean)\n",
    "\n"
   ]
  },
  {
   "cell_type": "code",
   "execution_count": 6,
   "metadata": {},
   "outputs": [
    {
     "name": "stdout",
     "output_type": "stream",
     "text": [
      "12\n"
     ]
    }
   ],
   "source": [
    "Li1 = [2,3,4,5,6,7,10,11,12,15,2,10000]\n",
    "\n",
    "\n",
    "even\n",
    "i) sort() [2, 2, 3, 4, 5, 6, 7, 10, 11, 12, 15, 10000]\n",
    "ii) Find two middle numbers 6,7\n",
    "ii) average of two numbers 6.5\n",
    "\n",
    "Odd\n",
    "\n",
    "i) sort() [2, 2, 3, 4, 5, 6, 7, 10, 11, 12, 15, 10000]\n",
    "ii) [2, 2, 3, 4, 5, 6, 7, 10, 11, 12, 14, 15, 10000]\n",
    "7\n",
    "\n",
    "Li2 = [2,3,4,5,6,7,10,11,12,15,2,10000,14]\n",
    "\n"
   ]
  },
  {
   "cell_type": "code",
   "execution_count": 7,
   "metadata": {},
   "outputs": [
    {
     "name": "stdout",
     "output_type": "stream",
     "text": [
      "[2, 2, 3, 4, 5, 6, 7, 10, 11, 12, 15, 10000]\n"
     ]
    }
   ],
   "source": [
    "Li1 = [2,3,4,5,6,7,10,11,12,15,2,10000]\n",
    "Li1.sort()\n",
    "\n",
    "print(Li1)"
   ]
  },
  {
   "cell_type": "code",
   "execution_count": 8,
   "metadata": {},
   "outputs": [
    {
     "name": "stdout",
     "output_type": "stream",
     "text": [
      "[2, 2, 3, 4, 5, 6, 7, 10, 11, 12, 14, 15, 10000]\n"
     ]
    }
   ],
   "source": [
    "Li2 = [2,3,4,5,6,7,10,11,12,15,2,10000,14]\n",
    "\n",
    "Li2.sort()\n",
    "\n",
    "print(Li2)"
   ]
  },
  {
   "cell_type": "code",
   "execution_count": null,
   "metadata": {},
   "outputs": [],
   "source": []
  }
 ],
 "metadata": {
  "kernelspec": {
   "display_name": "Python 3",
   "language": "python",
   "name": "python3"
  },
  "language_info": {
   "codemirror_mode": {
    "name": "ipython",
    "version": 3
   },
   "file_extension": ".py",
   "mimetype": "text/x-python",
   "name": "python",
   "nbconvert_exporter": "python",
   "pygments_lexer": "ipython3",
   "version": "3.7.6"
  }
 },
 "nbformat": 4,
 "nbformat_minor": 4
}
