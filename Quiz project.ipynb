{
 "cells": [
  {
   "cell_type": "code",
   "execution_count": 6,
   "metadata": {},
   "outputs": [
    {
     "name": "stdout",
     "output_type": "stream",
     "text": [
      "welcome quiz\n",
      "1.   Which is immutable data structure\n",
      "Options1 :  List\n",
      "Options2 :  Tuple\n",
      "Options3 :  Dictionary\n",
      "please enter anyone option: Options1/Options2/Options3: Tuple\n",
      "Answer is correct for Question\n"
     ]
    }
   ],
   "source": [
    "total_dict = {\"Question 1\":{\"Question\":\"Which is immutable data structure\",\"Option1\": \"List\",\"Option2\": \"Tuple\",\"Option3\": \"Dictionary\",\"Correct answer\": \"Tuple\"},\"Question 2\":{\"Question\":\"Which is mutable data structure\",\"Option1\": \"Set\",\"Option2\": \"List\",\"Option3\": \"Dictionary\"}}\n",
    "\n",
    "#print(total_dict)\n",
    "\n",
    "print(\"welcome quiz\")\n",
    "\n",
    "print(\"1.  \",total_dict[\"Question 1\"][\"Question\"])\n",
    "print(\"Options1 : \",total_dict[\"Question 1\"][\"Option1\"])\n",
    "print(\"Options2 : \",total_dict[\"Question 1\"][\"Option2\"])\n",
    "print(\"Options3 : \",total_dict[\"Question 1\"][\"Option3\"])\n",
    "\n",
    "answer = input(\"please enter anyone option: Options1/Options2/Options3: \")\n",
    "\n",
    "\n",
    "if answer == total_dict[\"Question 1\"][\"Correct answer\"]:\n",
    "    print(\"Answer is correct for Question\")\n",
    "else:\n",
    "    print(\"wrong answer\")"
   ]
  },
  {
   "cell_type": "code",
   "execution_count": null,
   "metadata": {},
   "outputs": [],
   "source": []
  }
 ],
 "metadata": {
  "kernelspec": {
   "display_name": "Python 3",
   "language": "python",
   "name": "python3"
  },
  "language_info": {
   "codemirror_mode": {
    "name": "ipython",
    "version": 3
   },
   "file_extension": ".py",
   "mimetype": "text/x-python",
   "name": "python",
   "nbconvert_exporter": "python",
   "pygments_lexer": "ipython3",
   "version": "3.7.6"
  }
 },
 "nbformat": 4,
 "nbformat_minor": 4
}
