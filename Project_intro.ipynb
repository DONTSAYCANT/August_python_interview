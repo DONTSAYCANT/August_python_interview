{
 "cells": [
  {
   "cell_type": "code",
   "execution_count": 11,
   "metadata": {},
   "outputs": [
    {
     "name": "stdout",
     "output_type": "stream",
     "text": [
      "scissor\n",
      "stone\n",
      "paper\n",
      "stone\n",
      "stone\n",
      "stone\n",
      "scissor\n",
      "scissor\n",
      "paper\n",
      "scissor\n",
      "stone\n",
      "stone\n"
     ]
    }
   ],
   "source": [
    "#Mini project\n",
    "\n",
    "#Dead line: October 28 and 29 \n",
    "\n",
    "\n",
    "Li1 = [\"paper\", \"scissor\", \"stone\"]\n",
    "\n",
    "import random\n",
    "\n",
    "print(random.choice(Li1))\n",
    "print(random.choice(Li1))\n",
    "print(random.choice(Li1))\n",
    "print(random.choice(Li1))\n",
    "print(random.choice(Li1))\n",
    "print(random.choice(Li1))\n",
    "print(random.choice(Li1))\n",
    "print(random.choice(Li1))\n",
    "print(random.choice(Li1))\n",
    "print(random.choice(Li1))\n",
    "print(random.choice(Li1))\n",
    "print(random.choice(Li1))"
   ]
  },
  {
   "cell_type": "code",
   "execution_count": 12,
   "metadata": {},
   "outputs": [
    {
     "name": "stdout",
     "output_type": "stream",
     "text": [
      "799618\n",
      "429091\n",
      "436489\n",
      "922143\n",
      "112557\n",
      "428823\n",
      "801479\n",
      "301442\n",
      "954138\n",
      "975619\n",
      "360445\n",
      "170274\n"
     ]
    }
   ],
   "source": [
    "Li1 = range(100000,999999)\n",
    "print(random.choice(Li1))\n",
    "print(random.choice(Li1))\n",
    "print(random.choice(Li1))\n",
    "print(random.choice(Li1))\n",
    "print(random.choice(Li1))\n",
    "print(random.choice(Li1))\n",
    "print(random.choice(Li1))\n",
    "print(random.choice(Li1))\n",
    "print(random.choice(Li1))\n",
    "print(random.choice(Li1))\n",
    "print(random.choice(Li1))\n",
    "print(random.choice(Li1))\n"
   ]
  },
  {
   "cell_type": "code",
   "execution_count": 13,
   "metadata": {},
   "outputs": [
    {
     "name": "stdout",
     "output_type": "stream",
     "text": [
      "please enter any one value \"paper\", \"scissor\", \"stone\"scissor\n"
     ]
    }
   ],
   "source": [
    "Li1 = [\"paper\", \"scissor\", \"stone\"]\n",
    "\n",
    "import random\n",
    "\n",
    "Get input from user for number of attempts\n",
    "\n",
    "computer_points = 0\n",
    "\n",
    "number of time = int \n",
    "\n",
    "\n",
    "while (number of time ) or for loop \n",
    "    computer_input = random.choice(Li1)\n",
    "    user_input = input('please enter any one value \"paper\", \"scissor\", \"stone\"')\n",
    "    \n",
    "    \n",
    "    if computer_input == \"scissor\" and user_input = \"paper\":\n",
    "        print(\"Computer won the game\")\n",
    "        computer_points = computer+points + 1\n",
    "    elif\n",
    "    \n",
    "    elif\n",
    "    \n",
    "    elif\n",
    "    \n",
    "    \n",
    "    \n",
    "\n",
    "\n",
    "Point: Computer: 5 User: 3 Tie: 2\n",
    "                \n",
    "Computer wins the game"
   ]
  },
  {
   "cell_type": "markdown",
   "metadata": {},
   "source": [
    "## Project 1"
   ]
  },
  {
   "cell_type": "code",
   "execution_count": null,
   "metadata": {},
   "outputs": [],
   "source": [
    "#Dead line \n",
    "\n",
    "Review 1: Nov 4\n",
    "Review 2: Nov 7\n",
    "Review 3: Nov 10\n",
    "    \n",
    "    "
   ]
  },
  {
   "cell_type": "code",
   "execution_count": null,
   "metadata": {},
   "outputs": [],
   "source": [
    "Data structure Calculator (400)\n",
    "\n",
    "Int (add, sub, mul, div, power, floor, ceil, modulo, factorial, prime check, fibonacci, odd/even check, positive/negative check)\n",
    "    15 operations\n",
    "String (Concatenation, palindrome check, replacement, count, index, ...)\n",
    "    15 operations\n",
    "List (List creation, Count, len, replacemtn, addition, remove , pop, sum, median)\n",
    "    10 operations\n",
    "Tuple \n",
    "    5 operations]\n",
    "Set\n",
    "    10 operations\n",
    "Dictionry\n",
    "    10 operations\n",
    "    \n",
    "\n",
    "Welcome to Calculator\n",
    "\n",
    "Please select any one data strucuture to proceed \n",
    "1) Int\n",
    "2) String\n",
    "3) List\n",
    "....\n",
    "7) Dictionary\n",
    "\n",
    "\n",
    "Int add ===> please enter number 1 [please selct number 2]\n",
    "\n",
    "#Doubt: Saravanan / sankaran\n",
    "\n"
   ]
  },
  {
   "cell_type": "code",
   "execution_count": 5,
   "metadata": {},
   "outputs": [
    {
     "name": "stdout",
     "output_type": "stream",
     "text": [
      "\n",
      "Welcome to Calculator\n",
      "\n",
      "Please select any one data strucuture to proceed \n",
      "1) Int\n",
      "2) String\n",
      "3) List\n",
      "....\n",
      "7) Dictionary\n",
      "\n",
      "Please enter a value between 1-7: 1\n",
      "please select any one operation\n",
      "    1. add\n",
      "    2. sub\n",
      "    3. power\n",
      "    4. multi\n",
      "    \n",
      "    \n",
      "    \n",
      "please select any one  nnumbe r 1-154\n",
      "Please enter number 1: 8\n",
      "please enter number 2: 12\n",
      "96\n"
     ]
    }
   ],
   "source": [
    "\n",
    "def add_function(val1, val2):\n",
    "    return val1 ** val2\n",
    "\n",
    "def multiply(val1, val2):\n",
    "    return val1 * val2\n",
    "\n",
    "print('''\n",
    "Welcome to Calculator\n",
    "\n",
    "Please select any one data strucuture to proceed \n",
    "1) Int\n",
    "2) String\n",
    "3) List\n",
    "....\n",
    "7) Dictionary\n",
    "''')\n",
    "\n",
    "\n",
    "user_input = int(input(\"Please enter a value between 1-7: \"))\n",
    "\n",
    "\n",
    "if user_input == 1:\n",
    "    print(\"\"\"please select any one operation\n",
    "    1. add\n",
    "    2. sub\n",
    "    3. power\n",
    "    4. multi\n",
    "    \n",
    "    \n",
    "    \"\"\")\n",
    "    \n",
    "    int_user_input = int(input(\"please select any one  nnumbe r 1-15\"))\n",
    "    if int_user_input == 3:\n",
    "        value1 = int(input(\"Please enter number 1: \"))\n",
    "        value2 = int(input(\"please enter number 2: \"))\n",
    "        print(add_function(value1,value2))\n",
    "    elif int_user_input == 4:\n",
    "        value1 = int(input(\"Please enter number 1: \"))\n",
    "        value2 = int(input(\"please enter number 2: \"))\n",
    "        print(multiply(value1,value2))\n",
    "    \n",
    "elif user_input == 2: #string  \n"
   ]
  },
  {
   "cell_type": "code",
   "execution_count": null,
   "metadata": {},
   "outputs": [],
   "source": []
  }
 ],
 "metadata": {
  "kernelspec": {
   "display_name": "Python 3",
   "language": "python",
   "name": "python3"
  },
  "language_info": {
   "codemirror_mode": {
    "name": "ipython",
    "version": 3
   },
   "file_extension": ".py",
   "mimetype": "text/x-python",
   "name": "python",
   "nbconvert_exporter": "python",
   "pygments_lexer": "ipython3",
   "version": "3.7.6"
  }
 },
 "nbformat": 4,
 "nbformat_minor": 4
}
