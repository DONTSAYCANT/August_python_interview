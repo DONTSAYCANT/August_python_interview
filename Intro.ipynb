{
 "cells": [
  {
   "cell_type": "code",
   "execution_count": null,
   "metadata": {},
   "outputs": [],
   "source": [
    "# Python from basics to advanced (2.5 to 3.5 months + 100 pgm )\n",
    "\n",
    "  #Daily tasks\n",
    "  #Interview questions 100 -200 (geeksforgeeks + own questions)\n",
    "  #Projects 3 - 5 projects\n",
    "  #HAckerrank ==> python ==> 300 to 400 pts  Regex ===> 400 pts  SQL ===> 200 to 300 pts\n",
    "  #15 days once test (3 test)\n",
    "  #Daily classes and weekend classes (Monday to Thursday 30 mins to 45 mins - Friday saturday sunday 1.30 hrs to 2 hrs)\n",
    "  #whatsapp \n",
    "    \n",
    "    \n",
    "# Mock (Resume preparation)\n",
    "# Linkedin profile\n",
    "# Github profile\n",
    "# Hackerrank profile ()\n",
    "\n",
    "\n",
    "#Python ===> web developer\n",
    "#Python machine learning AI deep learning reinforcement learning\n",
    "#Python ===> devops\n",
    "#Python ===> python automation\n",
    "\n",
    "#Github profile\n",
    "#Linked profile\n",
    "#Hackerrank profile\n",
    "#IDLE python installation\n",
    "#Mail id / whatsapp\n",
    "\n",
    "\n",
    "\n"
   ]
  }
 ],
 "metadata": {
  "kernelspec": {
   "display_name": "Python 3",
   "language": "python",
   "name": "python3"
  },
  "language_info": {
   "codemirror_mode": {
    "name": "ipython",
    "version": 3
   },
   "file_extension": ".py",
   "mimetype": "text/x-python",
   "name": "python",
   "nbconvert_exporter": "python",
   "pygments_lexer": "ipython3",
   "version": "3.7.6"
  }
 },
 "nbformat": 4,
 "nbformat_minor": 4
}
