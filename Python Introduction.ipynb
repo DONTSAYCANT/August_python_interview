{
 "cells": [
  {
   "cell_type": "code",
   "execution_count": null,
   "metadata": {},
   "outputs": [],
   "source": [
    "#Python \n",
    "\n",
    "#Introduction\n",
    "\n",
    "#why programming\n",
    "\n",
    "#why python programming\n",
    "\n",
    "#Course ?\n",
    "\n",
    "#Efficient programmer\n",
    "#Own coding \n",
    "\n",
    "\n",
    "#IDLE ==> python interpreter  https://www.python.org/downloads/  ===> python installation\n",
    "\n",
    "#Jupyter \n",
    "\n",
    "#Hackerrank Hackerearth Leetcode ===> sites for first round \n",
    "\n",
    "#Requirement:\n",
    "\n",
    "#2 hours for programming\n",
    "#1 hour for theory\n",
    "#40 mins for class\n",
    "\n",
    "\n",
    "TASK1 :#Hackerrank:\n",
    "\n",
    "#Python (400 -500 points)\n",
    "#Regex (300 -400 points) ===> Pattern matching ===> Regular expression\n",
    "#SQL (400 points) ==> rdbms \n",
    "\n",
    "\n",
    "TASK2 #Interview questions and programming\n",
    "\n",
    "#100-150 interview questions geeksforgeeks Input , program logic (10 pgm) ==> dont refer google\n",
    "#Daily task 3 to 5 programs  https://github.com/DONTSAYCANT/python_may_june_batch/blob/main/Tasks_section\n",
    "\n",
    "Task3 #Project \n",
    "\n",
    "#4-6 projects \n",
    "\n",
    "\n",
    "Task4 #Test\n",
    "\n",
    "3 test (monthly once)\n",
    "\n",
    "ist test ==> mcq + programming\n",
    "remianing test ==> programming\n",
    "\n",
    "\n",
    "Task5 #seminar and session (three weeks once)\n",
    "\n",
    "#Modules ==> os \n",
    "\n",
    "Task 6 Mock interview + Resume preparation + linkedin profile + github profile\n",
    "\n",
    "#Prerequis:\n",
    "\n",
    "#Python IDLE installation\n",
    "#Hackerrank account creation\n",
    "#github account creation\n",
    "#Mail id, hackeraccount, github account whatsapp\n",
    "\n",
    "#python 2 python 3 ==> difference ?\n",
    "#Interpreter compiler ===> difference ?\n",
    "#Why python ? advantages of python\n",
    "\n",
    "\n"
   ]
  },
  {
   "cell_type": "code",
   "execution_count": null,
   "metadata": {},
   "outputs": [],
   "source": [
    "#Programming ?\n",
    "\n",
    "\n",
    "#Python ?\n",
    "\n",
    "#web development ==> Django + python + sql + css + html\n",
    "#Testing  ==> python + selenium + packages + debugging \n",
    "#Developer ==> python + advanced level data structures \n",
    "#devops ==> python + devops tools\n",
    "#network engineer + Admin ==> python\n",
    "#Machine learning + data science + artificial intelligent ==> python + \n",
    "#Robatic process automation ==> python\n",
    "#SAP ==> abap + programming lnaguage\n",
    "\n",
    "\n",
    "#programming terms:\n",
    "\n",
    "#Variables  ===> variable creation rules in python\n",
    "#Data types ==> integer float boolean character string\n",
    "#Data structures\n",
    "#operators\n",
    "#functions ===> inbuilt function, user defined function\n",
    "\n",
    "\n",
    "1) variable creation rules in python\n",
    "2) integer float boolean character string\n",
    "3) operators in python + - * / // ** %\n"
   ]
  },
  {
   "cell_type": "code",
   "execution_count": null,
   "metadata": {},
   "outputs": [],
   "source": [
    "#python\n",
    "a = 10\n",
    "\n",
    "#c\n",
    "int a = 10;\n"
   ]
  },
  {
   "cell_type": "code",
   "execution_count": 2,
   "metadata": {},
   "outputs": [
    {
     "ename": "SyntaxError",
     "evalue": "invalid syntax (<ipython-input-2-0d85238a803e>, line 2)",
     "output_type": "error",
     "traceback": [
      "\u001b[1;36m  File \u001b[1;32m\"<ipython-input-2-0d85238a803e>\"\u001b[1;36m, line \u001b[1;32m2\u001b[0m\n\u001b[1;33m    1var = 10\u001b[0m\n\u001b[1;37m       ^\u001b[0m\n\u001b[1;31mSyntaxError\u001b[0m\u001b[1;31m:\u001b[0m invalid syntax\n"
     ]
    }
   ],
   "source": [
    "var1 = 10\n",
    "1var = 10"
   ]
  },
  {
   "cell_type": "code",
   "execution_count": null,
   "metadata": {},
   "outputs": [],
   "source": [
    "#Difference between other language and python\n",
    "\n",
    "#Why python\n",
    "\n",
    "#Application\n",
    "\n",
    "1. Syntax easy / user friendly\n",
    "c/c++ ==> 200 lines  python 120-130 lines\n",
    "\n",
    "2. Researcher / Data scientist\n",
    "\n",
    "3. Rich library \n",
    "\n",
    "two lines for drawing seaborn, matplotlib\n"
   ]
  },
  {
   "cell_type": "code",
   "execution_count": null,
   "metadata": {},
   "outputs": [],
   "source": [
    "#c language\n",
    "int variable1 = 1000;\n",
    "\n",
    "#python\n",
    "variable1 = 1000\n",
    "variable1 = 2.0\n",
    "\n",
    "#dynamic typic\n",
    "#type casting\n",
    "\n",
    "function function_for_testing{\n",
    "    a = 10 + 5\n",
    "    b = 20 + 30\n",
    "    c = 10 + 9\n",
    "    return null;\n",
    "}\n",
    "\n",
    "def function_for_testing:#starting of the scope\n",
    "    a = 10 + 5\n",
    "    b = 20 + 30\n",
    "    c = 10 + 9\n",
    "    return null\n",
    "print(\"hello\")\n",
    "\n",
    "#Indentation\n",
    "\n",
    "#PEP ==> python enhancement proposal"
   ]
  },
  {
   "cell_type": "code",
   "execution_count": 1,
   "metadata": {},
   "outputs": [
    {
     "name": "stdout",
     "output_type": "stream",
     "text": [
      "\n",
      "Please wait a moment while I gather a list of all available modules...\n",
      "\n"
     ]
    },
    {
     "name": "stderr",
     "output_type": "stream",
     "text": [
      "C:\\Users\\kanna\\Anaconda3\\lib\\site-packages\\IPython\\kernel\\__init__.py:13: ShimWarning: The `IPython.kernel` package has been deprecated since IPython 4.0.You should import from ipykernel or jupyter_client instead.\n",
      "  \"You should import from ipykernel or jupyter_client instead.\", ShimWarning)\n",
      "distributed.dashboard.proxy - INFO - To route to workers diagnostics web server please install jupyter-server-proxy: python -m pip install jupyter-server-proxy\n",
      "C:\\Users\\kanna\\Anaconda3\\lib\\site-packages\\nltk\\twitter\\__init__.py:22: UserWarning: The twython library has not been installed. Some functionality from the twitter package will not be available.\n",
      "  \"The twython library has not been installed. \"\n",
      "C:\\Users\\kanna\\Anaconda3\\lib\\site-packages\\skimage\\viewer\\utils\\__init__.py:1: UserWarning: Recommended matplotlib backend is `Agg` for full skimage.viewer functionality.\n",
      "  from .core import *\n",
      "C:\\Users\\kanna\\Anaconda3\\lib\\site-packages\\sklearn\\externals\\joblib\\__init__.py:15: FutureWarning: sklearn.externals.joblib is deprecated in 0.21 and will be removed in 0.23. Please import this functionality directly from joblib, which can be installed with: pip install joblib. If this warning is raised when loading pickled models, you may need to re-serialize those models with scikit-learn 0.21+.\n",
      "  warnings.warn(msg, category=FutureWarning)\n",
      "C:\\Users\\kanna\\Anaconda3\\lib\\site-packages\\qtawesome\\iconic_font.py:312: UserWarning: You need to have a running QApplication to use QtAwesome!\n",
      "  warnings.warn(\"You need to have a running \"\n",
      "C:\\Users\\kanna\\Anaconda3\\lib\\site-packages\\tensorboard\\compat\\tensorflow_stub\\dtypes.py:541: FutureWarning: Passing (type, 1) or '1type' as a synonym of type is deprecated; in a future version of numpy, it will be understood as (type, (1,)) / '(1,)type'.\n",
      "  _np_qint8 = np.dtype([(\"qint8\", np.int8, 1)])\n",
      "C:\\Users\\kanna\\Anaconda3\\lib\\site-packages\\tensorboard\\compat\\tensorflow_stub\\dtypes.py:542: FutureWarning: Passing (type, 1) or '1type' as a synonym of type is deprecated; in a future version of numpy, it will be understood as (type, (1,)) / '(1,)type'.\n",
      "  _np_quint8 = np.dtype([(\"quint8\", np.uint8, 1)])\n",
      "C:\\Users\\kanna\\Anaconda3\\lib\\site-packages\\tensorboard\\compat\\tensorflow_stub\\dtypes.py:543: FutureWarning: Passing (type, 1) or '1type' as a synonym of type is deprecated; in a future version of numpy, it will be understood as (type, (1,)) / '(1,)type'.\n",
      "  _np_qint16 = np.dtype([(\"qint16\", np.int16, 1)])\n",
      "C:\\Users\\kanna\\Anaconda3\\lib\\site-packages\\tensorboard\\compat\\tensorflow_stub\\dtypes.py:544: FutureWarning: Passing (type, 1) or '1type' as a synonym of type is deprecated; in a future version of numpy, it will be understood as (type, (1,)) / '(1,)type'.\n",
      "  _np_quint16 = np.dtype([(\"quint16\", np.uint16, 1)])\n",
      "C:\\Users\\kanna\\Anaconda3\\lib\\site-packages\\tensorboard\\compat\\tensorflow_stub\\dtypes.py:545: FutureWarning: Passing (type, 1) or '1type' as a synonym of type is deprecated; in a future version of numpy, it will be understood as (type, (1,)) / '(1,)type'.\n",
      "  _np_qint32 = np.dtype([(\"qint32\", np.int32, 1)])\n",
      "C:\\Users\\kanna\\Anaconda3\\lib\\site-packages\\tensorboard\\compat\\tensorflow_stub\\dtypes.py:550: FutureWarning: Passing (type, 1) or '1type' as a synonym of type is deprecated; in a future version of numpy, it will be understood as (type, (1,)) / '(1,)type'.\n",
      "  np_resource = np.dtype([(\"resource\", np.ubyte, 1)])\n",
      "C:\\Users\\kanna\\Anaconda3\\lib\\site-packages\\tensorflow\\python\\framework\\dtypes.py:523: FutureWarning: Passing (type, 1) or '1type' as a synonym of type is deprecated; in a future version of numpy, it will be understood as (type, (1,)) / '(1,)type'.\n",
      "  _np_qint8 = np.dtype([(\"qint8\", np.int8, 1)])\n",
      "C:\\Users\\kanna\\Anaconda3\\lib\\site-packages\\tensorflow\\python\\framework\\dtypes.py:524: FutureWarning: Passing (type, 1) or '1type' as a synonym of type is deprecated; in a future version of numpy, it will be understood as (type, (1,)) / '(1,)type'.\n",
      "  _np_quint8 = np.dtype([(\"quint8\", np.uint8, 1)])\n",
      "C:\\Users\\kanna\\Anaconda3\\lib\\site-packages\\tensorflow\\python\\framework\\dtypes.py:525: FutureWarning: Passing (type, 1) or '1type' as a synonym of type is deprecated; in a future version of numpy, it will be understood as (type, (1,)) / '(1,)type'.\n",
      "  _np_qint16 = np.dtype([(\"qint16\", np.int16, 1)])\n",
      "C:\\Users\\kanna\\Anaconda3\\lib\\site-packages\\tensorflow\\python\\framework\\dtypes.py:526: FutureWarning: Passing (type, 1) or '1type' as a synonym of type is deprecated; in a future version of numpy, it will be understood as (type, (1,)) / '(1,)type'.\n",
      "  _np_quint16 = np.dtype([(\"quint16\", np.uint16, 1)])\n",
      "C:\\Users\\kanna\\Anaconda3\\lib\\site-packages\\tensorflow\\python\\framework\\dtypes.py:527: FutureWarning: Passing (type, 1) or '1type' as a synonym of type is deprecated; in a future version of numpy, it will be understood as (type, (1,)) / '(1,)type'.\n",
      "  _np_qint32 = np.dtype([(\"qint32\", np.int32, 1)])\n",
      "C:\\Users\\kanna\\Anaconda3\\lib\\site-packages\\tensorflow\\python\\framework\\dtypes.py:532: FutureWarning: Passing (type, 1) or '1type' as a synonym of type is deprecated; in a future version of numpy, it will be understood as (type, (1,)) / '(1,)type'.\n",
      "  np_resource = np.dtype([(\"resource\", np.ubyte, 1)])\n",
      "C:\\Users\\kanna\\Anaconda3\\lib\\pkgutil.py:107: VisibleDeprecationWarning: zmq.eventloop.minitornado is deprecated in pyzmq 14.0 and will be removed.\n",
      "    Install tornado itself to use zmq with the tornado IOLoop.\n",
      "    \n",
      "  yield from walk_packages(path, info.name+'.', onerror)\n"
     ]
    },
    {
     "name": "stdout",
     "output_type": "stream",
     "text": [
      "Crypto              brain_uuid          mccabe              sndhdr\n",
      "Cython              bs4                 menuinst            snowballstemmer\n",
      "IPython             builtins            mimetypes           socket\n",
      "OpenSSL             bz2                 mistune             socketserver\n",
      "PIL                 cProfile            mkl                 socks\n",
      "PyQt5               cachetools          mkl_fft             sockshandler\n",
      "__future__          calendar            mkl_random          sortedcollections\n",
      "_abc                certifi             mmap                sortedcontainers\n",
      "_ast                cffi                mmapfile            soupsieve\n",
      "_asyncio            cgi                 mmsystem            sphinx\n",
      "_bisect             cgitb               mock                sphinxcontrib\n",
      "_blake2             chardet             modulefinder        spyder\n",
      "_bootlocale         chunk               more_itertools      spyder_kernels\n",
      "_bz2                click               mpmath              sqlalchemy\n",
      "_cffi_backend       cloudpickle         msgpack             sqlite3\n",
      "_codecs             clyent              msilib              sre_compile\n",
      "_codecs_cn          cmath               msvcrt              sre_constants\n",
      "_codecs_hk          cmd                 multipledispatch    sre_parse\n",
      "_codecs_iso2022     code                multiprocessing     ssl\n",
      "_codecs_jp          codecs              nacl                sspi\n",
      "_codecs_kr          codeop              navigator_updater   sspicon\n",
      "_codecs_tw          collections         nbconvert           stat\n",
      "_collections        colorama            nbformat            statistics\n",
      "_collections_abc    colorsys            netbios             statsmodels\n",
      "_compat_pickle      commctrl            netrc               storemagic\n",
      "_compression        compileall          networkx            string\n",
      "_contextvars        comtypes            nltk                stringprep\n",
      "_csv                concurrent          nntplib             struct\n",
      "_ctypes             conda               nose                subprocess\n",
      "_ctypes_test        conda_build         notebook            sunau\n",
      "_datetime           conda_env           nt                  symbol\n",
      "_decimal            conda_package_handling ntpath              sympy\n",
      "_dummy_thread       conda_verify        ntsecuritycon       sympyprinting\n",
      "_elementtree        configparser        nturl2path          symtable\n",
      "_functools          contextlib          numba               sys\n",
      "_hashlib            contextlib2         numbers             sysconfig\n",
      "_heapq              contextvars         numexpr             tables\n",
      "_imp                copy                numpy               tabnanny\n",
      "_io                 copyreg             numpydoc            tarfile\n",
      "_json               crypt               oauthlib            tblib\n",
      "_locale             cryptography        odbc                telnetlib\n",
      "_lsprof             csv                 olefile             tempfile\n",
      "_lzma               ctypes              opcode              tensorboard\n",
      "_markupbase         curl                openpyxl            tensorboard_plugin_wit\n",
      "_md5                curses              operator            tensorflow\n",
      "_msi                cv2                 opt_einsum          tensorflow_estimator\n",
      "_multibytecodec     cwp                 optparse            termcolor\n",
      "_multiprocessing    cycler              os                  terminado\n",
      "_nsis               cython              packaging           test\n",
      "_opcode             cythonmagic         pandas              test_data\n",
      "_operator           cytoolz             pandocfilters       test_pycosat\n",
      "_osx_support        dask                paramiko            testpath\n",
      "_overlapped         dataclasses         parser              tests\n",
      "_pickle             datetime            parso               textwrap\n",
      "_py_abc             dateutil            partd               this\n",
      "_pydecimal          dbi                 past                threading\n",
      "_pyio               dbm                 pasta               time\n",
      "_pylief             dde                 path                timeit\n",
      "_pyrsistent_version decimal             pathlib             timer\n",
      "_pytest             decorator           pathlib2            tkinter\n",
      "_queue              defusedxml          pathtools           tlz\n",
      "_random             diff_match_patch    patsy               token\n",
      "_sha1               difflib             pdb                 tokenize\n",
      "_sha256             dis                 pep8                toolz\n",
      "_sha3               distributed         perfmon             tornado\n",
      "_sha512             distutils           pexpect             tqdm\n",
      "_signal             doctest             pickle              trace\n",
      "_sitebuiltins       docutils            pickleshare         traceback\n",
      "_socket             dummy_threading     pickletools         tracemalloc\n",
      "_sqlite3            easy_install        pip                 traitlets\n",
      "_sre                email               pipes               tty\n",
      "_ssl                encodings           pkg_resources       turtle\n",
      "_stat               ensurepip           pkginfo             turtledemo\n",
      "_string             entrypoints         pkgutil             types\n",
      "_strptime           enum                platform            typing\n",
      "_struct             errno               plistlib            ujson\n",
      "_symtable           et_xmlfile          pluggy              unicodecsv\n",
      "_system_path        fastcache           ply                 unicodedata\n",
      "_testbuffer         faulthandler        poplib              unittest\n",
      "_testcapi           filecmp             posixpath           urllib\n",
      "_testconsole        fileinput           pprint              urllib3\n",
      "_testimportmultiple filelock            profile             uu\n",
      "_testmultiphase     flake8              prometheus_client   uuid\n",
      "_thread             flask               prompt_toolkit      venv\n",
      "_threading_local    fnmatch             pstats              warnings\n",
      "_tkinter            formatter           psutil              watchdog\n",
      "_tracemalloc        fractions           pty                 wave\n",
      "_warnings           fsspec              pvectorc            wcwidth\n",
      "_weakref            ftplib              py                  weakref\n",
      "_weakrefset         functools           py_compile          webbrowser\n",
      "_win32sysloader     future              pyasn1              webencodings\n",
      "_winapi             gast                pyasn1_modules      werkzeug\n",
      "_winxptheme         gc                  pyclbr              wheel\n",
      "_yaml               genericpath         pycodestyle         widgetsnbextension\n",
      "abc                 getopt              pycosat             win2kras\n",
      "absl                getpass             pycparser           win32api\n",
      "adodbapi            gettext             pycurl              win32clipboard\n",
      "afxres              gevent              pydoc               win32com\n",
      "aifc                glob                pydoc_data          win32con\n",
      "alabaster           glob2               pydocstyle          win32console\n",
      "anaconda_navigator  google_auth_oauthlib pyexpat             win32cred\n",
      "anaconda_project    greenlet            pyflakes            win32crypt\n",
      "antigravity         grpc                pygments            win32cryptcon\n",
      "argh                gzip                pylab               win32ctypes\n",
      "argparse            h5py                pylint              win32event\n",
      "array               hashlib             pyls                win32evtlog\n",
      "asn1crypto          heapdict            pyls_jsonrpc        win32evtlogutil\n",
      "ast                 heapq               pyodbc              win32file\n",
      "astor               hmac                pyparsing           win32gui\n",
      "astroid             html                pyreadline          win32gui_struct\n",
      "astropy             html5lib            pyrsistent          win32help\n",
      "astunparse          http                pytest              win32inet\n",
      "asynchat            hypothesis          pytest_arraydiff    win32inetcon\n",
      "asyncio             idlelib             pytest_astropy_header win32job\n",
      "asyncore            idna                pytest_doctestplus  win32lz\n",
      "atexit              imageio             pytest_openfiles    win32net\n",
      "atomicwrites        imagesize           pytest_remotedata   win32netcon\n",
      "attr                imaplib             pythoncom           win32pdh\n",
      "audioop             imghdr              pytz                win32pdhquery\n",
      "autopep8            imp                 pywin               win32pdhutil\n",
      "autoreload          importlib           pywin32_bootstrap   win32pipe\n",
      "babel               importlib_metadata  pywin32_testutil    win32print\n",
      "backcall            inspect             pywintypes          win32process\n",
      "backports           intervaltree        pywt                win32profile\n",
      "base64              io                  pyximport           win32ras\n",
      "bcrypt              ipaddress           qdarkstyle          win32rcparser\n",
      "bdb                 ipykernel           qtawesome           win32security\n",
      "binascii            ipykernel_launcher  qtconsole           win32service\n",
      "binhex              ipython_genutils    qtpy                win32serviceutil\n",
      "binstar_client      ipywidgets          queue               win32timezone\n",
      "bisect              isapi               quopri              win32trace\n",
      "bitarray            isort               random              win32traceutil\n",
      "bkcharts            isympy              rasutil             win32transaction\n",
      "bleach              itertools           re                  win32ts\n",
      "bokeh               itsdangerous        readline            win32ui\n",
      "boto                jdcal               regcheck            win32uiole\n",
      "bottleneck          jedi                regutil             win32verstamp\n",
      "brain_argparse      jinja2              reprlib             win32wnet\n",
      "brain_attrs         joblib              requests            win_inet_pton\n",
      "brain_builtin_inference json                requests_oauthlib   win_unicode_console\n",
      "brain_collections   json5               rlcompleter         wincertstore\n",
      "brain_crypt         jsonschema          rmagic              winerror\n",
      "brain_curses        jupyter             rope                winioctlcon\n",
      "brain_dataclasses   jupyter_client      rsa                 winnt\n",
      "brain_dateutil      jupyter_console     rtree               winperf\n",
      "brain_fstrings      jupyter_core        ruamel_yaml         winpty\n",
      "brain_functools     jupyterlab          run                 winreg\n",
      "brain_gi            jupyterlab_server   runpy               winsound\n",
      "brain_hashlib       keras_applications  sched               winxpgui\n",
      "brain_http          keras_preprocessing scipy               winxptheme\n",
      "brain_io            keyring             scripts             wrapt\n",
      "brain_mechanize     keyword             seaborn             wsgiref\n",
      "brain_multiprocessing kiwisolver          secrets             xdrlib\n",
      "brain_namedtuple_enum lazy_object_proxy   select              xlrd\n",
      "brain_nose          lib2to3             selectors           xlsxwriter\n",
      "brain_numpy_core_fromnumeric libarchive          send2trash          xlwings\n",
      "brain_numpy_core_function_base libfuturize         servicemanager      xlwt\n",
      "brain_numpy_core_multiarray libpasteurize       setuptools          xml\n",
      "brain_numpy_core_numeric lief                shelve              xmlrpc\n",
      "brain_numpy_core_numerictypes linecache           shlex               xmltodict\n",
      "brain_numpy_core_umath llvmlite            shutil              xxsubtype\n",
      "brain_numpy_ndarray locale              signal              yaml\n",
      "brain_numpy_random_mtrand locket              simplegeneric       yapf\n",
      "brain_numpy_utils   logging             singledispatch      yapftests\n",
      "brain_pkg_resources lxml                singledispatch_helpers zict\n",
      "brain_pytest        lzma                sip                 zipapp\n",
      "brain_qt            macpath             sipconfig           zipfile\n",
      "brain_random        mailbox             sipdistutils        zipimport\n",
      "brain_re            mailcap             site                zipp\n",
      "brain_six           markdown            six                 zlib\n",
      "brain_ssl           markupsafe          skimage             zmq\n",
      "brain_subprocess    marshal             sklearn             \n",
      "brain_threading     math                smtpd               \n",
      "brain_typing        matplotlib          smtplib             \n",
      "\n",
      "Enter any module name to get more help.  Or, type \"modules spam\" to search\n",
      "for modules whose name or summary contain the string \"spam\".\n",
      "\n"
     ]
    }
   ],
   "source": [
    "help('modules')"
   ]
  },
  {
   "cell_type": "code",
   "execution_count": null,
   "metadata": {},
   "outputs": [],
   "source": [
    "var = 10\n",
    "var1 = 20\n",
    "var2 = 30\n",
    "var3 = 2.9999\n",
    "var4 = \"google\"\n",
    "var5 = False \n",
    "\n",
    "#Variable creation rules\n",
    "\n",
    "1. variable should start with alphabet, _ (No integer, No special char)\n",
    "2. variable should not contain any special character (Only special char _) \n",
    "3. no space \n",
    "4. Use some good name (good standard)\n"
   ]
  },
  {
   "cell_type": "code",
   "execution_count": 3,
   "metadata": {},
   "outputs": [],
   "source": [
    "variable10 = 1000"
   ]
  },
  {
   "cell_type": "code",
   "execution_count": 4,
   "metadata": {},
   "outputs": [
    {
     "ename": "SyntaxError",
     "evalue": "invalid syntax (<ipython-input-4-bd3d9c581fa3>, line 1)",
     "output_type": "error",
     "traceback": [
      "\u001b[1;36m  File \u001b[1;32m\"<ipython-input-4-bd3d9c581fa3>\"\u001b[1;36m, line \u001b[1;32m1\u001b[0m\n\u001b[1;33m    10variable = 1000\u001b[0m\n\u001b[1;37m             ^\u001b[0m\n\u001b[1;31mSyntaxError\u001b[0m\u001b[1;31m:\u001b[0m invalid syntax\n"
     ]
    }
   ],
   "source": [
    "10variable = 1000"
   ]
  },
  {
   "cell_type": "code",
   "execution_count": 5,
   "metadata": {},
   "outputs": [
    {
     "ename": "SyntaxError",
     "evalue": "invalid syntax (<ipython-input-5-c590e9b970a0>, line 1)",
     "output_type": "error",
     "traceback": [
      "\u001b[1;36m  File \u001b[1;32m\"<ipython-input-5-c590e9b970a0>\"\u001b[1;36m, line \u001b[1;32m1\u001b[0m\n\u001b[1;33m    variable$ = 10\u001b[0m\n\u001b[1;37m            ^\u001b[0m\n\u001b[1;31mSyntaxError\u001b[0m\u001b[1;31m:\u001b[0m invalid syntax\n"
     ]
    }
   ],
   "source": [
    "variable$ = 10"
   ]
  },
  {
   "cell_type": "code",
   "execution_count": 6,
   "metadata": {},
   "outputs": [],
   "source": [
    "_var =10"
   ]
  },
  {
   "cell_type": "code",
   "execution_count": 7,
   "metadata": {},
   "outputs": [],
   "source": [
    "numberofvariable = 10"
   ]
  },
  {
   "cell_type": "code",
   "execution_count": 8,
   "metadata": {},
   "outputs": [
    {
     "ename": "SyntaxError",
     "evalue": "invalid syntax (<ipython-input-8-dd2a11cd5578>, line 1)",
     "output_type": "error",
     "traceback": [
      "\u001b[1;36m  File \u001b[1;32m\"<ipython-input-8-dd2a11cd5578>\"\u001b[1;36m, line \u001b[1;32m1\u001b[0m\n\u001b[1;33m    number of varibale = 10\u001b[0m\n\u001b[1;37m            ^\u001b[0m\n\u001b[1;31mSyntaxError\u001b[0m\u001b[1;31m:\u001b[0m invalid syntax\n"
     ]
    }
   ],
   "source": [
    "number of varibale = 10"
   ]
  },
  {
   "cell_type": "code",
   "execution_count": 9,
   "metadata": {},
   "outputs": [],
   "source": [
    "number_of_variable = 10"
   ]
  },
  {
   "cell_type": "code",
   "execution_count": null,
   "metadata": {},
   "outputs": [],
   "source": [
    "#Standard\n",
    "x =10\n",
    "y = 50\n",
    "\n",
    "height =10\n",
    "weight = 50\n"
   ]
  },
  {
   "cell_type": "code",
   "execution_count": 10,
   "metadata": {},
   "outputs": [
    {
     "name": "stdout",
     "output_type": "stream",
     "text": [
      "30\n"
     ]
    }
   ],
   "source": [
    "x = 10\n",
    "y = 15\n",
    "z = 20\n",
    "x = 30\n",
    "\n",
    "print(x)#Over write"
   ]
  },
  {
   "cell_type": "code",
   "execution_count": 11,
   "metadata": {},
   "outputs": [],
   "source": [
    "#datatypes \n",
    "\n",
    "\n",
    "#int\n",
    "\n",
    "var = 10\n",
    "\n",
    "#float\n",
    "\n",
    "var1 = 10.09\n",
    "\n",
    "#boolean\n",
    "\n",
    "var2 = True\n",
    "var2 = False\n",
    "#keyword\n",
    "\n",
    "#string  #Global data type ==> group/list/combination of characters\n",
    "#Whatever comes within single quote or double quote\n",
    "\n",
    "var3 = \"python\"\n",
    "var3 = \"hello\"\n",
    "var3 = \"19.00009\"\n",
    "var3 = \"20\"\n",
    "var3 = \"False\"\n",
    "var3 = \"false\"\n",
    "var3 = '6.00000'\n",
    "\n",
    "#char\n",
    "\n",
    "var4 = \"a\"\n",
    "var4 = \"z\"\n",
    "var4 = \"1\"\n",
    "\n",
    "#complex\n",
    "\n",
    "#Read"
   ]
  },
  {
   "cell_type": "code",
   "execution_count": null,
   "metadata": {},
   "outputs": [],
   "source": [
    "#functions ?\n",
    "\n",
    "#100 line program ===> 50 + 10\n",
    "#10 common lines are coming 5 time\n",
    "\n",
    "#10 line ==> function\n",
    "\n",
    "#inbuilt function or builtin function  ==> Already written in installed package \n",
    "#user defined function\n",
    "\n"
   ]
  },
  {
   "cell_type": "code",
   "execution_count": 16,
   "metadata": {},
   "outputs": [
    {
     "name": "stdout",
     "output_type": "stream",
     "text": [
      "5gl\n"
     ]
    }
   ],
   "source": [
    "a = \"gokul\" #==> User defined \n",
    "\n",
    "def length_function(val): #function definition\n",
    "    counter = 0\n",
    "    for i in val:\n",
    "        counter = counter + 1\n",
    "    return str(counter) + val[0] + val[-1]\n",
    "\n",
    "print(length_function(a)) #function call\n",
    "\n",
    "        "
   ]
  },
  {
   "cell_type": "code",
   "execution_count": 14,
   "metadata": {},
   "outputs": [
    {
     "name": "stdout",
     "output_type": "stream",
     "text": [
      "7\n"
     ]
    }
   ],
   "source": [
    "a = \"hundred\"\n",
    "print(len(a)) #==> inbuilt function #function call\n",
    "\n",
    "#Difference between inbuilt function and user def function\n",
    "\n",
    "#https://docs.python.org/3/library/functions.html"
   ]
  },
  {
   "cell_type": "code",
   "execution_count": 21,
   "metadata": {},
   "outputs": [
    {
     "name": "stdout",
     "output_type": "stream",
     "text": [
      "3\n",
      "5\n",
      "1\n"
     ]
    }
   ],
   "source": [
    "#print \n",
    "\n",
    "#len\n",
    "\n",
    "\n",
    "#Print  type few pgms "
   ]
  },
  {
   "cell_type": "code",
   "execution_count": 35,
   "metadata": {},
   "outputs": [
    {
     "name": "stdout",
     "output_type": "stream",
     "text": [
      "value of hello\n",
      "hello gokul\n",
      "welcome to TCS interview\n",
      "8\n",
      "8\n",
      "True\n",
      "False\n",
      "SAP employee\n"
     ]
    }
   ],
   "source": [
    "#() ==> function call\n",
    "\n",
    "gokul = \"SAP employee\"\n",
    "\n",
    "a = \"value of hello\"\n",
    "\n",
    "print(a) #inbuilt function for printing the arguement\n",
    "\n",
    "print(\"hello gokul\")\n",
    "\n",
    "print(\"welcome to TCS interview\")\n",
    "\n",
    "print(8)\n",
    "\n",
    "print(\"8\")\n",
    "\n",
    "print(True)\n",
    "print(False)\n",
    "\n",
    "print(gokul)\n",
    "\n",
    "#"
   ]
  },
  {
   "cell_type": "code",
   "execution_count": 39,
   "metadata": {},
   "outputs": [
    {
     "name": "stdout",
     "output_type": "stream",
     "text": [
      "h e llo python\n"
     ]
    }
   ],
   "source": [
    "a = \"h e llo python\"\n",
    "\n",
    "print(a, sep=\"*\")"
   ]
  },
  {
   "cell_type": "code",
   "execution_count": 44,
   "metadata": {},
   "outputs": [
    {
     "name": "stdout",
     "output_type": "stream",
     "text": [
      "<class 'int'>\n",
      "<class 'int'>\n",
      "<class 'str'>\n",
      "<class 'bool'>\n",
      "<class 'float'>\n",
      "10\n"
     ]
    }
   ],
   "source": [
    "#type  ==> funtion to identify data type or data strucuture of the arguement\n",
    "\n",
    "a = 10\n",
    "\n",
    "print(type(a))\n",
    "\n",
    "print(type(10))\n",
    "\n",
    "print(type(\"hello\"))\n",
    "\n",
    "print(type(False))\n",
    "\n",
    "print(type(10.09))\n",
    "\n",
    "print(a)"
   ]
  },
  {
   "cell_type": "code",
   "execution_count": null,
   "metadata": {},
   "outputs": [],
   "source": [
    "#Ubuntu\n",
    "\n",
    "#Install ?\n",
    "\n",
    "#Python installation\n",
    "\n",
    "step1:\n",
    "    \n",
    "which python\n",
    "\n",
    "==> /usr/bin/python some path ==> installaion dont\n",
    "\n",
    "step2:\n",
    "    \n",
    "python -version\n",
    "\n",
    "===> 3.9.6\n",
    "\n",
    "step3:\n",
    "    \n",
    "vim hello_world_program.py\n",
    "print(\"Hello wrold\")\n",
    "esc : wq !\n",
    "    \n",
    "step4:\n",
    "    \n",
    "Run the program\n",
    "\n",
    "python <filename>\n",
    "\n",
    "python hello_world_program.py\n"
   ]
  },
  {
   "cell_type": "code",
   "execution_count": null,
   "metadata": {},
   "outputs": [],
   "source": [
    "#Next week\n",
    "\n",
    "#september 4 and 5\n",
    "\n",
    "#Student seminar\n",
    "\n",
    "#SQL (Strucred query language ) 9.45 pm to 10.30 pm\n",
    "\n",
    "#https://www.w3schools.com/sql/\n",
    "\n",
    "#https://www.hackerrank.com/domains/sql\n"
   ]
  },
  {
   "cell_type": "code",
   "execution_count": 45,
   "metadata": {},
   "outputs": [
    {
     "name": "stdout",
     "output_type": "stream",
     "text": [
      "25\n"
     ]
    }
   ],
   "source": [
    "#program 1:\n",
    "\n",
    "#addition\n",
    "\n",
    "val1 = 5\n",
    "val2 = 20\n",
    "\n",
    "c = val1 + val2 \n",
    "\n",
    "print(c)\n",
    "\n"
   ]
  },
  {
   "cell_type": "code",
   "execution_count": 54,
   "metadata": {},
   "outputs": [
    {
     "name": "stdout",
     "output_type": "stream",
     "text": [
      "3\n"
     ]
    }
   ],
   "source": [
    "#sub\n",
    "\n",
    "val1 = 20\n",
    "val2 = 5\n",
    "\n",
    "c = val1 - val2 \n",
    "\n",
    "#multiply\n",
    "c = val1 * val2 \n",
    "\n",
    "c = val1 / val2 #divison\n",
    "\n",
    "c = val1 // val2 #floor division\n",
    "\n",
    "c = 12 % 4 #modulus\n",
    "\n",
    "c = 4 ** 4 #power\n",
    "\n",
    "c = -4 ** 3 # -4 * -4 * -4 ==> -64\n",
    "\n",
    "c = 99 % 7 # 1\n",
    "\n",
    "c = 129 % 14  #3\n",
    "\n",
    "c = 227 % 3 #2\n",
    "\n",
    "c = 129 % 14 \n",
    "\n",
    "print(c)\n"
   ]
  },
  {
   "cell_type": "code",
   "execution_count": 59,
   "metadata": {},
   "outputs": [
    {
     "name": "stdout",
     "output_type": "stream",
     "text": [
      "-2.857142857142857\n",
      "-3\n"
     ]
    }
   ],
   "source": [
    "#Floor divison\n",
    "\n",
    "val1 = -20\n",
    "val2 = 7\n",
    "\n",
    "c = val1 / val2\n",
    "d = val1 // val2\n",
    "\n",
    "print(c)\n",
    "print(d)\n",
    "\n",
    "#-20 // 3 ==> -7 \n",
    "#-30 // -9 ==> 3\n",
    "#-50 // 7  ===> -7.1111 ===> -8\n",
    "\n",
    "#-8 -7 -6 -5 -4 -3 -2 -1 0 1 2 3 4 "
   ]
  },
  {
   "cell_type": "code",
   "execution_count": 61,
   "metadata": {},
   "outputs": [
    {
     "name": "stdout",
     "output_type": "stream",
     "text": [
      "98.4704\n"
     ]
    }
   ],
   "source": [
    "#Comments and docstring\n",
    "\n",
    "#variable required for area calculation for circle circle \n",
    "radius = 5.6\n",
    "pi = 3.14\n",
    "\n",
    "#Formula for are calculation \n",
    "area = pi * radius * radius\n",
    "\n",
    "#Printing area of the circle\n",
    "print(area)"
   ]
  },
  {
   "cell_type": "code",
   "execution_count": 63,
   "metadata": {},
   "outputs": [
    {
     "name": "stdout",
     "output_type": "stream",
     "text": [
      "hello world\n",
      "hello python\n",
      "toss\n"
     ]
    }
   ],
   "source": [
    "#single line comment\n",
    "\n",
    "print(\"hello world\")\n",
    "print(\"hello python\")\n",
    "#print(\"welcome to germany\")\n",
    "print(\"toss\")"
   ]
  },
  {
   "cell_type": "code",
   "execution_count": 64,
   "metadata": {},
   "outputs": [
    {
     "name": "stdout",
     "output_type": "stream",
     "text": [
      "hello world\n",
      "hello python\n",
      "welcome to germany\n",
      "toss\n",
      "hello world\n",
      "toss\n"
     ]
    }
   ],
   "source": [
    "print(\"hello world\")\n",
    "print(\"hello python\")\n",
    "print(\"welcome to germany\")\n",
    "print(\"toss\")\n",
    "#Multi line comment or docstring\n",
    "\n",
    "'''\n",
    "print(\"hello world\")\n",
    "print(\"hello python\")\n",
    "print(\"welcome to germany\")\n",
    "print(\"toss\")\n",
    "'''\n",
    "print(\"hello world\")\n",
    "\n",
    "\"\"\"\n",
    "print(\"hello python\")\n",
    "print(\"welcome to germany\")\n",
    "\"\"\"\n",
    "print(\"toss\")"
   ]
  },
  {
   "cell_type": "code",
   "execution_count": null,
   "metadata": {},
   "outputs": [],
   "source": [
    "'''\n",
    "Function explanation:\n",
    "Function Input:\n",
    "Function Output:\n",
    "Function Logic\n",
    "\n",
    "'''\n",
    "#documentation\n",
    "def function"
   ]
  },
  {
   "cell_type": "code",
   "execution_count": null,
   "metadata": {},
   "outputs": [],
   "source": [
    "#int float bool str"
   ]
  },
  {
   "cell_type": "code",
   "execution_count": 65,
   "metadata": {},
   "outputs": [
    {
     "name": "stdout",
     "output_type": "stream",
     "text": [
      "<class 'float'>\n",
      "10\n",
      "<class 'int'>\n"
     ]
    }
   ],
   "source": [
    "#data type conversion\n",
    "\n",
    "#int ==> inbuilt function ==> conversion of any data type (* some exceptions) to interger \n",
    "\n",
    "#float to integer\n",
    "\n",
    "a = 10.99\n",
    "\n",
    "print(type(a))\n",
    "\n",
    "b = int(a)\n",
    "\n",
    "print(b)\n",
    "\n",
    "print(type(b))"
   ]
  },
  {
   "cell_type": "code",
   "execution_count": 67,
   "metadata": {},
   "outputs": [
    {
     "name": "stdout",
     "output_type": "stream",
     "text": [
      "<class 'int'>\n",
      "45.0\n",
      "<class 'float'>\n",
      "True\n"
     ]
    }
   ],
   "source": [
    "a = 45\n",
    "\n",
    "#int to float conversion\n",
    "print(type(a))\n",
    "\n",
    "b = float(a)\n",
    "\n",
    "print(b)\n",
    "\n",
    "print(type(b))\n",
    "\n",
    "#boolean conversion\n",
    "\n",
    "print(bool(a))"
   ]
  },
  {
   "cell_type": "code",
   "execution_count": null,
   "metadata": {},
   "outputs": [],
   "source": [
    "#bool\n",
    "#str\n",
    "\n",
    "#int ==> convert to float, str, bool\n",
    "#float ==> convert to str, int, bool\n",
    "#bool ==> convert to int float str\n",
    "#Str ==> convert to int float bool\n",
    "\n"
   ]
  },
  {
   "cell_type": "code",
   "execution_count": 1,
   "metadata": {},
   "outputs": [
    {
     "ename": "ValueError",
     "evalue": "invalid literal for int() with base 10: 'hello'",
     "output_type": "error",
     "traceback": [
      "\u001b[1;31m---------------------------------------------------------------------------\u001b[0m",
      "\u001b[1;31mValueError\u001b[0m                                Traceback (most recent call last)",
      "\u001b[1;32m<ipython-input-1-b1242aa60c66>\u001b[0m in \u001b[0;36m<module>\u001b[1;34m\u001b[0m\n\u001b[0;32m      3\u001b[0m \u001b[0ma\u001b[0m \u001b[1;33m=\u001b[0m \u001b[1;34m\"hello\"\u001b[0m\u001b[1;33m\u001b[0m\u001b[1;33m\u001b[0m\u001b[0m\n\u001b[0;32m      4\u001b[0m \u001b[1;33m\u001b[0m\u001b[0m\n\u001b[1;32m----> 5\u001b[1;33m \u001b[0mb\u001b[0m \u001b[1;33m=\u001b[0m \u001b[0mint\u001b[0m\u001b[1;33m(\u001b[0m\u001b[0ma\u001b[0m\u001b[1;33m)\u001b[0m\u001b[1;33m\u001b[0m\u001b[1;33m\u001b[0m\u001b[0m\n\u001b[0m\u001b[0;32m      6\u001b[0m \u001b[1;33m\u001b[0m\u001b[0m\n\u001b[0;32m      7\u001b[0m \u001b[0mprint\u001b[0m\u001b[1;33m(\u001b[0m\u001b[0mb\u001b[0m\u001b[1;33m)\u001b[0m\u001b[1;33m\u001b[0m\u001b[1;33m\u001b[0m\u001b[0m\n",
      "\u001b[1;31mValueError\u001b[0m: invalid literal for int() with base 10: 'hello'"
     ]
    }
   ],
   "source": [
    "#data type conversion:\n",
    "\n",
    "a = \"hello\"\n",
    "\n",
    "b = int(a)\n",
    "\n",
    "print(b)"
   ]
  },
  {
   "cell_type": "code",
   "execution_count": 2,
   "metadata": {},
   "outputs": [
    {
     "name": "stdout",
     "output_type": "stream",
     "text": [
      "6\n"
     ]
    }
   ],
   "source": [
    "\n",
    "a = \"6\"\n",
    "\n",
    "b = int(a)\n",
    "\n",
    "print(b)"
   ]
  },
  {
   "cell_type": "code",
   "execution_count": 4,
   "metadata": {},
   "outputs": [
    {
     "name": "stdout",
     "output_type": "stream",
     "text": [
      "6.9999\n"
     ]
    }
   ],
   "source": [
    "a = \"6.9999\"\n",
    "\n",
    "b = float(a)\n",
    "\n",
    "print(b)"
   ]
  },
  {
   "cell_type": "code",
   "execution_count": 7,
   "metadata": {},
   "outputs": [
    {
     "name": "stdout",
     "output_type": "stream",
     "text": [
      "True\n"
     ]
    }
   ],
   "source": [
    "a = \"True\"\n",
    "\n",
    "b = bool(a)\n",
    "\n",
    "print(b)"
   ]
  },
  {
   "cell_type": "code",
   "execution_count": 10,
   "metadata": {},
   "outputs": [
    {
     "name": "stdout",
     "output_type": "stream",
     "text": [
      "9\n",
      "8.99\n",
      "True\n"
     ]
    }
   ],
   "source": [
    "#string ==> global datatype\n",
    "\n",
    "a = 9\n",
    "b = 8.99\n",
    "c = True\n",
    "\n",
    "\n",
    "print(str(a))\n",
    "print(str(b))\n",
    "print(str(c))"
   ]
  },
  {
   "cell_type": "code",
   "execution_count": 11,
   "metadata": {},
   "outputs": [
    {
     "name": "stdout",
     "output_type": "stream",
     "text": [
      "9\n"
     ]
    }
   ],
   "source": [
    "a = 9.99\n",
    "print(int(a))"
   ]
  },
  {
   "cell_type": "code",
   "execution_count": null,
   "metadata": {},
   "outputs": [],
   "source": [
    "#input \n",
    "#output formating\n",
    "#string indexing\n"
   ]
  },
  {
   "cell_type": "code",
   "execution_count": 12,
   "metadata": {},
   "outputs": [
    {
     "name": "stdout",
     "output_type": "stream",
     "text": [
      "16\n",
      "19\n",
      "11\n"
     ]
    }
   ],
   "source": [
    "#static input / dynamic input\n",
    "\n",
    "a = 9 #static or hard coded\n",
    "\n",
    "print(7 + a)\n",
    "\n",
    "print(10 + a)\n",
    "\n",
    "print(20-a)\n",
    "\n"
   ]
  },
  {
   "cell_type": "code",
   "execution_count": 20,
   "metadata": {},
   "outputs": [
    {
     "name": "stdout",
     "output_type": "stream",
     "text": [
      "True\n",
      "True\n",
      "<class 'str'>\n"
     ]
    }
   ],
   "source": [
    "#input function\n",
    "\n",
    "a = input() #dynamically collecting input from user\n",
    "\n",
    "print(a)\n",
    "\n",
    "print(type(a))\n",
    "\n",
    "#str ===> global datatype"
   ]
  },
  {
   "cell_type": "code",
   "execution_count": 22,
   "metadata": {},
   "outputs": [
    {
     "name": "stdout",
     "output_type": "stream",
     "text": [
      "python\n"
     ]
    },
    {
     "ename": "ValueError",
     "evalue": "invalid literal for int() with base 10: 'python'",
     "output_type": "error",
     "traceback": [
      "\u001b[1;31m---------------------------------------------------------------------------\u001b[0m",
      "\u001b[1;31mValueError\u001b[0m                                Traceback (most recent call last)",
      "\u001b[1;32m<ipython-input-22-7fea9aaac55d>\u001b[0m in \u001b[0;36m<module>\u001b[1;34m\u001b[0m\n\u001b[1;32m----> 1\u001b[1;33m \u001b[0ma\u001b[0m \u001b[1;33m=\u001b[0m \u001b[0mint\u001b[0m\u001b[1;33m(\u001b[0m\u001b[0minput\u001b[0m\u001b[1;33m(\u001b[0m\u001b[1;33m)\u001b[0m\u001b[1;33m)\u001b[0m \u001b[1;31m#collecting integer from user\u001b[0m\u001b[1;33m\u001b[0m\u001b[1;33m\u001b[0m\u001b[0m\n\u001b[0m\u001b[0;32m      2\u001b[0m \u001b[1;33m\u001b[0m\u001b[0m\n\u001b[0;32m      3\u001b[0m \u001b[0mprint\u001b[0m\u001b[1;33m(\u001b[0m\u001b[0ma\u001b[0m\u001b[1;33m)\u001b[0m\u001b[1;33m\u001b[0m\u001b[1;33m\u001b[0m\u001b[0m\n\u001b[0;32m      4\u001b[0m \u001b[1;33m\u001b[0m\u001b[0m\n\u001b[0;32m      5\u001b[0m \u001b[0mprint\u001b[0m\u001b[1;33m(\u001b[0m\u001b[0mtype\u001b[0m\u001b[1;33m(\u001b[0m\u001b[0ma\u001b[0m\u001b[1;33m)\u001b[0m\u001b[1;33m)\u001b[0m\u001b[1;33m\u001b[0m\u001b[1;33m\u001b[0m\u001b[0m\n",
      "\u001b[1;31mValueError\u001b[0m: invalid literal for int() with base 10: 'python'"
     ]
    }
   ],
   "source": [
    "a = int(input()) #collecting integer from user\n",
    "\n",
    "print(a)\n",
    "\n",
    "print(type(a))"
   ]
  },
  {
   "cell_type": "code",
   "execution_count": 23,
   "metadata": {},
   "outputs": [
    {
     "name": "stdout",
     "output_type": "stream",
     "text": [
      "6.777\n",
      "6.777\n",
      "<class 'float'>\n"
     ]
    }
   ],
   "source": [
    "a = float(input())\n",
    "\n",
    "print(a)\n",
    "\n",
    "print(type(a))"
   ]
  },
  {
   "cell_type": "code",
   "execution_count": null,
   "metadata": {},
   "outputs": [],
   "source": [
    "a = input(\"Please enter the pin\")\n",
    "\n",
    "print(a)"
   ]
  },
  {
   "cell_type": "code",
   "execution_count": 2,
   "metadata": {},
   "outputs": [
    {
     "name": "stdout",
     "output_type": "stream",
     "text": [
      "please enter value5.999\n",
      "True\n"
     ]
    }
   ],
   "source": [
    "a = bool(input(\"please enter value: \"))\n",
    "\n",
    "print(a)"
   ]
  },
  {
   "cell_type": "code",
   "execution_count": 6,
   "metadata": {},
   "outputs": [
    {
     "name": "stdout",
     "output_type": "stream",
     "text": [
      "The Area of cone is  2544.080550726\n",
      "The Area of cone (integer) 2544\n",
      "The Area of cone with 24.7 height and 9.97 radius is 2544.080550726\n"
     ]
    }
   ],
   "source": [
    "#Output formatting\n",
    "#Convert output to a integer\n",
    "\n",
    "radius = 9.97\n",
    "height = 24.7\n",
    "\n",
    "area_cone = 0.33 * 3.14 * radius * radius * height\n",
    "\n",
    "print(\"The Area of cone is \",area_cone)\n",
    "\n",
    "print(\"The Area of cone (integer)\", int(area_cone))\n",
    "\n",
    "print(\"The Area of cone with {} height and {} radius is {}\".format(height,radius,area_cone))\n"
   ]
  },
  {
   "cell_type": "code",
   "execution_count": null,
   "metadata": {},
   "outputs": [],
   "source": []
  }
 ],
 "metadata": {
  "kernelspec": {
   "display_name": "Python 3",
   "language": "python",
   "name": "python3"
  },
  "language_info": {
   "codemirror_mode": {
    "name": "ipython",
    "version": 3
   },
   "file_extension": ".py",
   "mimetype": "text/x-python",
   "name": "python",
   "nbconvert_exporter": "python",
   "pygments_lexer": "ipython3",
   "version": "3.7.6"
  }
 },
 "nbformat": 4,
 "nbformat_minor": 4
}
