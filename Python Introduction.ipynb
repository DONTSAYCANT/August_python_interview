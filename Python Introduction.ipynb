{
 "cells": [
  {
   "cell_type": "code",
   "execution_count": null,
   "metadata": {},
   "outputs": [],
   "source": [
    "#Python \n",
    "\n",
    "#Introduction\n",
    "\n",
    "#why programming\n",
    "\n",
    "#why python programming\n",
    "\n",
    "#Course ?\n",
    "\n",
    "#Efficient programmer\n",
    "#Own coding \n",
    "\n",
    "\n",
    "#IDLE ==> python interpreter  https://www.python.org/downloads/  ===> python installation\n",
    "\n",
    "#Jupyter \n",
    "\n",
    "#Hackerrank Hackerearth Leetcode ===> sites for first round \n",
    "\n",
    "#Requirement:\n",
    "\n",
    "#2 hours for programming\n",
    "#1 hour for theory\n",
    "#40 mins for class\n",
    "\n",
    "\n",
    "TASK1 :#Hackerrank:\n",
    "\n",
    "#Python (400 -500 points)\n",
    "#Regex (300 -400 points) ===> Pattern matching ===> Regular expression\n",
    "#SQL (400 points) ==> rdbms \n",
    "\n",
    "\n",
    "TASK2 #Interview questions and programming\n",
    "\n",
    "#100-150 interview questions geeksforgeeks Input , program logic (10 pgm) ==> dont refer google\n",
    "#Daily task 3 to 5 programs  https://github.com/DONTSAYCANT/python_may_june_batch/blob/main/Tasks_section\n",
    "\n",
    "Task3 #Project \n",
    "\n",
    "#4-6 projects \n",
    "\n",
    "\n",
    "Task4 #Test\n",
    "\n",
    "3 test (monthly once)\n",
    "\n",
    "ist test ==> mcq + programming\n",
    "remianing test ==> programming\n",
    "\n",
    "\n",
    "Task5 #seminar and session (three weeks once)\n",
    "\n",
    "#Modules ==> os \n",
    "\n",
    "Task 6 Mock interview + Resume preparation + linkedin profile + github profile\n",
    "\n",
    "#Prerequis:\n",
    "\n",
    "#Python IDLE installation\n",
    "#Hackerrank account creation\n",
    "#github account creation\n",
    "#Mail id, hackeraccount, github account whatsapp\n",
    "\n",
    "#python 2 python 3 ==> difference ?\n",
    "#Interpreter compiler ===> difference ?\n",
    "#Why python ? advantages of python\n",
    "\n",
    "\n"
   ]
  },
  {
   "cell_type": "code",
   "execution_count": null,
   "metadata": {},
   "outputs": [],
   "source": [
    "#Programming ?\n",
    "\n",
    "\n",
    "#Python ?\n",
    "\n",
    "#web development ==> Django + python + sql + css + html\n",
    "#Testing  ==> python + selenium + packages + debugging \n",
    "#Developer ==> python + advanced level data structures \n",
    "#devops ==> python + devops tools\n",
    "#network engineer + Admin ==> python\n",
    "#Machine learning + data science + artificial intelligent ==> python + \n",
    "#Robatic process automation ==> python\n",
    "#SAP ==> abap + programming lnaguage\n",
    "\n",
    "\n",
    "#programming terms:\n",
    "\n",
    "#Variables  ===> variable creation rules in python\n",
    "#Data types ==> integer float boolean character string\n",
    "#Data structures\n",
    "#operators\n",
    "#functions ===> inbuilt function, user defined function\n",
    "\n",
    "\n",
    "1) variable creation rules in python\n",
    "2) integer float boolean character string\n",
    "3) operators in python + - * / // ** %\n"
   ]
  },
  {
   "cell_type": "code",
   "execution_count": null,
   "metadata": {},
   "outputs": [],
   "source": [
    "#python\n",
    "a = 10\n",
    "\n",
    "#c\n",
    "int a = 10;\n"
   ]
  },
  {
   "cell_type": "code",
   "execution_count": 2,
   "metadata": {},
   "outputs": [
    {
     "ename": "SyntaxError",
     "evalue": "invalid syntax (<ipython-input-2-0d85238a803e>, line 2)",
     "output_type": "error",
     "traceback": [
      "\u001b[1;36m  File \u001b[1;32m\"<ipython-input-2-0d85238a803e>\"\u001b[1;36m, line \u001b[1;32m2\u001b[0m\n\u001b[1;33m    1var = 10\u001b[0m\n\u001b[1;37m       ^\u001b[0m\n\u001b[1;31mSyntaxError\u001b[0m\u001b[1;31m:\u001b[0m invalid syntax\n"
     ]
    }
   ],
   "source": [
    "var1 = 10\n",
    "1var = 10"
   ]
  },
  {
   "cell_type": "code",
   "execution_count": null,
   "metadata": {},
   "outputs": [],
   "source": []
  },
  {
   "cell_type": "code",
   "execution_count": null,
   "metadata": {},
   "outputs": [],
   "source": []
  },
  {
   "cell_type": "code",
   "execution_count": null,
   "metadata": {},
   "outputs": [],
   "source": []
  },
  {
   "cell_type": "code",
   "execution_count": null,
   "metadata": {},
   "outputs": [],
   "source": []
  },
  {
   "cell_type": "code",
   "execution_count": null,
   "metadata": {},
   "outputs": [],
   "source": []
  },
  {
   "cell_type": "code",
   "execution_count": null,
   "metadata": {},
   "outputs": [],
   "source": []
  }
 ],
 "metadata": {
  "kernelspec": {
   "display_name": "Python 3",
   "language": "python",
   "name": "python3"
  },
  "language_info": {
   "codemirror_mode": {
    "name": "ipython",
    "version": 3
   },
   "file_extension": ".py",
   "mimetype": "text/x-python",
   "name": "python",
   "nbconvert_exporter": "python",
   "pygments_lexer": "ipython3",
   "version": "3.7.6"
  }
 },
 "nbformat": 4,
 "nbformat_minor": 4
}
