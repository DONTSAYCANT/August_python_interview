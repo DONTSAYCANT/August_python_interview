{
 "cells": [
  {
   "cell_type": "code",
   "execution_count": null,
   "metadata": {},
   "outputs": [],
   "source": [
    "#File handling\n",
    "\n",
    "\n",
    "#Json module Ravi\n",
    "https://www.geeksforgeeks.org/read-json-file-using-python/\n",
    "https://www.w3schools.com/python/python_json.asp\n",
    "    \n",
    "#Logging module"
   ]
  },
  {
   "cell_type": "code",
   "execution_count": 1,
   "metadata": {},
   "outputs": [],
   "source": [
    "#https://www.w3schools.com/python/python_file_handling.asp\n",
    "\n",
    "#Real time input output handling, throughout world\n",
    "\n",
    "#how to read the file\n",
    "#write content\n",
    "#replace\n",
    "#mkdir\n",
    "#create dir"
   ]
  },
  {
   "cell_type": "code",
   "execution_count": null,
   "metadata": {},
   "outputs": [],
   "source": [
    "#['kbkhbv kb vkjb jk,vb jk, vk,j, v vmnv mn vmn']"
   ]
  },
  {
   "cell_type": "code",
   "execution_count": 13,
   "metadata": {},
   "outputs": [
    {
     "name": "stdout",
     "output_type": "stream",
     "text": [
      "hello\n",
      "welcome to python\n",
      "please check the new cointent\n"
     ]
    }
   ],
   "source": [
    "#open/read\n",
    "#if file unavailable it will throw FileNotFoundError\n",
    "\n",
    "f = open(\"syntax_check.txt\")\n",
    "f = open(\"syntax_check.txt\",\"r\")\n",
    "\n",
    "#read functionality|\n",
    "print(f.read())\n",
    "\n",
    "var = f.read()\n",
    "\n",
    "f.close()\n",
    "\n",
    "#read mode ===> you can only read the file\n",
    "#write mode \n",
    "#x mode \n",
    "\n",
    "#777\n",
    "\n",
    "#4 read 2 write 1 execute\n",
    "\n",
    "#chmod 755 <file_name>\n",
    "\n",
    "#chmod 700 <file_name>\n",
    "\n"
   ]
  },
  {
   "cell_type": "code",
   "execution_count": 37,
   "metadata": {},
   "outputs": [],
   "source": [
    "#write\n",
    "#if file unavailable it will create an empty file\n",
    "\n",
    "v = open(\"ffff1.txt\",\"w\")\n",
    "\n",
    "v.write(\"hi gokul\")\n",
    "v.write(\"\\n\")\n",
    "v.write(\"please study python daily\")\n",
    "v.write(\"welcome to python\")\n",
    "v.close()\n",
    "\n"
   ]
  },
  {
   "cell_type": "code",
   "execution_count": 39,
   "metadata": {},
   "outputs": [],
   "source": [
    "\n",
    "v = open(\"f1.txt\",\"a\")\n",
    "\n",
    "v.write(\"hi gokul\")\n",
    "v.write(\"\\n\")\n",
    "v.write(\"please study python daily\")\n",
    "v.write(\"welcome to python\")\n",
    "v.close()"
   ]
  },
  {
   "cell_type": "code",
   "execution_count": 41,
   "metadata": {},
   "outputs": [],
   "source": [
    "v = open(\"f1.txt\",\"a\")\n",
    "v.write(\"python write over writes everythin\")\n",
    "v.close()"
   ]
  },
  {
   "cell_type": "code",
   "execution_count": 45,
   "metadata": {},
   "outputs": [
    {
     "name": "stdout",
     "output_type": "stream",
     "text": [
      "hi gokul\n",
      "please study python dailywelcome to pytho\n"
     ]
    }
   ],
   "source": [
    "v = open(\"f1.txt\",\"r\")\n",
    "print(v.read(50))\n"
   ]
  },
  {
   "cell_type": "code",
   "execution_count": 48,
   "metadata": {},
   "outputs": [
    {
     "name": "stdout",
     "output_type": "stream",
     "text": [
      "hi gokul\n",
      "\n",
      "please study python dailywelcome to pythonhi gokul\n",
      "\n"
     ]
    }
   ],
   "source": [
    "v = open(\"f1.txt\",\"r\")\n",
    "print(v.readline())\n",
    "print(v.readline())"
   ]
  },
  {
   "cell_type": "code",
   "execution_count": 49,
   "metadata": {},
   "outputs": [
    {
     "name": "stdout",
     "output_type": "stream",
     "text": [
      "hi gokul\n",
      "\n",
      "please study python dailywelcome to pythonhi gokul\n",
      "\n",
      "please study python dailywelcome to pythonhi gokul\n",
      "\n",
      "please study python dailywelcome to pythonhi gokul\n",
      "\n",
      "please study python dailywelcome to pythonhi gokul\n",
      "\n",
      "please study python dailywelcome to pythonhi gokul\n",
      "\n",
      "please study python dailywelcome to pythonhi gokul\n",
      "\n",
      "please study python dailywelcome to pythonhi gokul\n",
      "\n",
      "please study python dailywelcome to pythonhi gokul\n",
      "\n",
      "please study python dailywelcome to pythonhi gokul\n",
      "\n",
      "please study python dailywelcome to pythonhi gokul\n",
      "\n",
      "please study python dailywelcome to pythonpython write over writes everythin\n"
     ]
    }
   ],
   "source": [
    "v = open(\"f1.txt\",\"r\")\n",
    "for i in v:\n",
    "    print(i)"
   ]
  },
  {
   "cell_type": "code",
   "execution_count": null,
   "metadata": {},
   "outputs": [],
   "source": []
  },
  {
   "cell_type": "code",
   "execution_count": null,
   "metadata": {},
   "outputs": [],
   "source": []
  }
 ],
 "metadata": {
  "kernelspec": {
   "display_name": "Python 3",
   "language": "python",
   "name": "python3"
  },
  "language_info": {
   "codemirror_mode": {
    "name": "ipython",
    "version": 3
   },
   "file_extension": ".py",
   "mimetype": "text/x-python",
   "name": "python",
   "nbconvert_exporter": "python",
   "pygments_lexer": "ipython3",
   "version": "3.7.6"
  }
 },
 "nbformat": 4,
 "nbformat_minor": 4
}
