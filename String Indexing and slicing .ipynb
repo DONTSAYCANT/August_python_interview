{
 "cells": [
  {
   "cell_type": "code",
   "execution_count": null,
   "metadata": {},
   "outputs": [],
   "source": [
    "#string ==> \n",
    "\n",
    "#Global datatype\n",
    "#anything inside \"\" , ''\n",
    "#list characters\n",
    "\n",
    "#\"python\" ===> p   y   t  h  o   n"
   ]
  },
  {
   "cell_type": "code",
   "execution_count": 2,
   "metadata": {},
   "outputs": [
    {
     "name": "stdout",
     "output_type": "stream",
     "text": [
      "python\n",
      "h\n",
      "n\n"
     ]
    },
    {
     "ename": "IndexError",
     "evalue": "string index out of range",
     "output_type": "error",
     "traceback": [
      "\u001b[1;31m---------------------------------------------------------------------------\u001b[0m",
      "\u001b[1;31mIndexError\u001b[0m                                Traceback (most recent call last)",
      "\u001b[1;32m<ipython-input-2-fdb5942e74db>\u001b[0m in \u001b[0;36m<module>\u001b[1;34m\u001b[0m\n\u001b[0;32m     11\u001b[0m \u001b[0mprint\u001b[0m\u001b[1;33m(\u001b[0m\u001b[0ma\u001b[0m\u001b[1;33m[\u001b[0m\u001b[1;33m-\u001b[0m\u001b[1;36m1\u001b[0m\u001b[1;33m]\u001b[0m\u001b[1;33m)\u001b[0m\u001b[1;33m\u001b[0m\u001b[1;33m\u001b[0m\u001b[0m\n\u001b[0;32m     12\u001b[0m \u001b[1;33m\u001b[0m\u001b[0m\n\u001b[1;32m---> 13\u001b[1;33m \u001b[0mprint\u001b[0m\u001b[1;33m(\u001b[0m\u001b[0ma\u001b[0m\u001b[1;33m[\u001b[0m\u001b[1;36m10\u001b[0m\u001b[1;33m]\u001b[0m\u001b[1;33m)\u001b[0m\u001b[1;33m\u001b[0m\u001b[1;33m\u001b[0m\u001b[0m\n\u001b[0m\u001b[0;32m     14\u001b[0m \u001b[1;33m\u001b[0m\u001b[0m\n\u001b[0;32m     15\u001b[0m \u001b[1;33m\u001b[0m\u001b[0m\n",
      "\u001b[1;31mIndexError\u001b[0m: string index out of range"
     ]
    }
   ],
   "source": [
    "#()  ==> function call\n",
    "#[]  ==> indexing / slicing \n",
    "\n",
    "\n",
    "a = \"python\"\n",
    "\n",
    "print(a)\n",
    "\n",
    "print(a[-3])\n",
    "\n",
    "print(a[-1])\n",
    "\n",
    "#print(a[10])\n",
    "\n",
    "#print(a[-7])\n",
    "\n",
    "print(a[3])\n",
    "\n",
    "\n",
    "#forward indexing  0\n",
    "#Reverse indexing  -1 "
   ]
  },
  {
   "cell_type": "code",
   "execution_count": 3,
   "metadata": {},
   "outputs": [
    {
     "name": "stdout",
     "output_type": "stream",
     "text": [
      "s\n",
      "n\n",
      "c\n",
      "e\n",
      "e\n",
      " \n",
      "e\n",
      "i\n",
      "t\n"
     ]
    }
   ],
   "source": [
    "a = \"computer science\"\n",
    "\n",
    "print(a[-7])  #s\n",
    "\n",
    "print(a[-3])  #n\n",
    "\n",
    "print(a[10])  #i\n",
    "\n",
    "print(a[-10]) #t\n",
    "\n",
    "print(a[12])  #e\n",
    "\n",
    "print(a[8])  #s\n",
    "\n",
    "print(a[-1])  #e\n",
    "\n",
    "print(a[-5]) #i\n",
    "\n",
    "print(a[5]) #t\n"
   ]
  },
  {
   "cell_type": "code",
   "execution_count": 11,
   "metadata": {},
   "outputs": [
    {
     "name": "stdout",
     "output_type": "stream",
     "text": [
      "tho\n",
      "pyth\n",
      "yth\n",
      "thon\n",
      "pytho\n",
      "hon\n",
      "python\n",
      "yth\n",
      "tho\n",
      "pyth\n"
     ]
    }
   ],
   "source": [
    "#slicing\n",
    "\n",
    "#[starting value (including) : ending value (excluding) : interval (optional)]\n",
    "\n",
    "#[starting value (including) : ending value (excluding) ]\n",
    "\n",
    "\n",
    "a = \"python\"\n",
    "\n",
    "\n",
    "print(a[2:5]) #tho\n",
    "print(a[0:4]) #pyth\n",
    "print(a[-5:-2]) #yth\n",
    "print(a[2:10]) #thon\n",
    "print(a[:5]) #pytho\n",
    "print(a[3:]) #hon\n",
    "print(a[:]) #python\n",
    "print(a[-5:4]) #yth \n",
    "print(a[2:-1]) #tho\n",
    "print(a[0:-2])  #pyth \n",
    "\n"
   ]
  },
  {
   "cell_type": "code",
   "execution_count": 10,
   "metadata": {},
   "outputs": [
    {
     "name": "stdout",
     "output_type": "stream",
     "text": [
      "pyth\n",
      "yth\n",
      "thon\n"
     ]
    }
   ],
   "source": [
    "a = \"python\"\n",
    "\n",
    "print(a[0:-2])\n",
    "\n",
    "print(a[-5:4])\n",
    "\n",
    "print(a[2:10])"
   ]
  },
  {
   "cell_type": "code",
   "execution_count": 1,
   "metadata": {},
   "outputs": [
    {
     "name": "stdout",
     "output_type": "stream",
     "text": [
      "ng\n",
      "ompute\n",
      "ience_engineer\n",
      "ter_science_engine\n",
      "_science_eng\n",
      "computer_science_engineering\n",
      "computer_science_engine\n",
      "ter_science_engineering\n",
      "ering\n",
      "compu\n"
     ]
    }
   ],
   "source": [
    "a = \"computer_science_engineering\"\n",
    "\n",
    "print(a[-10:20]) #ng \n",
    "print(a[1:7])  #ompute \n",
    "print(a[-17:-3]) #ience_engineer  \n",
    "print(a[5:-5])  #ter_science_engine\n",
    "print(a[-20:20]) #_science_eng\n",
    "print(a[:]) #full\n",
    "print(a[:-5]) #computer_science_engine\n",
    "print(a[5:]) #ter_science_engineering\n",
    "print(a[-5:]) #ering\n",
    "print(a[:5]) #compu\n",
    "\n"
   ]
  },
  {
   "cell_type": "code",
   "execution_count": 5,
   "metadata": {},
   "outputs": [
    {
     "name": "stdout",
     "output_type": "stream",
     "text": [
      "mputer sci\n",
      "mputer sci\n",
      "mue c\n"
     ]
    }
   ],
   "source": [
    "#Interval - Method 1 \n",
    "\n",
    "a = \"computer science\"\n",
    "\n",
    "print(a[2:12])\n",
    "print(a[2:12:1])\n",
    "print(a[2:12:2])\n",
    "\n",
    "print(a[-10:10:3])\n",
    "print(a[-5:-1:1])\n",
    "print(a[-8:-2:10])\n",
    "print(a[5::3])\n",
    "print(a[:5:2])\n",
    "print(a[10:14:2])\n",
    "print(a[-10:-3:3])\n",
    "print(5:12:5)\n",
    "print(a[3:-3:3])\n",
    "print(a[-5:-3:20])\n"
   ]
  },
  {
   "cell_type": "code",
   "execution_count": 6,
   "metadata": {},
   "outputs": [
    {
     "name": "stdout",
     "output_type": "stream",
     "text": [
      "es\n"
     ]
    }
   ],
   "source": [
    "print(a[-10:10:3])"
   ]
  },
  {
   "cell_type": "code",
   "execution_count": 1,
   "metadata": {},
   "outputs": [
    {
     "name": "stdout",
     "output_type": "stream",
     "text": [
      "ph\n",
      "h_o\n",
      "pora\n",
      "o_r\n"
     ]
    }
   ],
   "source": [
    "var1 = \"python_program\"\n",
    "\n",
    "print(var1[:6:3]) #ravi  #ph\n",
    "\n",
    "print(var1[3:-3:3]) #mani  #hon_prog[3:-3] #h_o\n",
    "\n",
    "print(var1[::4]) #gok # pora\n",
    "\n",
    "print(var1[4:-4:2]) #Sar  #o_r"
   ]
  },
  {
   "cell_type": "code",
   "execution_count": 2,
   "metadata": {},
   "outputs": [
    {
     "name": "stdout",
     "output_type": "stream",
     "text": [
      "cmue_cec\n",
      "computer_science\n",
      "cu_e\n",
      "cmu\n",
      "t_ic\n"
     ]
    }
   ],
   "source": [
    "#Interval - Method 2 (With from, to, interval values ((all three values)))\n",
    "\n",
    "\n",
    "var3 = \"computer_science\"\n",
    "\n",
    "print(var3[::2]) #cmue_cec\n",
    "print(var3[::1]) #computer_science\n",
    "print(var3[::4]) #cu_u\n",
    "print(var3[:5:2]) #compu #cmu\n",
    "print(var3[5:-1:3]) #t_ic\n",
    "\n",
    "\n",
    "\n",
    "#\n",
    "#print(var3[5:-5:2])\n",
    "#print(var3[-5:5:2])\n",
    "#print(var3[5:-5:-2])\n",
    "#print(var3[-5:5:-2])\n",
    "\n"
   ]
  },
  {
   "cell_type": "code",
   "execution_count": null,
   "metadata": {},
   "outputs": [],
   "source": [
    "#Interval - Method 3 "
   ]
  },
  {
   "cell_type": "code",
   "execution_count": null,
   "metadata": {},
   "outputs": [],
   "source": [
    "#Interval - Method 4"
   ]
  }
 ],
 "metadata": {
  "kernelspec": {
   "display_name": "Python 3",
   "language": "python",
   "name": "python3"
  },
  "language_info": {
   "codemirror_mode": {
    "name": "ipython",
    "version": 3
   },
   "file_extension": ".py",
   "mimetype": "text/x-python",
   "name": "python",
   "nbconvert_exporter": "python",
   "pygments_lexer": "ipython3",
   "version": "3.7.6"
  }
 },
 "nbformat": 4,
 "nbformat_minor": 4
}
